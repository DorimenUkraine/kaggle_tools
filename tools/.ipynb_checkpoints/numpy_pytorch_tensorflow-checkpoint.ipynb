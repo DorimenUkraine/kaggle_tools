{
 "cells": [
  {
   "cell_type": "markdown",
   "metadata": {
    "id": "2r41AdmF1lev"
   },
   "source": [
    "Видео: https://www.youtube.com/watch?v=D6qFFVmsRos&t=0s&ab_channel=DeepLearningSchool"
   ]
  },
  {
   "cell_type": "markdown",
   "metadata": {
    "id": "JR3NCvhR_us_"
   },
   "source": [
    "<h3 style=\"text-align: center;\"><b>Школа глубокого обучения ФПМИ МФТИ</b></h3>\n",
    "<h3 style=\"text-align: center;\"><b>Базовый поток. Осень 2020</b></h3>\n",
    "\n",
    "<h1 style=\"text-align: center;\"><b>Библиотека NumPy</b></h1>"
   ]
  },
  {
   "cell_type": "markdown",
   "metadata": {
    "id": "aZUMBmav_utA"
   },
   "source": [
    "***Мы могли писать такой код и ни о чем не задумываться.***"
   ]
  },
  {
   "cell_type": "code",
   "execution_count": 1,
   "metadata": {
    "colab": {
     "base_uri": "https://localhost:8080/"
    },
    "executionInfo": {
     "elapsed": 2909,
     "status": "ok",
     "timestamp": 1615408712000,
     "user": {
      "displayName": "Viktor Andriichuk",
      "photoUrl": "https://lh3.googleusercontent.com/a-/AOh14GhbWW5SY1oXaRK6VciBjiJtDQxh16S41U9lJvKoSQ=s64",
      "userId": "15162222285531888975"
     },
     "user_tz": -120
    },
    "id": "FSHek2dN_utA",
    "outputId": "41704fae-c5fb-4183-bbb7-4d000dcd776b"
   },
   "outputs": [
    {
     "name": "stdout",
     "output_type": "stream",
     "text": [
      "249999975000000\n",
      "Wall time: 2.1 s\n"
     ]
    }
   ],
   "source": [
    "%%time\n",
    "arr = []\n",
    "n = 10**7\n",
    "for i in range(n):\n",
    "    arr.append(i*5)\n",
    "\n",
    "print(sum(arr))"
   ]
  },
  {
   "cell_type": "markdown",
   "metadata": {
    "id": "fejD4AKE_utB"
   },
   "source": [
    "***Или такой...***"
   ]
  },
  {
   "cell_type": "code",
   "execution_count": 2,
   "metadata": {
    "colab": {
     "base_uri": "https://localhost:8080/"
    },
    "executionInfo": {
     "elapsed": 1844,
     "status": "ok",
     "timestamp": 1615408733285,
     "user": {
      "displayName": "Viktor Andriichuk",
      "photoUrl": "https://lh3.googleusercontent.com/a-/AOh14GhbWW5SY1oXaRK6VciBjiJtDQxh16S41U9lJvKoSQ=s64",
      "userId": "15162222285531888975"
     },
     "user_tz": -120
    },
    "id": "EtR2sF38_utB",
    "outputId": "d90584a3-1bc1-45cd-b3cc-3ae11cff19f9"
   },
   "outputs": [
    {
     "name": "stdout",
     "output_type": "stream",
     "text": [
      "49999995000000\n",
      "Wall time: 748 ms\n"
     ]
    }
   ],
   "source": [
    "%%time\n",
    "def summ(a):\n",
    "    ans = 0\n",
    "    for i in a:\n",
    "        ans += i\n",
    "    return ans\n",
    "\n",
    "arr = range(10**7)\n",
    "\n",
    "print(summ(arr))"
   ]
  },
  {
   "cell_type": "markdown",
   "metadata": {
    "id": "J1upNY5z_utC"
   },
   "source": [
    "# Библиотека Numpy.\n",
    "- ***``Numpy`` - это библиотека Python для вычислительно эффективных операций с многомерными массивами, предназначенная в основном для научных вычислений.***\n",
    "\n",
    "\n",
    "- ***Пакет ``Numpy`` предоставляет $n$-мерные однородные массивы (все элементы одного типа) в них нельзя вставить или удалить элемент в произвольном месте. В ``Numpy`` реализовано много операций над массивами в целом.***"
   ]
  },
  {
   "cell_type": "code",
   "execution_count": 3,
   "metadata": {
    "colab": {
     "base_uri": "https://localhost:8080/"
    },
    "id": "tkN1DwOt_utC",
    "outputId": "e25a5489-588c-48f5-e81c-d71fcab97ff1"
   },
   "outputs": [
    {
     "name": "stderr",
     "output_type": "stream",
     "text": [
      "'which' is not recognized as an internal or external command,\n",
      "operable program or batch file.\n"
     ]
    }
   ],
   "source": [
    "!which python"
   ]
  },
  {
   "cell_type": "code",
   "execution_count": 4,
   "metadata": {
    "id": "vkt3rS0X_utC"
   },
   "outputs": [],
   "source": [
    "# !conda install numpy\n",
    "# !pip3 install numpy"
   ]
  },
  {
   "cell_type": "code",
   "execution_count": 5,
   "metadata": {
    "id": "-ACVD36u_utD"
   },
   "outputs": [],
   "source": [
    "import numpy as np"
   ]
  },
  {
   "cell_type": "markdown",
   "metadata": {
    "id": "G7t67Mlv_utD"
   },
   "source": [
    "## 1. Одномерные массивы"
   ]
  },
  {
   "cell_type": "code",
   "execution_count": 6,
   "metadata": {
    "colab": {
     "base_uri": "https://localhost:8080/"
    },
    "id": "-p1555UI_utD",
    "outputId": "74fa557e-4da6-4a76-95dd-1070117fcea6"
   },
   "outputs": [
    {
     "name": "stdout",
     "output_type": "stream",
     "text": [
      "<class 'numpy.ndarray'> <class 'list'>\n"
     ]
    }
   ],
   "source": [
    "a = [1, 2, 3]\n",
    "b = np.array(a, dtype='float64')\n",
    "print(type(b), type(a))"
   ]
  },
  {
   "cell_type": "markdown",
   "metadata": {
    "id": "Z6yyCigN_utD"
   },
   "source": [
    "***Если типы разные, то идет неявный каст к одному.***"
   ]
  },
  {
   "cell_type": "code",
   "execution_count": 7,
   "metadata": {
    "colab": {
     "base_uri": "https://localhost:8080/"
    },
    "id": "fXDm6tv__utE",
    "outputId": "cff39623-5ef4-49ac-c5c5-9e32eb1ff8f7"
   },
   "outputs": [
    {
     "name": "stdout",
     "output_type": "stream",
     "text": [
      "Для list: <class 'int'> \n",
      "Для np.array: <class 'numpy.str_'>\n"
     ]
    }
   ],
   "source": [
    "a = [1, 2, 'a']\n",
    "b = np.array(a)\n",
    "print(\"Для list:\", type(a[0]),\n",
    "      \"\\nДля np.array:\", type(b[0]))"
   ]
  },
  {
   "cell_type": "code",
   "execution_count": 8,
   "metadata": {
    "colab": {
     "base_uri": "https://localhost:8080/"
    },
    "id": "lv_tlRAa_utE",
    "outputId": "f1aa6896-4757-4f51-d13c-834e166b28b4"
   },
   "outputs": [
    {
     "data": {
      "text/plain": [
       "array([1, 2, 3])"
      ]
     },
     "execution_count": 8,
     "metadata": {},
     "output_type": "execute_result"
    }
   ],
   "source": [
    "d = np.array([1, 2, 3])\n",
    "d"
   ]
  },
  {
   "cell_type": "code",
   "execution_count": 9,
   "metadata": {
    "colab": {
     "base_uri": "https://localhost:8080/"
    },
    "id": "4I5-6h3p_utE",
    "outputId": "25cd7f31-5560-4299-91eb-fb877108be7e"
   },
   "outputs": [
    {
     "data": {
      "text/plain": [
       "numpy.ndarray"
      ]
     },
     "execution_count": 9,
     "metadata": {},
     "output_type": "execute_result"
    }
   ],
   "source": [
    "type(d)"
   ]
  },
  {
   "cell_type": "markdown",
   "metadata": {
    "id": "qw38Lnfj_utF"
   },
   "source": [
    "***Можем посмотреть на все методы класса ``ndarray``.***"
   ]
  },
  {
   "cell_type": "code",
   "execution_count": 10,
   "metadata": {
    "colab": {
     "base_uri": "https://localhost:8080/"
    },
    "id": "URGqdbLs_utF",
    "outputId": "734cf3e1-1ec7-48db-a5b3-b9a8b1b547cc"
   },
   "outputs": [
    {
     "data": {
      "text/plain": [
       "{'T',\n",
       " '__abs__',\n",
       " '__add__',\n",
       " '__and__',\n",
       " '__array__',\n",
       " '__array_finalize__',\n",
       " '__array_function__',\n",
       " '__array_interface__',\n",
       " '__array_prepare__',\n",
       " '__array_priority__',\n",
       " '__array_struct__',\n",
       " '__array_ufunc__',\n",
       " '__array_wrap__',\n",
       " '__bool__',\n",
       " '__complex__',\n",
       " '__contains__',\n",
       " '__copy__',\n",
       " '__deepcopy__',\n",
       " '__delitem__',\n",
       " '__divmod__',\n",
       " '__float__',\n",
       " '__floordiv__',\n",
       " '__getitem__',\n",
       " '__iadd__',\n",
       " '__iand__',\n",
       " '__ifloordiv__',\n",
       " '__ilshift__',\n",
       " '__imatmul__',\n",
       " '__imod__',\n",
       " '__imul__',\n",
       " '__index__',\n",
       " '__int__',\n",
       " '__invert__',\n",
       " '__ior__',\n",
       " '__ipow__',\n",
       " '__irshift__',\n",
       " '__isub__',\n",
       " '__iter__',\n",
       " '__itruediv__',\n",
       " '__ixor__',\n",
       " '__len__',\n",
       " '__lshift__',\n",
       " '__matmul__',\n",
       " '__mod__',\n",
       " '__mul__',\n",
       " '__neg__',\n",
       " '__or__',\n",
       " '__pos__',\n",
       " '__pow__',\n",
       " '__radd__',\n",
       " '__rand__',\n",
       " '__rdivmod__',\n",
       " '__rfloordiv__',\n",
       " '__rlshift__',\n",
       " '__rmatmul__',\n",
       " '__rmod__',\n",
       " '__rmul__',\n",
       " '__ror__',\n",
       " '__rpow__',\n",
       " '__rrshift__',\n",
       " '__rshift__',\n",
       " '__rsub__',\n",
       " '__rtruediv__',\n",
       " '__rxor__',\n",
       " '__setitem__',\n",
       " '__setstate__',\n",
       " '__sub__',\n",
       " '__truediv__',\n",
       " '__xor__',\n",
       " 'all',\n",
       " 'any',\n",
       " 'argmax',\n",
       " 'argmin',\n",
       " 'argpartition',\n",
       " 'argsort',\n",
       " 'astype',\n",
       " 'base',\n",
       " 'byteswap',\n",
       " 'choose',\n",
       " 'clip',\n",
       " 'compress',\n",
       " 'conj',\n",
       " 'conjugate',\n",
       " 'copy',\n",
       " 'ctypes',\n",
       " 'cumprod',\n",
       " 'cumsum',\n",
       " 'data',\n",
       " 'diagonal',\n",
       " 'dot',\n",
       " 'dtype',\n",
       " 'dump',\n",
       " 'dumps',\n",
       " 'fill',\n",
       " 'flags',\n",
       " 'flat',\n",
       " 'flatten',\n",
       " 'getfield',\n",
       " 'imag',\n",
       " 'item',\n",
       " 'itemset',\n",
       " 'itemsize',\n",
       " 'max',\n",
       " 'mean',\n",
       " 'min',\n",
       " 'nbytes',\n",
       " 'ndim',\n",
       " 'newbyteorder',\n",
       " 'nonzero',\n",
       " 'partition',\n",
       " 'prod',\n",
       " 'ptp',\n",
       " 'put',\n",
       " 'ravel',\n",
       " 'real',\n",
       " 'repeat',\n",
       " 'reshape',\n",
       " 'resize',\n",
       " 'round',\n",
       " 'searchsorted',\n",
       " 'setfield',\n",
       " 'setflags',\n",
       " 'shape',\n",
       " 'size',\n",
       " 'sort',\n",
       " 'squeeze',\n",
       " 'std',\n",
       " 'strides',\n",
       " 'sum',\n",
       " 'swapaxes',\n",
       " 'take',\n",
       " 'tobytes',\n",
       " 'tofile',\n",
       " 'tolist',\n",
       " 'tostring',\n",
       " 'trace',\n",
       " 'transpose',\n",
       " 'var',\n",
       " 'view'}"
      ]
     },
     "execution_count": 10,
     "metadata": {},
     "output_type": "execute_result"
    }
   ],
   "source": [
    "set(dir(b)) - set(dir(object))"
   ]
  },
  {
   "cell_type": "markdown",
   "metadata": {
    "id": "FvUaUOWY_utF"
   },
   "source": [
    "***Например узнаем размер массива.***"
   ]
  },
  {
   "cell_type": "code",
   "execution_count": 11,
   "metadata": {
    "id": "EzotaqMm_utF"
   },
   "outputs": [],
   "source": [
    "arr = np.array([5, 6, 2, 1, 10], dtype='int32')"
   ]
  },
  {
   "cell_type": "code",
   "execution_count": 12,
   "metadata": {
    "colab": {
     "base_uri": "https://localhost:8080/"
    },
    "id": "cFzpqEys_utG",
    "outputId": "a5a94535-13ff-4f1a-db56-9d09bdc34234"
   },
   "outputs": [
    {
     "data": {
      "text/plain": [
       "20"
      ]
     },
     "execution_count": 12,
     "metadata": {},
     "output_type": "execute_result"
    }
   ],
   "source": [
    "arr.nbytes"
   ]
  },
  {
   "cell_type": "markdown",
   "metadata": {
    "id": "K4JWtd2q_utG"
   },
   "source": [
    "***Если вы не знаете нужной функции, но понимаете, чего хотите, тогда можно воспользоваться поиском в документации.***"
   ]
  },
  {
   "cell_type": "code",
   "execution_count": 13,
   "metadata": {
    "colab": {
     "base_uri": "https://localhost:8080/"
    },
    "id": "A684TRSO_utG",
    "outputId": "63ccf169-d578-4a1e-b69d-9420db37fa21"
   },
   "outputs": [
    {
     "name": "stdout",
     "output_type": "stream",
     "text": [
      "Search results for 'mean value of array'\n",
      "----------------------------------------\n",
      "numpy.ma.mean\n",
      "    Returns the average of the array elements along given axis.\n",
      "numpy.mean\n",
      "    Compute the arithmetic mean along the specified axis.\n",
      "numpy.nanmean\n",
      "    Compute the arithmetic mean along the specified axis, ignoring NaNs.\n",
      "numpy.put\n",
      "    Replaces specified elements of an array with given values.\n",
      "numpy.full\n",
      "    Return a new array of given shape and type, filled with `fill_value`.\n",
      "numpy.digitize\n",
      "    Return the indices of the bins to which each value in input array belongs.\n",
      "numpy.unpackbits\n",
      "    Unpacks elements of a uint8 array into a binary-valued output array.\n",
      "numpy.nanquantile\n",
      "    Compute the qth quantile of the data along the specified axis,\n",
      "numpy.ma.dot\n",
      "    Return the dot product of two arrays.\n",
      "numpy.count_nonzero\n",
      "    Counts the number of non-zero values in the array ``a``.\n",
      "numpy.ma.fix_invalid\n",
      "    Return input with invalid data masked and replaced by a fill value.\n",
      "numpy.matrix.partition\n",
      "    Rearranges the elements in the array in such a way that the value of the\n",
      "numpy.ma.MaskedArray.filled\n",
      "    Return a copy of self, with masked values filled with a given value.\n",
      "numpy.ma.MaskedArray.partition\n",
      "    Rearranges the elements in the array in such a way that the value of the\n",
      "numpy.core._multiarray_umath.unpackbits\n",
      "    Unpacks elements of a uint8 array into a binary-valued output array.\n",
      "numpy.exp\n",
      "    Calculate the exponential of all elements in the input array.\n",
      "numpy.ptp\n",
      "    Range of values (maximum - minimum) along an axis.\n",
      "numpy.sum\n",
      "    Sum of array elements over a given axis.\n",
      "numpy.var\n",
      "    Compute the variance along the specified axis.\n",
      "numpy.copy\n",
      "    Return an array copy of the given object.\n",
      "numpy.prod\n",
      "    Return the product of array elements over a given axis.\n",
      "numpy.block\n",
      "    Assemble an nd-array from nested lists of blocks.\n",
      "numpy.copyto\n",
      "    Copies values from one array to another, broadcasting as necessary.\n",
      "numpy.median\n",
      "    Compute the median along the specified axis.\n",
      "numpy.nanmax\n",
      "    Return the maximum of an array or maximum along an axis, ignoring any\n",
      "numpy.nanmin\n",
      "    Return minimum of an array or minimum along an axis, ignoring any NaNs.\n",
      "numpy.nansum\n",
      "    Return the sum of array elements over a given axis treating Not a\n",
      "numpy.nanvar\n",
      "    Compute the variance along the specified axis, while ignoring NaNs.\n",
      "numpy.allclose\n",
      "    Returns True if two arrays are element-wise equal within a tolerance.\n",
      "numpy.gradient\n",
      "    Return the gradient of an N-dimensional array.\n",
      "numpy.nanmedian\n",
      "    Compute the median along the specified axis, while ignoring NaNs.\n",
      "numpy.ones_like\n",
      "    Return an array of ones with the same shape and type as a given array.\n",
      "numpy.lib.recfunctions.assign_fields_by_name\n",
      "    Assigns values from one structured array to another by field name.\n",
      "numpy.percentile\n",
      "    Compute the q-th percentile of the data along the specified axis.\n",
      "numpy.zeros_like\n",
      "    Return an array of zeros with the same shape and type as a given array.\n",
      "numpy.ma.exp\n",
      "    Calculate the exponential of all elements in the input array.\n",
      "numpy.chararray.copy\n",
      "    Return a copy of the array.\n",
      "numpy.ma.var\n",
      "    Compute the variance along the specified axis.\n",
      "numpy.chararray.view\n",
      "    New view of array with the same data.\n",
      "numpy.nanpercentile\n",
      "    Compute the qth percentile of the data along the specified axis,\n",
      "numpy.chararray.astype\n",
      "    Copy of the array, cast to a specified type.\n",
      "numpy.ma.median\n",
      "    Compute the median along the specified axis.\n",
      "numpy.linalg.svd\n",
      "    Singular Value Decomposition.\n",
      "numpy.ma.MaskedArray.mean\n",
      "    Returns the average of the array elements along given axis.\n",
      "numpy.ma.MaskedArray.dot\n",
      "    Masked dot product of two arrays. Note that `out` and `strict` are\n",
      "numpy.ma.MaskedArray.var\n",
      "    Compute the variance along the specified axis.\n",
      "numpy.ma.MaskedArray.copy\n",
      "    Return a copy of the array.\n",
      "numpy.core._multiarray_umath.copyto\n",
      "    Copies values from one array to another, broadcasting as necessary.\n",
      "numpy.polynomial.polyutils.trimcoef\n",
      "    Remove \"small\" \"trailing\" coefficients from a polynomial.\n",
      "numpy.pad\n",
      "    Pad an array.\n",
      "numpy.std\n",
      "    Compute the standard deviation along the specified axis.\n",
      "numpy.take\n",
      "    Take elements from an array along an axis.\n",
      "numpy.isnan\n",
      "    Test element-wise for NaN and return result as a boolean array.\n",
      "numpy.nditer\n",
      "    Efficient multi-dimensional iterator object to iterate over arrays.\n",
      "numpy.polyfit\n",
      "    Least squares polynomial fit.\n",
      "numpy.reshape\n",
      "    Gives a new shape to an array without changing its data.\n",
      "numpy.quantile\n",
      "    Compute the q-th quantile of the data along the specified axis.\n",
      "numpy.full_like\n",
      "    Return a full array with the same shape and type as a given array.\n",
      "numpy.empty_like\n",
      "    Return a new array with the same shape and type as a given array.\n",
      "numpy.ma.ptp\n",
      "    Return (maximum - minimum) along the given dimension\n",
      "numpy.ma.anom\n",
      "    Compute the anomalies (deviations from the arithmetic mean)\n",
      "numpy.fft.ifft2\n",
      "    Compute the 2-dimensional inverse discrete Fourier Transform.\n",
      "numpy.fft.ifftn\n",
      "    Compute the N-dimensional inverse discrete Fourier Transform.\n",
      "numpy.ma.ravel\n",
      "    Returns a 1D version of self, as a view.\n",
      "numpy.fft.irfftn\n",
      "    Compute the inverse of the N-dimensional FFT of real input.\n",
      "numpy.ma.polyfit\n",
      "    Least squares polynomial fit.\n",
      "numpy.linalg.cond\n",
      "    Compute the condition number of a matrix.\n",
      "numpy.linalg.norm\n",
      "    Matrix or vector norm.\n",
      "numpy.histogram_bin_edges\n",
      "    Function to calculate only the edges of the bins used by the `histogram`\n",
      "numpy.ma.MaskedArray.ptp\n",
      "    Return (maximum - minimum) along the given dimension\n",
      "numpy.ma.MaskedArray.anom\n",
      "    Compute the anomalies (deviations from the arithmetic mean)\n",
      "numpy.ma.MaskedArray.ravel\n",
      "    Returns a 1D version of self, as a view.\n",
      "numpy.random.Generator.wald\n",
      "    Draw samples from a Wald, or inverse Gaussian, distribution.\n",
      "numpy.polynomial.Hermite._fit\n",
      "    Least squares fit of Hermite series to data.\n",
      "numpy.core._multiarray_umath.empty_like\n",
      "    Return a new array with the same shape and type as a given array.\n",
      "numpy.random.RandomState.wald\n",
      "    Draw samples from a Wald, or inverse Gaussian, distribution.\n",
      "numpy.polynomial.HermiteE._fit\n",
      "    Least squares fit of Hermite series to data.\n",
      "numpy.polynomial.Laguerre._fit\n",
      "    Least squares fit of Laguerre series to data.\n",
      "numpy.polynomial.Legendre._fit\n",
      "    Least squares fit of Legendre series to data.\n",
      "numpy.polynomial.Chebyshev._fit\n",
      "    Least squares fit of Chebyshev series to data.\n",
      "numpy.polynomial.Polynomial._fit\n",
      "    Least-squares fit of a polynomial to data.\n",
      "numpy.random.Generator.lognormal\n",
      "    Draw samples from a log-normal distribution.\n",
      "numpy.random.RandomState.lognormal\n",
      "    Draw samples from a log-normal distribution.\n",
      "numpy.random.Generator.standard_normal\n",
      "    Draw samples from a standard Normal distribution (mean=0, stdev=1).\n",
      "numpy.einsum\n",
      "    einsum(subscripts, *operands, out=None, dtype=None, order='K',\n",
      "numpy.interp\n",
      "    One-dimensional linear interpolation.\n",
      "numpy.kaiser\n",
      "    Return the Kaiser window.\n",
      "numpy.nanstd\n",
      "    Compute the standard deviation along the specified axis, while\n",
      "numpy.average\n",
      "    Compute the weighted average along the specified axis.\n",
      "numpy.hamming\n",
      "    Return the Hamming window.\n",
      "numpy.hanning\n",
      "    Return the Hanning window.\n",
      "numpy.bartlett\n",
      "    Return the Bartlett window.\n",
      "numpy.blackman\n",
      "    Return the Blackman window.\n",
      "numpy.can_cast\n",
      "    Returns True if cast between data types can occur according to the\n",
      "numpy.random.RandomState.standard_normal\n",
      "    Draw samples from a standard Normal distribution (mean=0, stdev=1).\n",
      "numpy.isfinite\n",
      "    Test element-wise for finiteness (not infinity or not Not a Number).\n",
      "numpy.random.Generator.multivariate_normal\n",
      "    Draw random samples from a multivariate normal distribution.\n",
      "numpy.nan_to_num\n",
      "    Replace NaN with zero and infinity with large finite numbers (default\n",
      "numpy.random.RandomState.multivariate_normal\n",
      "    Draw random samples from a multivariate normal distribution.\n",
      "numpy.ma.copy\n",
      "    a.copy(order='C')\n",
      "numpy.fft.fft2\n",
      "    Compute the 2-dimensional discrete Fourier Transform\n",
      "numpy.fft.fftn\n",
      "    Compute the N-dimensional discrete Fourier Transform.\n",
      "numpy.fft.rfft\n",
      "    Compute the one-dimensional discrete Fourier Transform for real input.\n",
      "numpy.fft.rfftn\n",
      "    Compute the N-dimensional discrete Fourier Transform for real input.\n",
      "numpy.random.SFC64\n",
      "    BitGenerator for Chris Doty-Humphrey's Small Fast Chaotic PRNG.\n",
      "numpy.ma.empty_like\n",
      "    empty_like(prototype, dtype=None, order='K', subok=True, shape=None)\n",
      "numpy.random.Generator.f\n",
      "    Draw samples from an F distribution.\n",
      "numpy.random.RandomState.f\n",
      "    Draw samples from an F distribution.\n",
      "numpy.core._multiarray_umath.c_einsum\n",
      "    c_einsum(subscripts, *operands, out=None, dtype=None, order='K',\n",
      "numpy.core._multiarray_umath.can_cast\n",
      "    Returns True if cast between data types can occur according to the\n",
      "numpy.random.Generator.gamma\n",
      "    Draw samples from a Gamma distribution.\n",
      "numpy.random.Generator.gumbel\n",
      "    Draw samples from a Gumbel distribution.\n",
      "numpy.random.Generator.normal\n",
      "    Draw random samples from a normal (Gaussian) distribution.\n",
      "numpy.random.Generator.laplace\n",
      "    Draw samples from the Laplace or double exponential distribution with\n",
      "numpy.random.RandomState.gamma\n",
      "    Draw samples from a Gamma distribution.\n",
      "numpy.random.Generator.logistic\n",
      "    Draw samples from a logistic distribution.\n",
      "numpy.random.Generator.rayleigh\n",
      "    Draw samples from a Rayleigh distribution.\n",
      "numpy.random.Generator.vonmises\n",
      "    Draw samples from a von Mises distribution.\n",
      "numpy.random.RandomState.gumbel\n",
      "    Draw samples from a Gumbel distribution.\n",
      "numpy.random.RandomState.normal\n",
      "    Draw random samples from a normal (Gaussian) distribution.\n",
      "numpy.random.Generator.chisquare\n",
      "    Draw samples from a chi-square distribution.\n",
      "numpy.random.RandomState.laplace\n",
      "    Draw samples from the Laplace or double exponential distribution with\n",
      "numpy.random.Generator.standard_t\n",
      "    Draw samples from a standard Student's t distribution with `df` degrees\n",
      "numpy.random.RandomState.logistic\n",
      "    Draw samples from a logistic distribution.\n",
      "numpy.random.RandomState.rayleigh\n",
      "    Draw samples from a Rayleigh distribution.\n",
      "numpy.random.RandomState.vonmises\n",
      "    Draw samples from a von Mises distribution.\n",
      "numpy.random.RandomState.chisquare\n",
      "    Draw samples from a chi-square distribution.\n",
      "numpy.random.Generator.noncentral_f\n",
      "    Draw samples from the noncentral F distribution.\n",
      "numpy.random.RandomState.standard_t\n",
      "    Draw samples from a standard Student's t distribution with `df` degrees\n",
      "numpy.random.Generator.standard_gamma\n",
      "    Draw samples from a standard Gamma distribution.\n",
      "numpy.random.RandomState.noncentral_f\n",
      "    Draw samples from the noncentral F distribution.\n",
      "numpy.random.RandomState.standard_gamma\n",
      "    Draw samples from a standard Gamma distribution."
     ]
    }
   ],
   "source": [
    "np.lookfor('mean value of array') "
   ]
  },
  {
   "cell_type": "markdown",
   "metadata": {
    "id": "esVuiArA_utG"
   },
   "source": [
    "***Далее можно почитать документацию про контретную функцию.***"
   ]
  },
  {
   "cell_type": "code",
   "execution_count": 14,
   "metadata": {
    "id": "Abcqb-QH_utH"
   },
   "outputs": [],
   "source": [
    "?np.ma.mean"
   ]
  },
  {
   "cell_type": "code",
   "execution_count": 15,
   "metadata": {
    "id": "zLDAnd4G_utH"
   },
   "outputs": [],
   "source": [
    "np.con*?"
   ]
  },
  {
   "cell_type": "markdown",
   "metadata": {
    "id": "0B7cbpZU_utH"
   },
   "source": [
    "***Посмотрим на количественные характеристики ``ndarray``.***"
   ]
  },
  {
   "cell_type": "code",
   "execution_count": 16,
   "metadata": {
    "colab": {
     "base_uri": "https://localhost:8080/"
    },
    "id": "cOsmLh3o_utI",
    "outputId": "78a3aa34-0cee-499f-b391-a48b8856770e"
   },
   "outputs": [
    {
     "name": "stdout",
     "output_type": "stream",
     "text": [
      "[[[1 2 3 4]\n",
      "  [2 3 4 3]\n",
      "  [1 1 1 1]]\n",
      "\n",
      " [[1 2 3 4]\n",
      "  [2 3 4 3]\n",
      "  [1 1 1 1]]]\n"
     ]
    }
   ],
   "source": [
    "arr = np.array([[[1, 2, 3, 4],\n",
    "                [2, 3, 4, 3],\n",
    "                [1, 1, 1, 1]], \n",
    "                [[1, 2, 3, 4],\n",
    "                [2, 3, 4, 3],\n",
    "                [1, 1, 1, 1]]])\n",
    "print(arr)"
   ]
  },
  {
   "cell_type": "code",
   "execution_count": 17,
   "metadata": {
    "colab": {
     "base_uri": "https://localhost:8080/"
    },
    "id": "AV1wsl-3_utI",
    "outputId": "0cc8d554-e7b2-4fe5-9b28-933457faf341"
   },
   "outputs": [
    {
     "name": "stdout",
     "output_type": "stream",
     "text": [
      "len: 2 -- количество элементов по первой оси. \n",
      "size: 24 -- всего элементов в матрице. \n",
      "ndim: 3 -- размерность матрицы. \n",
      "shape: (2, 3, 4) -- количество элементов по каждой оси.\n"
     ]
    }
   ],
   "source": [
    "print(\"len:\", len(arr), \"-- количество элементов по первой оси.\",\n",
    "      \"\\nsize:\", arr.size, \"-- всего элементов в матрице.\",\n",
    "      \"\\nndim:\", arr.ndim, \"-- размерность матрицы.\",\n",
    "      \"\\nshape:\", arr.shape, \"-- количество элементов по каждой оси.\")"
   ]
  },
  {
   "cell_type": "markdown",
   "metadata": {
    "id": "I_cLmq7l_utI"
   },
   "source": [
    "***Индексы.***"
   ]
  },
  {
   "cell_type": "code",
   "execution_count": 18,
   "metadata": {
    "colab": {
     "base_uri": "https://localhost:8080/"
    },
    "id": "K2je6I4r_utI",
    "outputId": "e71e654a-26d9-414f-8edc-2a6b6149eac5"
   },
   "outputs": [
    {
     "data": {
      "text/plain": [
       "(1, 2)"
      ]
     },
     "execution_count": 18,
     "metadata": {},
     "output_type": "execute_result"
    }
   ],
   "source": [
    "a = np.array([1, 2, 3, 4])\n",
    "a[0], a[1]"
   ]
  },
  {
   "cell_type": "markdown",
   "metadata": {
    "id": "CXNCieKj_utJ"
   },
   "source": [
    "***Последний элемент.***"
   ]
  },
  {
   "cell_type": "code",
   "execution_count": 19,
   "metadata": {
    "colab": {
     "base_uri": "https://localhost:8080/"
    },
    "id": "Mf8ChIln_utJ",
    "outputId": "d232339c-c45d-448f-f25c-9aa5229877af"
   },
   "outputs": [
    {
     "data": {
      "text/plain": [
       "4"
      ]
     },
     "execution_count": 19,
     "metadata": {},
     "output_type": "execute_result"
    }
   ],
   "source": [
    "a[-1]"
   ]
  },
  {
   "cell_type": "markdown",
   "metadata": {
    "id": "_-3TtUFk_utJ"
   },
   "source": [
    "***Можем изменять объекты массива.***"
   ]
  },
  {
   "cell_type": "code",
   "execution_count": 20,
   "metadata": {
    "colab": {
     "base_uri": "https://localhost:8080/"
    },
    "id": "bWMF-mIP_utJ",
    "outputId": "98225940-6695-4e4b-dfce-f360fc07fd32"
   },
   "outputs": [
    {
     "data": {
      "text/plain": [
       "array([ 1,  2, -1,  4])"
      ]
     },
     "execution_count": 20,
     "metadata": {},
     "output_type": "execute_result"
    }
   ],
   "source": [
    "a[2] = -1\n",
    "a"
   ]
  },
  {
   "cell_type": "markdown",
   "metadata": {
    "id": "AV5RMk7m_utK"
   },
   "source": [
    "***``ndarray`` можно использовать в циклах. Но при этом теряется главное преимущество `Numpy` -- быстродействие. Всегда, когда это возможно, лучше использовать операции над массивами как едиными целыми.***"
   ]
  },
  {
   "cell_type": "code",
   "execution_count": 21,
   "metadata": {
    "colab": {
     "base_uri": "https://localhost:8080/"
    },
    "id": "I7Gxx9Ev_utK",
    "outputId": "7592de0a-bd27-405e-bbdf-d6c81607b588"
   },
   "outputs": [
    {
     "name": "stdout",
     "output_type": "stream",
     "text": [
      "1\n",
      "2\n",
      "-1\n",
      "4\n"
     ]
    }
   ],
   "source": [
    "for i in a:\n",
    "    print(i)"
   ]
  },
  {
   "cell_type": "markdown",
   "metadata": {
    "id": "nEba-JFt_utK"
   },
   "source": [
    "**Задача 1:** Создать numpy-массив, состоящий из первых четырех простых чисел, выведите его тип и размер:"
   ]
  },
  {
   "cell_type": "code",
   "execution_count": 22,
   "metadata": {
    "colab": {
     "base_uri": "https://localhost:8080/"
    },
    "id": "UW0scZM2_utK",
    "outputId": "fa7eb326-11c2-4ce1-a9f3-90de96092fb7"
   },
   "outputs": [
    {
     "name": "stdout",
     "output_type": "stream",
     "text": [
      "[2 3 5 7]\n",
      "int32\n",
      "<class 'numpy.ndarray'>\n",
      "(4,)\n",
      "16\n"
     ]
    }
   ],
   "source": [
    "# решение\n",
    "\n",
    "arr = np.array([2, 3, 5, 7])\n",
    "print(arr)\n",
    "print(arr.dtype)\n",
    "print(type(arr))\n",
    "print(arr.shape)\n",
    "print(arr.nbytes)"
   ]
  },
  {
   "cell_type": "markdown",
   "metadata": {
    "id": "rY90YTcw_utL"
   },
   "source": [
    "## Создание массивов."
   ]
  },
  {
   "cell_type": "code",
   "execution_count": 23,
   "metadata": {
    "colab": {
     "base_uri": "https://localhost:8080/"
    },
    "id": "vVFo3DhS_utL",
    "outputId": "77007f57-2089-4ccf-f950-8229e7a3cd51"
   },
   "outputs": [
    {
     "name": "stdout",
     "output_type": "stream",
     "text": [
      "[0. 0. 0. 0. 0. 0. 0.]\n",
      "[1 1 1 1 1 1 1]\n"
     ]
    }
   ],
   "source": [
    "a = np.zeros(7) # массив из нулей\n",
    "b = np.ones(7, dtype=np.int16) # массив из единиц\n",
    "print(a)\n",
    "print(b)"
   ]
  },
  {
   "cell_type": "markdown",
   "metadata": {
    "id": "PIqEGFbD_utL"
   },
   "source": [
    "***Часто нужно создать нулевой массив такой же как другой.***"
   ]
  },
  {
   "cell_type": "code",
   "execution_count": 24,
   "metadata": {
    "colab": {
     "base_uri": "https://localhost:8080/"
    },
    "id": "XNMiwpF5_utL",
    "outputId": "0b082527-65a0-4571-dcd3-424f0a4bfb5b"
   },
   "outputs": [
    {
     "data": {
      "text/plain": [
       "array([0., 0., 0., 0., 0., 0., 0.])"
      ]
     },
     "execution_count": 24,
     "metadata": {},
     "output_type": "execute_result"
    }
   ],
   "source": [
    "c = np.zeros(7)\n",
    "c"
   ]
  },
  {
   "cell_type": "code",
   "execution_count": 25,
   "metadata": {
    "colab": {
     "base_uri": "https://localhost:8080/"
    },
    "id": "gl2IwKED_utL",
    "outputId": "98ddb5aa-f5ea-47ba-ccdc-0f81164a3561"
   },
   "outputs": [
    {
     "data": {
      "text/plain": [
       "array([0, 0, 0, 0, 0, 0, 0], dtype=int16)"
      ]
     },
     "execution_count": 25,
     "metadata": {},
     "output_type": "execute_result"
    }
   ],
   "source": [
    "c = np.zeros_like(b)\n",
    "c"
   ]
  },
  {
   "cell_type": "markdown",
   "metadata": {
    "id": "XiMc_ATd_utL"
   },
   "source": [
    "***Функция `np.arange` подобна `range`. Аргументы могут быть с плавающей точкой. Следует избегать ситуаций, когда (конец-начало)/шаг -- целое число, потому что в этом случае включение последнего элемента зависит от ошибок округления. Лучше, чтобы конец диапазона был где-то посредине шага.***"
   ]
  },
  {
   "cell_type": "code",
   "execution_count": 26,
   "metadata": {
    "colab": {
     "base_uri": "https://localhost:8080/"
    },
    "id": "heQ6wJmM_utN",
    "outputId": "570d693f-3075-449d-d313-18f9bad8b7cf"
   },
   "outputs": [
    {
     "name": "stdout",
     "output_type": "stream",
     "text": [
      "[ 1  5  9 13]\n",
      "[ 5.  7.  9. 11. 13. 15. 17. 19.]\n",
      "[1 2 3 4 5 6 7 8 9]\n",
      "[0 1 2 3 4]\n"
     ]
    }
   ],
   "source": [
    "a = np.arange(1, 16, 4)\n",
    "b = np.arange(5., 21, 2)\n",
    "c = np.arange(1, 10)\n",
    "d = np.arange(5)\n",
    "print(a)\n",
    "print(b)\n",
    "print(c)\n",
    "print(d)"
   ]
  },
  {
   "cell_type": "markdown",
   "metadata": {
    "id": "1WTiQphx_utO"
   },
   "source": [
    "***Последовательности чисел с постоянным шагом можно также создавать функцией `linspace`. Начало и конец диапазона включаются; последний аргумент -- число точек.***"
   ]
  },
  {
   "cell_type": "code",
   "execution_count": 27,
   "metadata": {
    "colab": {
     "base_uri": "https://localhost:8080/"
    },
    "id": "OWrTQixa_utO",
    "outputId": "16956d0d-0eeb-4ff9-b244-5030f7b0274f"
   },
   "outputs": [
    {
     "name": "stdout",
     "output_type": "stream",
     "text": [
      "[ 1. 15.]\n",
      "[ 5.          5.77777778  6.55555556  7.33333333  8.11111111  8.88888889\n",
      "  9.66666667 10.44444444 11.22222222 12.        ]\n"
     ]
    }
   ],
   "source": [
    "a = np.linspace(1, 15, 2)\n",
    "b = np.linspace(5, 12, 10)\n",
    "print(a)\n",
    "print(b)"
   ]
  },
  {
   "cell_type": "markdown",
   "metadata": {
    "id": "tinv6a4U_utO"
   },
   "source": [
    "**Задача 2:** создать и вывести последовательность чисел от 10 до 32 с постоянным шагом, длина последовательности -- 12. Чему равен шаг?"
   ]
  },
  {
   "cell_type": "code",
   "execution_count": 28,
   "metadata": {
    "colab": {
     "base_uri": "https://localhost:8080/"
    },
    "id": "RM2JGLL9_utO",
    "outputId": "48947b8b-c1cf-4bc1-f8f2-96ae427fd144"
   },
   "outputs": [
    {
     "name": "stdout",
     "output_type": "stream",
     "text": [
      "[10. 12. 14. 16. 18. 20. 22. 24. 26. 28. 30. 32.]\n",
      "2.0\n"
     ]
    }
   ],
   "source": [
    "# решение\n",
    "\n",
    "a = np.linspace(10, 32, 12)\n",
    "print(a)\n",
    "print(a[1] - a[0])\n",
    "\n"
   ]
  },
  {
   "cell_type": "markdown",
   "metadata": {
    "id": "kyBHmBlt_utO"
   },
   "source": [
    "***Последовательность чисел с постоянным шагом по логарифмической шкале от $10^0$ до $10^3$.***"
   ]
  },
  {
   "cell_type": "code",
   "execution_count": 29,
   "metadata": {
    "colab": {
     "base_uri": "https://localhost:8080/"
    },
    "id": "ditH-nIm_utP",
    "outputId": "4dfca252-71ab-4d79-fb46-427db209646d"
   },
   "outputs": [
    {
     "name": "stdout",
     "output_type": "stream",
     "text": [
      "[   1.            1.87381742    3.51119173    6.57933225   12.32846739\n",
      "   23.101297     43.28761281   81.11308308  151.9911083   284.80358684\n",
      "  533.66992312 1000.        ]\n"
     ]
    }
   ],
   "source": [
    "b = np.logspace(0, 3, 12)\n",
    "print(b)"
   ]
  },
  {
   "cell_type": "markdown",
   "metadata": {
    "id": "6tzHNTTP_utP"
   },
   "source": [
    "# 2. Операции над одномерными массивами."
   ]
  },
  {
   "cell_type": "markdown",
   "metadata": {
    "id": "FCJIPaY7_utP"
   },
   "source": [
    "***Все арифметические операции производятся поэлементно.***"
   ]
  },
  {
   "cell_type": "code",
   "execution_count": 30,
   "metadata": {
    "colab": {
     "base_uri": "https://localhost:8080/"
    },
    "id": "YPxEOhty_utP",
    "outputId": "a945aace-fe42-445b-954a-38e0536affa7"
   },
   "outputs": [
    {
     "name": "stdout",
     "output_type": "stream",
     "text": [
      "[10. 12. 14. 16. 18. 20. 22. 24. 26. 28. 30. 32.]\n",
      "[   1.            1.87381742    3.51119173    6.57933225   12.32846739\n",
      "   23.101297     43.28761281   81.11308308  151.9911083   284.80358684\n",
      "  533.66992312 1000.        ]\n"
     ]
    }
   ],
   "source": [
    "print(a)\n",
    "print(b)"
   ]
  },
  {
   "cell_type": "code",
   "execution_count": 31,
   "metadata": {
    "colab": {
     "base_uri": "https://localhost:8080/"
    },
    "id": "GnjOwnni_utP",
    "outputId": "47f8aaf4-746f-44ee-a1ca-2d6fbf42b387"
   },
   "outputs": [
    {
     "name": "stdout",
     "output_type": "stream",
     "text": [
      "[ 1.  2.  3.  4.  5.  6.  7.  8.  9. 10. 11.]\n",
      "[ 5. 10. 15. 20. 25. 30. 35. 40. 45. 50. 55.]\n",
      "[  -6.  -24.  -54.  -96. -150. -216. -294. -384. -486. -600. -726.]\n",
      "[-1.5 -1.5 -1.5 -1.5 -1.5 -1.5 -1.5 -1.5 -1.5 -1.5 -1.5]\n"
     ]
    }
   ],
   "source": [
    "a = np.linspace(3, 33, 11)\n",
    "b = np.linspace(-2, -22, 11)\n",
    "print(a + b)\n",
    "print(a - b)\n",
    "print(a * b)\n",
    "print(a / b)"
   ]
  },
  {
   "cell_type": "markdown",
   "metadata": {
    "id": "X4Dl5ZPq_utQ"
   },
   "source": [
    "***Один из операндов может быть скаляром, а не массивом.***"
   ]
  },
  {
   "cell_type": "code",
   "execution_count": 32,
   "metadata": {
    "colab": {
     "base_uri": "https://localhost:8080/"
    },
    "id": "VOCLmN8I_utQ",
    "outputId": "a80e571a-e75d-4a6b-bae1-ac767adb8ea0"
   },
   "outputs": [
    {
     "name": "stdout",
     "output_type": "stream",
     "text": [
      "[ 15.  30.  45.  60.  75.  90. 105. 120. 135. 150. 165.]\n",
      "[  8.   6.   4.   2.   0.  -2.  -4.  -6.  -8. -10. -12.]\n"
     ]
    }
   ],
   "source": [
    "print(5*a)\n",
    "print(10 + b)"
   ]
  },
  {
   "cell_type": "code",
   "execution_count": 33,
   "metadata": {
    "colab": {
     "base_uri": "https://localhost:8080/"
    },
    "id": "iLPBYyBzEt0v",
    "outputId": "339caf9f-33a4-4c26-cb66-612a6bc9eb59"
   },
   "outputs": [
    {
     "name": "stdout",
     "output_type": "stream",
     "text": [
      "[  1.   4.   9.  16.  25.  36.  49.  64.  81. 100. 121.]\n",
      "[2.000e+00 4.000e+00 8.000e+00 1.600e+01 3.200e+01 6.400e+01 1.280e+02\n",
      " 2.560e+02 5.120e+02 1.024e+03 2.048e+03]\n"
     ]
    }
   ],
   "source": [
    "print((a + b) ** 2)\n",
    "print(2 ** (a + b))"
   ]
  },
  {
   "cell_type": "markdown",
   "metadata": {
    "id": "lX1xixEw_utQ"
   },
   "source": [
    "***Если типы элементов разные, то идет каст к большему.***"
   ]
  },
  {
   "cell_type": "code",
   "execution_count": 34,
   "metadata": {
    "colab": {
     "base_uri": "https://localhost:8080/"
    },
    "id": "eC__TA-u_utQ",
    "outputId": "9206d942-a483-4d21-d6f9-8468172d1e0b"
   },
   "outputs": [
    {
     "name": "stdout",
     "output_type": "stream",
     "text": [
      "[ 3.  7. 11. 15. 19. 23. 27. 31. 35. 39. 43.]\n",
      "<class 'numpy.float64'>\n"
     ]
    }
   ],
   "source": [
    "print(a + np.arange(11, dtype='int16'))\n",
    "print(type(a[0]))"
   ]
  },
  {
   "cell_type": "markdown",
   "metadata": {
    "id": "QjnNr58x_utQ"
   },
   "source": [
    "***В ``Numpy`` есть элементарные функции, которые тоже применяются к массивам поэлементно. Они называются универсальными функциями (``ufunc``).***"
   ]
  },
  {
   "cell_type": "code",
   "execution_count": 35,
   "metadata": {
    "colab": {
     "base_uri": "https://localhost:8080/"
    },
    "id": "vQDs6bTv_utR",
    "outputId": "352ac02e-0d3e-4894-8f24-2aa4098eac0c"
   },
   "outputs": [
    {
     "data": {
      "text/plain": [
       "numpy.ufunc"
      ]
     },
     "execution_count": 35,
     "metadata": {},
     "output_type": "execute_result"
    }
   ],
   "source": [
    "type(np.cos)"
   ]
  },
  {
   "cell_type": "code",
   "execution_count": 36,
   "metadata": {
    "colab": {
     "base_uri": "https://localhost:8080/"
    },
    "id": "8J_xxASK_utR",
    "outputId": "7f4a2856-4ac9-4989-a330-43eb950c07a9"
   },
   "outputs": [
    {
     "data": {
      "text/plain": [
       "array([-0.9899925 ,  0.96017029, -0.91113026,  0.84385396, -0.75968791,\n",
       "        0.66031671, -0.54772926,  0.42417901, -0.29213881,  0.15425145,\n",
       "       -0.01327675])"
      ]
     },
     "execution_count": 36,
     "metadata": {},
     "output_type": "execute_result"
    }
   ],
   "source": [
    "np.cos(a)"
   ]
  },
  {
   "cell_type": "code",
   "execution_count": 37,
   "metadata": {
    "colab": {
     "base_uri": "https://localhost:8080/"
    },
    "id": "DiAqTLSn_utR",
    "outputId": "43c21e86-7c6e-4bd6-d5a2-d1a79ca7f0f4"
   },
   "outputs": [
    {
     "data": {
      "text/plain": [
       "array([nan, nan, nan, nan, nan, nan, nan, nan, nan, nan, nan])"
      ]
     },
     "execution_count": 37,
     "metadata": {},
     "output_type": "execute_result"
    }
   ],
   "source": [
    "np.log(b)"
   ]
  },
  {
   "cell_type": "markdown",
   "metadata": {
    "id": "mA75T51o_utR"
   },
   "source": [
    "***Логические операции также производятся поэлементно.***"
   ]
  },
  {
   "cell_type": "code",
   "execution_count": 38,
   "metadata": {
    "colab": {
     "base_uri": "https://localhost:8080/"
    },
    "id": "bxg7QoL1_utR",
    "outputId": "bc8e0a6f-0f8e-44cc-8e88-5b8bd820068c"
   },
   "outputs": [
    {
     "name": "stdout",
     "output_type": "stream",
     "text": [
      "[ True  True  True  True  True  True  True  True  True  True  True]\n",
      "[False False False False False False False False False False False]\n",
      "[False False False  True  True  True  True  True  True  True  True]\n"
     ]
    }
   ],
   "source": [
    "print(a > b)\n",
    "print(a == b)\n",
    "print(a >= 10)"
   ]
  },
  {
   "cell_type": "markdown",
   "metadata": {
    "id": "9cA9X0SV_utR"
   },
   "source": [
    "***Кванторы ``всеобщности`` и ``существования``.***\n",
    "$$\\forall$$\n",
    "$$\\exists$$"
   ]
  },
  {
   "cell_type": "code",
   "execution_count": 39,
   "metadata": {
    "colab": {
     "base_uri": "https://localhost:8080/"
    },
    "id": "v_AB-tbW_utS",
    "outputId": "cc0da6d0-1748-47c4-c4eb-fda6d6a89dcb"
   },
   "outputs": [
    {
     "name": "stdout",
     "output_type": "stream",
     "text": [
      "<class 'numpy.float64'>\n"
     ]
    }
   ],
   "source": [
    "c = np.arange(0., 20)\n",
    "print(type(c[0]))"
   ]
  },
  {
   "cell_type": "code",
   "execution_count": 40,
   "metadata": {
    "colab": {
     "base_uri": "https://localhost:8080/"
    },
    "id": "TTXpq1jn_utS",
    "outputId": "98a50efc-b5fe-4b68-9d54-8f846ea5a15a"
   },
   "outputs": [
    {
     "data": {
      "text/plain": [
       "(True, False)"
      ]
     },
     "execution_count": 40,
     "metadata": {},
     "output_type": "execute_result"
    }
   ],
   "source": [
    "np.any(c == 0.), np.all(c)"
   ]
  },
  {
   "cell_type": "markdown",
   "metadata": {
    "id": "Y5TULOdL_utS"
   },
   "source": [
    "***Inplace операции.***"
   ]
  },
  {
   "cell_type": "code",
   "execution_count": 41,
   "metadata": {
    "colab": {
     "base_uri": "https://localhost:8080/"
    },
    "id": "QDVEdz24_utS",
    "outputId": "371f7312-62b6-4787-8ac7-708e65f5e8e1"
   },
   "outputs": [
    {
     "name": "stdout",
     "output_type": "stream",
     "text": [
      "[-0.7568025  0.2431975  1.2431975  2.2431975  3.2431975  4.2431975\n",
      "  5.2431975  6.2431975  7.2431975  8.2431975  9.2431975 10.2431975\n",
      " 11.2431975 12.2431975 13.2431975 14.2431975 15.2431975 16.2431975\n",
      " 17.2431975 18.2431975]\n"
     ]
    }
   ],
   "source": [
    "c += np.sin(4)\n",
    "print(c)"
   ]
  },
  {
   "cell_type": "markdown",
   "metadata": {
    "id": "blkndMit_utS"
   },
   "source": [
    "***Inplace операции возможны только для операндов одинакового типа.***"
   ]
  },
  {
   "cell_type": "code",
   "execution_count": 42,
   "metadata": {
    "colab": {
     "base_uri": "https://localhost:8080/"
    },
    "id": "0a_JWFbm_utT",
    "outputId": "51ccd867-3599-421b-a5f4-55ff9051272b"
   },
   "outputs": [
    {
     "name": "stdout",
     "output_type": "stream",
     "text": [
      "[-1.51360499  0.48639501  2.48639501  4.48639501  6.48639501  8.48639501\n",
      " 10.48639501 12.48639501 14.48639501 16.48639501 18.48639501 20.48639501\n",
      " 22.48639501 24.48639501 26.48639501 28.48639501 30.48639501 32.48639501\n",
      " 34.48639501 36.48639501]\n"
     ]
    }
   ],
   "source": [
    "c *= 2\n",
    "print(c)"
   ]
  },
  {
   "cell_type": "code",
   "execution_count": 43,
   "metadata": {
    "colab": {
     "base_uri": "https://localhost:8080/"
    },
    "id": "u2yCY0SZ_utT",
    "outputId": "2ac8590e-1f29-4d01-c4d9-4de0b1a249ee"
   },
   "outputs": [
    {
     "name": "stdout",
     "output_type": "stream",
     "text": [
      "[-0.51360499  1.2431975   1.82879834  2.12159875  2.297279    2.41439917\n",
      "  2.49805643  2.56079938  2.60959945  2.6486395   2.68058136  2.70719958\n",
      "  2.72972269  2.74902821  2.76575967  2.78039969  2.79331735  2.80479972\n",
      "  2.81507342  2.82431975]\n"
     ]
    }
   ],
   "source": [
    "b = np.arange(1., 21, 1)\n",
    "\n",
    "d = (b + c)\n",
    "d /= b\n",
    "print(d)"
   ]
  },
  {
   "cell_type": "markdown",
   "metadata": {
    "id": "RGMwCAcI_utT"
   },
   "source": [
    "***При делении ``ndarray`` на нули, исключения не бросается.***"
   ]
  },
  {
   "cell_type": "code",
   "execution_count": 44,
   "metadata": {
    "colab": {
     "base_uri": "https://localhost:8080/"
    },
    "id": "otVra42G_utT",
    "outputId": "ea23d243-8faa-4658-b2db-2fe18a532445"
   },
   "outputs": [
    {
     "name": "stdout",
     "output_type": "stream",
     "text": [
      "[  0.  nan  inf -inf]\n"
     ]
    }
   ],
   "source": [
    "print(np.array([0.0, 0.0, 1.0, -1.0]) / np.array([1.0, 0.0, 0.0, 0.0]))"
   ]
  },
  {
   "cell_type": "markdown",
   "metadata": {
    "id": "5ltLVqR6_utT"
   },
   "source": [
    "***Могут понадобится константы.***"
   ]
  },
  {
   "cell_type": "code",
   "execution_count": 45,
   "metadata": {
    "colab": {
     "base_uri": "https://localhost:8080/"
    },
    "id": "DEFQmPV6_utU",
    "outputId": "4fb93245-62f9-46d1-f505-a7aebd652aed"
   },
   "outputs": [
    {
     "name": "stdout",
     "output_type": "stream",
     "text": [
      "2.718281828459045 3.141592653589793\n"
     ]
    }
   ],
   "source": [
    "print(np.e, np.pi)"
   ]
  },
  {
   "cell_type": "code",
   "execution_count": 46,
   "metadata": {
    "colab": {
     "base_uri": "https://localhost:8080/"
    },
    "id": "_VMepMXJ_utU",
    "outputId": "43530600-ede3-464f-903b-c4963a6412bd"
   },
   "outputs": [
    {
     "name": "stdout",
     "output_type": "stream",
     "text": [
      "[ 1.  2.  3.  4.  5.  6.  7.  8.  9. 10. 11. 12. 13. 14. 15. 16. 17. 18.\n",
      " 19. 20.]\n",
      "[  1.   3.   6.  10.  15.  21.  28.  36.  45.  55.  66.  78.  91. 105.\n",
      " 120. 136. 153. 171. 190. 210.]\n"
     ]
    }
   ],
   "source": [
    "print(b)\n",
    "print(b.cumsum())"
   ]
  },
  {
   "cell_type": "markdown",
   "metadata": {
    "id": "2CfCkU_Q_utU"
   },
   "source": [
    "***Посмотрим на сортировку numpy-массивов.***"
   ]
  },
  {
   "cell_type": "code",
   "execution_count": 47,
   "metadata": {
    "id": "76_uCJUr_utU"
   },
   "outputs": [],
   "source": [
    "a = np.array([1, 5, 6, 10, -2, 0, 18])"
   ]
  },
  {
   "cell_type": "code",
   "execution_count": 48,
   "metadata": {
    "colab": {
     "base_uri": "https://localhost:8080/"
    },
    "id": "eTDAjZJu_utU",
    "outputId": "2ae77bf2-2bd7-430b-bf73-e7be1e4fe3f8"
   },
   "outputs": [
    {
     "name": "stdout",
     "output_type": "stream",
     "text": [
      "[-2  0  1  5  6 10 18]\n",
      "[ 1  5  6 10 -2  0 18]\n"
     ]
    }
   ],
   "source": [
    "print(np.sort(a))\n",
    "print(a)"
   ]
  },
  {
   "cell_type": "markdown",
   "metadata": {
    "id": "95pzhn5c_utU"
   },
   "source": [
    "***Теперь попробуем как метод.***"
   ]
  },
  {
   "cell_type": "code",
   "execution_count": 49,
   "metadata": {
    "colab": {
     "base_uri": "https://localhost:8080/"
    },
    "id": "SFm__ynY_utV",
    "outputId": "5a58701f-148f-4953-cb62-3401bf46d98e"
   },
   "outputs": [
    {
     "name": "stdout",
     "output_type": "stream",
     "text": [
      "[-2  0  1  5  6 10 18]\n"
     ]
    }
   ],
   "source": [
    "a.sort()\n",
    "print(a)"
   ]
  },
  {
   "cell_type": "code",
   "execution_count": 50,
   "metadata": {
    "colab": {
     "base_uri": "https://localhost:8080/"
    },
    "id": "qWer1GNA_utV",
    "outputId": "46e6e49c-bcce-4c97-dabb-c2accd211113"
   },
   "outputs": [
    {
     "data": {
      "text/plain": [
       "array([1., 1., 1., 1., 1.])"
      ]
     },
     "execution_count": 50,
     "metadata": {},
     "output_type": "execute_result"
    }
   ],
   "source": [
    "b = np.ones(5)\n",
    "b"
   ]
  },
  {
   "cell_type": "markdown",
   "metadata": {
    "id": "WVKJqS7v_utV"
   },
   "source": [
    "***Объединим массивы.***"
   ]
  },
  {
   "cell_type": "code",
   "execution_count": 51,
   "metadata": {
    "colab": {
     "base_uri": "https://localhost:8080/"
    },
    "id": "wrspt4mM_utV",
    "outputId": "91233305-2b44-4366-9013-89c733aa3616"
   },
   "outputs": [
    {
     "data": {
      "text/plain": [
       "array([-2.,  0.,  1.,  5.,  6., 10., 18.,  1.,  1.,  1.,  1.,  1.,  5.,\n",
       "        5.,  5.,  5.,  5.])"
      ]
     },
     "execution_count": 51,
     "metadata": {},
     "output_type": "execute_result"
    }
   ],
   "source": [
    "c = np.hstack((a, b, 5*b))\n",
    "c"
   ]
  },
  {
   "cell_type": "markdown",
   "metadata": {
    "id": "jM8DmW5Q_utV"
   },
   "source": [
    "***Расщепление массива.***"
   ]
  },
  {
   "cell_type": "code",
   "execution_count": 52,
   "metadata": {
    "colab": {
     "base_uri": "https://localhost:8080/"
    },
    "id": "mMvuAxlj_utW",
    "outputId": "26b85e1c-6048-45ae-96c4-4f47aee93562"
   },
   "outputs": [
    {
     "name": "stdout",
     "output_type": "stream",
     "text": [
      "[-2  0  1  5  6 10 18]\n",
      "[-2  0  1]\n",
      "[5 6]\n",
      "[10]\n",
      "[18]\n"
     ]
    }
   ],
   "source": [
    "x1, x2, x3, x4 = np.hsplit(a, [3, 5, 6])\n",
    "print(a)\n",
    "print(x1)\n",
    "print(x2)\n",
    "print(x3)\n",
    "print(x4)"
   ]
  },
  {
   "cell_type": "markdown",
   "metadata": {
    "id": "Imk9j8A7_utW"
   },
   "source": [
    "***Функции ``append`` ``delete`` ``insert`` не Inplace функции.***"
   ]
  },
  {
   "cell_type": "code",
   "execution_count": 53,
   "metadata": {
    "colab": {
     "base_uri": "https://localhost:8080/"
    },
    "id": "0nOhUZkx_utW",
    "outputId": "f0c46012-b005-43bd-ea21-1830eedb0a3a"
   },
   "outputs": [
    {
     "name": "stdout",
     "output_type": "stream",
     "text": [
      "[-2  5 10 18]\n",
      "[-2  0  1  5  6 10 18]\n"
     ]
    }
   ],
   "source": [
    "print(np.delete(a, [2, 4, 1]))\n",
    "print(a)"
   ]
  },
  {
   "cell_type": "code",
   "execution_count": 54,
   "metadata": {
    "colab": {
     "base_uri": "https://localhost:8080/"
    },
    "id": "8SUQlo2s_utW",
    "outputId": "e9149b3a-70e5-4d88-bc5c-a20cea067ba9"
   },
   "outputs": [
    {
     "data": {
      "text/plain": [
       "array([-2,  0, -1, -1,  1,  5,  6, 10, 18])"
      ]
     },
     "execution_count": 54,
     "metadata": {},
     "output_type": "execute_result"
    }
   ],
   "source": [
    "np.insert(a, 2, [-1, -1])"
   ]
  },
  {
   "cell_type": "code",
   "execution_count": 55,
   "metadata": {
    "colab": {
     "base_uri": "https://localhost:8080/"
    },
    "id": "qZeLBbQ4_utX",
    "outputId": "e8c835e2-7e40-4451-e6df-de7397e2f9df"
   },
   "outputs": [
    {
     "data": {
      "text/plain": [
       "array([-2. ,  0. ,  1. ,  5. ,  6. , 10. , 18. ,  2.2,  2.1])"
      ]
     },
     "execution_count": 55,
     "metadata": {},
     "output_type": "execute_result"
    }
   ],
   "source": [
    "np.append(a, [2.2, 2.1])"
   ]
  },
  {
   "cell_type": "markdown",
   "metadata": {
    "id": "EY8LCSPn_utX"
   },
   "source": [
    "## Индексирование массивов и срезы"
   ]
  },
  {
   "cell_type": "markdown",
   "metadata": {
    "id": "YrQOJXlT_utX"
   },
   "source": [
    "***Массив в обратном порядоке.***"
   ]
  },
  {
   "cell_type": "code",
   "execution_count": 56,
   "metadata": {
    "colab": {
     "base_uri": "https://localhost:8080/"
    },
    "id": "w1EGOsVW_utX",
    "outputId": "dfedb93e-5ec9-4962-a0e0-1edd8ac41467"
   },
   "outputs": [
    {
     "data": {
      "text/plain": [
       "array([18, 10,  6,  5,  1,  0, -2])"
      ]
     },
     "execution_count": 56,
     "metadata": {},
     "output_type": "execute_result"
    }
   ],
   "source": [
    "a[::-1]"
   ]
  },
  {
   "cell_type": "markdown",
   "metadata": {
    "id": "7LUt5Rtq_utY"
   },
   "source": [
    "***Диапазон индексов. Создаётся новый заголовок массива, указывающий на те же данные. Изменения, сделанные через такой массив, видны и в исходном массиве.***"
   ]
  },
  {
   "cell_type": "code",
   "execution_count": 57,
   "metadata": {
    "colab": {
     "base_uri": "https://localhost:8080/"
    },
    "id": "Qv-Ijg_k_utY",
    "outputId": "07383803-f0ec-4b24-a1c2-201d3221a499"
   },
   "outputs": [
    {
     "name": "stdout",
     "output_type": "stream",
     "text": [
      "[-2  0  1  5  6 10 18]\n"
     ]
    }
   ],
   "source": [
    "print(a)"
   ]
  },
  {
   "cell_type": "code",
   "execution_count": 58,
   "metadata": {
    "colab": {
     "base_uri": "https://localhost:8080/"
    },
    "id": "h1taQuOu_utY",
    "outputId": "93c9891b-abcd-43c9-a213-03a6f535af18"
   },
   "outputs": [
    {
     "data": {
      "text/plain": [
       "array([1, 5, 6])"
      ]
     },
     "execution_count": 58,
     "metadata": {},
     "output_type": "execute_result"
    }
   ],
   "source": [
    "a[2:5]"
   ]
  },
  {
   "cell_type": "code",
   "execution_count": 59,
   "metadata": {
    "colab": {
     "base_uri": "https://localhost:8080/"
    },
    "id": "OEzQjMOJ_utY",
    "outputId": "4f3ab682-d705-4f31-cf3e-d30bbbdd2c02"
   },
   "outputs": [
    {
     "name": "stdout",
     "output_type": "stream",
     "text": [
      "[   -2 -1000     1     5     6    10    18]\n"
     ]
    }
   ],
   "source": [
    "b = a[0:6] # копия не создается\n",
    "b[1] = -1000\n",
    "print(a)"
   ]
  },
  {
   "cell_type": "markdown",
   "metadata": {
    "id": "FzN23mz7_utY"
   },
   "source": [
    "***Диапозоны с шагами.***"
   ]
  },
  {
   "cell_type": "code",
   "execution_count": 60,
   "metadata": {
    "colab": {
     "base_uri": "https://localhost:8080/"
    },
    "id": "SZJMk-Yy_utZ",
    "outputId": "44c0cbba-a6a9-4724-9d2e-bb50c3833de2"
   },
   "outputs": [
    {
     "name": "stdout",
     "output_type": "stream",
     "text": [
      "[-2  1]\n",
      "[-2  0  1  5  0 10 18]\n"
     ]
    }
   ],
   "source": [
    "b = a[0:4:2]\n",
    "print(b)\n",
    "\n",
    "# подмассиву можно присваивать скаляр\n",
    "a[1:6:3] = 0\n",
    "print(a)"
   ]
  },
  {
   "cell_type": "markdown",
   "metadata": {
    "id": "7uzmZNXf_utZ"
   },
   "source": [
    "***Чтобы скопировать и данные массива, нужно использовать метод ``copy``.***"
   ]
  },
  {
   "cell_type": "code",
   "execution_count": 61,
   "metadata": {
    "colab": {
     "base_uri": "https://localhost:8080/"
    },
    "id": "W-KuaU4W_utZ",
    "outputId": "71be91a2-7f50-44ee-ce13-57b9329f42a2"
   },
   "outputs": [
    {
     "name": "stdout",
     "output_type": "stream",
     "text": [
      "[-2  0 -4  5  0 10 18]\n",
      "[-2  0  1  5  0 10 18]\n"
     ]
    }
   ],
   "source": [
    "b = a.copy()\n",
    "b[2] = -4\n",
    "print(b)\n",
    "print(a)"
   ]
  },
  {
   "cell_type": "code",
   "execution_count": 62,
   "metadata": {
    "colab": {
     "base_uri": "https://localhost:8080/"
    },
    "id": "BbQnlrci_utZ",
    "outputId": "982b61de-ee09-4137-d2a1-dadf32f212aa"
   },
   "outputs": [
    {
     "name": "stdout",
     "output_type": "stream",
     "text": [
      "[10  5  0]\n"
     ]
    }
   ],
   "source": [
    "print(a[[5,3,1]]) # массив индексов"
   ]
  },
  {
   "cell_type": "markdown",
   "metadata": {
    "id": "juHM0Uww_utZ"
   },
   "source": [
    "**Задание 3:**  \n",
    "- Создать массив чисел от $-4\\pi$  до $4\\pi $, количество точек 100\n",
    "- Посчитать сумму поэлементных квадратов синуса и косинуса для данного массива  \n",
    "- С помощью ``np.all`` проверить, что все элементы равны единице."
   ]
  },
  {
   "cell_type": "code",
   "execution_count": 63,
   "metadata": {
    "colab": {
     "base_uri": "https://localhost:8080/"
    },
    "id": "b0RGOEuk_uta",
    "outputId": "030dca66-a18a-4629-e5d4-c99057de41bd"
   },
   "outputs": [
    {
     "data": {
      "text/plain": [
       "True"
      ]
     },
     "execution_count": 63,
     "metadata": {},
     "output_type": "execute_result"
    }
   ],
   "source": [
    "# решение\n",
    "\n",
    "x = np.linspace(-4*np.pi, 4*np.pi, 100)\n",
    "\n",
    "np.all((np.sin(x)**2 + np.cos(x)**2).round() == 1)"
   ]
  },
  {
   "cell_type": "markdown",
   "metadata": {
    "id": "lkvf6MZ0_uta"
   },
   "source": [
    "# 3. Двумерные массивы"
   ]
  },
  {
   "cell_type": "code",
   "execution_count": 64,
   "metadata": {
    "colab": {
     "base_uri": "https://localhost:8080/"
    },
    "id": "YQuMJe26_utb",
    "outputId": "734d0f3b-de02-4c3a-ccff-ae15e9d2f0ba"
   },
   "outputs": [
    {
     "name": "stdout",
     "output_type": "stream",
     "text": [
      "[[1 2]\n",
      " [3 4]]\n"
     ]
    }
   ],
   "source": [
    "a = np.array([[1, 2], [3, 4]])\n",
    "print(a)"
   ]
  },
  {
   "cell_type": "code",
   "execution_count": 65,
   "metadata": {
    "colab": {
     "base_uri": "https://localhost:8080/"
    },
    "id": "AKY6TxVM_utb",
    "outputId": "fb077b79-e488-4f54-eb4b-b5926cf267dc"
   },
   "outputs": [
    {
     "data": {
      "text/plain": [
       "(2, (2, 2), 2, 4)"
      ]
     },
     "execution_count": 65,
     "metadata": {},
     "output_type": "execute_result"
    }
   ],
   "source": [
    "a.ndim, a.shape, len(a), a.size"
   ]
  },
  {
   "cell_type": "markdown",
   "metadata": {
    "id": "iqD53O2Q_utb"
   },
   "source": [
    "***Обращение по индексу.***"
   ]
  },
  {
   "cell_type": "code",
   "execution_count": 66,
   "metadata": {
    "colab": {
     "base_uri": "https://localhost:8080/"
    },
    "id": "4JPJofyc_utb",
    "outputId": "b07fcacd-9b87-439f-a134-24116ba98aed"
   },
   "outputs": [
    {
     "data": {
      "text/plain": [
       "(4, 4)"
      ]
     },
     "execution_count": 66,
     "metadata": {},
     "output_type": "execute_result"
    }
   ],
   "source": [
    "a[1][1], a[1,1]"
   ]
  },
  {
   "cell_type": "markdown",
   "metadata": {
    "id": "FaKeSQN1_utc"
   },
   "source": [
    "***Атрибуту ``shape`` можно присвоить новое значение -- кортеж размеров по всем координатам. Получится новый заголовок массива; его данные не изменятся.***"
   ]
  },
  {
   "cell_type": "code",
   "execution_count": 67,
   "metadata": {
    "colab": {
     "base_uri": "https://localhost:8080/"
    },
    "id": "8htEwSLX_utc",
    "outputId": "2930e007-0f31-45ea-e5da-055c5d9d375b"
   },
   "outputs": [
    {
     "name": "stdout",
     "output_type": "stream",
     "text": [
      "[[ 0  1  2  3  4  5  6  7  8  9]\n",
      " [10 11 12 13 14 15 16 17 18 19]]\n"
     ]
    }
   ],
   "source": [
    "b = np.arange(0, 20)\n",
    "b.shape = (2, 10)\n",
    "print(b)"
   ]
  },
  {
   "cell_type": "code",
   "execution_count": 68,
   "metadata": {
    "colab": {
     "base_uri": "https://localhost:8080/"
    },
    "id": "Ez423-By_utc",
    "outputId": "ce16f86a-bb14-4063-96f0-7c3219ba586f"
   },
   "outputs": [
    {
     "name": "stdout",
     "output_type": "stream",
     "text": [
      "[ 0  1  2  3  4  5  6  7  8  9 10 11 12 13 14 15 16 17 18 19]\n"
     ]
    }
   ],
   "source": [
    "print(b.ravel()) # стягивание в одномерный массив"
   ]
  },
  {
   "cell_type": "code",
   "execution_count": 69,
   "metadata": {
    "colab": {
     "base_uri": "https://localhost:8080/"
    },
    "id": "-4vrqJGY_utc",
    "outputId": "6924a437-da70-40bb-a691-02ae8bbeee74"
   },
   "outputs": [
    {
     "name": "stdout",
     "output_type": "stream",
     "text": [
      "[[1. 1. 1.]\n",
      " [1. 1. 1.]\n",
      " [1. 1. 1.]]\n"
     ]
    }
   ],
   "source": [
    "a = np.ones((3, 3)) # подать tuple\n",
    "print(a)"
   ]
  },
  {
   "cell_type": "code",
   "execution_count": 70,
   "metadata": {
    "colab": {
     "base_uri": "https://localhost:8080/"
    },
    "id": "jxVHN_Qf_utc",
    "outputId": "c02dd521-6210-477d-95e2-babc07372933"
   },
   "outputs": [
    {
     "name": "stdout",
     "output_type": "stream",
     "text": [
      "[[0. 0. 0. 0.]\n",
      " [0. 0. 0. 0.]\n",
      " [0. 0. 0. 0.]]\n"
     ]
    }
   ],
   "source": [
    "b = np.zeros((3, 4))\n",
    "print(b)"
   ]
  },
  {
   "cell_type": "code",
   "execution_count": 71,
   "metadata": {
    "colab": {
     "base_uri": "https://localhost:8080/"
    },
    "id": "pqYaQeGE_utd",
    "outputId": "90704f11-dfb3-4e48-deab-888bb34f7931"
   },
   "outputs": [
    {
     "name": "stdout",
     "output_type": "stream",
     "text": [
      "[[1. 0. 0.]\n",
      " [0. 1. 0.]\n",
      " [0. 0. 1.]]\n"
     ]
    }
   ],
   "source": [
    "c = np.eye(3)\n",
    "print(c)"
   ]
  },
  {
   "cell_type": "code",
   "execution_count": 72,
   "metadata": {
    "colab": {
     "base_uri": "https://localhost:8080/"
    },
    "id": "V_FgSMPx_utd",
    "outputId": "60ad2e1c-2fd9-49c6-f0f9-52ee6e5cb456"
   },
   "outputs": [
    {
     "name": "stdout",
     "output_type": "stream",
     "text": [
      "[[1 0 0 0]\n",
      " [0 2 0 0]\n",
      " [0 0 3 0]\n",
      " [0 0 0 4]]\n"
     ]
    }
   ],
   "source": [
    "d = np.diag(np.array([1, 2, 3, 4]))\n",
    "print(d)"
   ]
  },
  {
   "cell_type": "markdown",
   "metadata": {
    "id": "3Z3_1h8d_utd"
   },
   "source": [
    "***Задание 4:***\n",
    "Создать квадратную матрицу размера 8, на главной диаг. арифметическая прогрессия с шагом 3 (начиная с 3), а на побочной -1, остальные элементы 0."
   ]
  },
  {
   "cell_type": "code",
   "execution_count": 73,
   "metadata": {
    "colab": {
     "base_uri": "https://localhost:8080/"
    },
    "id": "vufyLtGG_utd",
    "outputId": "46351253-ae09-49e5-d4ab-61f36d200c48"
   },
   "outputs": [
    {
     "name": "stdout",
     "output_type": "stream",
     "text": [
      "[[ 3.  0.  0.  0.  0.  0.  0. -1.]\n",
      " [ 0.  6.  0.  0.  0.  0. -1.  0.]\n",
      " [ 0.  0.  9.  0.  0. -1.  0.  0.]\n",
      " [ 0.  0.  0. 12. -1.  0.  0.  0.]\n",
      " [ 0.  0.  0. -1. 15.  0.  0.  0.]\n",
      " [ 0.  0. -1.  0.  0. 18.  0.  0.]\n",
      " [ 0. -1.  0.  0.  0.  0. 21.  0.]\n",
      " [-1.  0.  0.  0.  0.  0.  0. 24.]]\n"
     ]
    }
   ],
   "source": [
    "# решение\n",
    "\n",
    "a = -1*np.eye(8)[::-1] + np.diag(np.arange(3, 27, 3))\n",
    "print(a)\n"
   ]
  },
  {
   "cell_type": "markdown",
   "metadata": {
    "id": "Dzkh3dPi_utd"
   },
   "source": [
    "***Умножение матриц.***"
   ]
  },
  {
   "cell_type": "code",
   "execution_count": 74,
   "metadata": {
    "colab": {
     "base_uri": "https://localhost:8080/"
    },
    "id": "nXuMZb_g_ute",
    "outputId": "7d1f0518-ffcd-4f04-abde-b942c56b1ac8"
   },
   "outputs": [
    {
     "name": "stdout",
     "output_type": "stream",
     "text": [
      "[[5. 5. 5. 5. 5.]\n",
      " [5. 5. 5. 5. 5.]\n",
      " [5. 5. 5. 5. 5.]\n",
      " [5. 5. 5. 5. 5.]\n",
      " [5. 5. 5. 5. 5.]] \n",
      "\n",
      "[[2. 1. 1. 1. 1.]\n",
      " [1. 2. 1. 1. 1.]\n",
      " [1. 1. 2. 1. 1.]\n",
      " [1. 1. 1. 2. 1.]\n",
      " [1. 1. 1. 1. 2.]]\n"
     ]
    }
   ],
   "source": [
    "a = 5*np.ones((5, 5))\n",
    "b = np.eye(5) + 1\n",
    "print(a, '\\n')\n",
    "print(b)"
   ]
  },
  {
   "cell_type": "code",
   "execution_count": 75,
   "metadata": {
    "colab": {
     "base_uri": "https://localhost:8080/"
    },
    "id": "t5cZ2JrD_ute",
    "outputId": "5e99bfbe-62b3-4044-b267-005eb261cf02"
   },
   "outputs": [
    {
     "name": "stdout",
     "output_type": "stream",
     "text": [
      "[[10.  5.  5.  5.  5.]\n",
      " [ 5. 10.  5.  5.  5.]\n",
      " [ 5.  5. 10.  5.  5.]\n",
      " [ 5.  5.  5. 10.  5.]\n",
      " [ 5.  5.  5.  5. 10.]] \n",
      "\n",
      "[[30. 30. 30. 30. 30.]\n",
      " [30. 30. 30. 30. 30.]\n",
      " [30. 30. 30. 30. 30.]\n",
      " [30. 30. 30. 30. 30.]\n",
      " [30. 30. 30. 30. 30.]] \n",
      "\n",
      "[[30. 30. 30. 30. 30.]\n",
      " [30. 30. 30. 30. 30.]\n",
      " [30. 30. 30. 30. 30.]\n",
      " [30. 30. 30. 30. 30.]\n",
      " [30. 30. 30. 30. 30.]]\n"
     ]
    }
   ],
   "source": [
    "print(a*b, '\\n') # поэлементное умножение\n",
    "print(a @ b, '\\n') # матричное умножение\n",
    "print(a.dot(b)) "
   ]
  },
  {
   "cell_type": "markdown",
   "metadata": {
    "id": "IUOuqGs9_ute"
   },
   "source": [
    "***Двумерные массивы, зависящие только от одного индекса: $x_{ij}=u_j$, $y_{ij}=v_i$***"
   ]
  },
  {
   "cell_type": "code",
   "execution_count": 76,
   "metadata": {
    "colab": {
     "base_uri": "https://localhost:8080/"
    },
    "id": "JnSaSi4l_ute",
    "outputId": "dcb6d68e-bbb0-40be-ac2e-5b16afe3f230"
   },
   "outputs": [
    {
     "name": "stdout",
     "output_type": "stream",
     "text": [
      "[1. 2.]\n",
      "[4. 6. 8.]\n"
     ]
    }
   ],
   "source": [
    "u = np.linspace(1, 2, 2)\n",
    "v = np.linspace(4, 8, 3)\n",
    "print(u)\n",
    "print(v)"
   ]
  },
  {
   "cell_type": "code",
   "execution_count": 77,
   "metadata": {
    "colab": {
     "base_uri": "https://localhost:8080/"
    },
    "id": "Y4bCapBi_ute",
    "outputId": "ce8bec09-d962-4e22-992e-07c738902454"
   },
   "outputs": [
    {
     "name": "stdout",
     "output_type": "stream",
     "text": [
      "[[1. 2.]\n",
      " [1. 2.]\n",
      " [1. 2.]] \n",
      "\n",
      "[[4. 4.]\n",
      " [6. 6.]\n",
      " [8. 8.]]\n"
     ]
    }
   ],
   "source": [
    "x, y = np.meshgrid(u, v)\n",
    "print(x, '\\n')\n",
    "print(y)"
   ]
  },
  {
   "cell_type": "code",
   "execution_count": 78,
   "metadata": {
    "colab": {
     "base_uri": "https://localhost:8080/"
    },
    "id": "26usJHTD_utf",
    "outputId": "94e65f5a-533f-4bc5-a2c5-0d277caf87f1"
   },
   "outputs": [
    {
     "name": "stdout",
     "output_type": "stream",
     "text": [
      "[1. 2. 1. 2. 1. 2.]\n"
     ]
    }
   ],
   "source": [
    "print(x.reshape(6)) # то же самое, что и shape"
   ]
  },
  {
   "cell_type": "markdown",
   "metadata": {
    "id": "32M0HsA7_utg"
   },
   "source": [
    "***Задание 5:***\n",
    "- Отобразить вектор размера 100, в котором вычеркивается **x**, если **x** --- составное (т. е. не является простым)"
   ]
  },
  {
   "cell_type": "code",
   "execution_count": 79,
   "metadata": {
    "id": "Gty7eFic_utg"
   },
   "outputs": [],
   "source": [
    "is_prime = np.ones(100, dtype=bool)"
   ]
  },
  {
   "cell_type": "code",
   "execution_count": 80,
   "metadata": {
    "id": "18EkFa_T_utg"
   },
   "outputs": [],
   "source": [
    "is_prime[:2] = False"
   ]
  },
  {
   "cell_type": "code",
   "execution_count": 81,
   "metadata": {
    "colab": {
     "base_uri": "https://localhost:8080/"
    },
    "id": "nffcK9Bz_utg",
    "outputId": "0a4cd2b9-325c-492c-b571-a4d9f7940a98"
   },
   "outputs": [
    {
     "name": "stdout",
     "output_type": "stream",
     "text": [
      "[False False  True  True False  True False  True False False False  True\n",
      " False  True False False False  True False  True False False False  True\n",
      " False False False False False  True False  True False False False False\n",
      " False  True False False False  True False  True False False False  True\n",
      " False False False False False  True False False False False False  True\n",
      " False  True False False False False False  True False False False  True\n",
      " False  True False False False False False  True False False False  True\n",
      " False False False False False  True False False False False False False\n",
      " False  True False False]\n"
     ]
    }
   ],
   "source": [
    "N_max = int(np.sqrt(len(is_prime)))\n",
    "for i in range(2, N_max):\n",
    "    is_prime[2*i::i] = False # начинаем с 2i с шагом i\n",
    "    \n",
    "print(is_prime)"
   ]
  },
  {
   "cell_type": "code",
   "execution_count": 82,
   "metadata": {
    "colab": {
     "base_uri": "https://localhost:8080/"
    },
    "id": "BP_bXlNdnZM9",
    "outputId": "1ffa22c2-f863-401c-f39d-98a16fbd1a42"
   },
   "outputs": [
    {
     "name": "stdout",
     "output_type": "stream",
     "text": [
      "True\n",
      "False\n"
     ]
    }
   ],
   "source": [
    "print(is_prime[17])\n",
    "print(is_prime[25])"
   ]
  },
  {
   "cell_type": "markdown",
   "metadata": {
    "id": "YSBsopHn_uth"
   },
   "source": [
    "***Маски.***"
   ]
  },
  {
   "cell_type": "code",
   "execution_count": 83,
   "metadata": {
    "colab": {
     "base_uri": "https://localhost:8080/"
    },
    "id": "r4OSDlK3_uth",
    "outputId": "685adb4a-d0b0-4d09-d814-e41da732c497"
   },
   "outputs": [
    {
     "name": "stdout",
     "output_type": "stream",
     "text": [
      "[ True False False  True False False  True False False  True False False\n",
      "  True False False  True False False  True False]\n",
      "[ 0  3  6  9 12 15 18]\n"
     ]
    }
   ],
   "source": [
    "a = np.arange(20)\n",
    "print(a % 3 == 0)\n",
    "print(a[a % 3 == 0])"
   ]
  },
  {
   "cell_type": "markdown",
   "metadata": {
    "id": "7YKwXJIw_uth"
   },
   "source": [
    "***След (trace) - сумма диагональных элементов.***"
   ]
  },
  {
   "cell_type": "code",
   "execution_count": 84,
   "metadata": {
    "colab": {
     "base_uri": "https://localhost:8080/"
    },
    "id": "H5gVZbGH_uth",
    "outputId": "af712b03-64d4-4211-e7f7-acbed0d28b7b"
   },
   "outputs": [
    {
     "name": "stdout",
     "output_type": "stream",
     "text": [
      "[[10  0  0  0  0  0  0  0  0  0]\n",
      " [ 0 11  0  0  0  0  0  0  0  0]\n",
      " [ 0  0 12  0  0  0  0  0  0  0]\n",
      " [ 0  0  0 13  0  0  0  0  0  0]\n",
      " [ 0  0  0  0 14  0  0  0  0  0]\n",
      " [ 0  0  0  0  0 15  0  0  0  0]\n",
      " [ 0  0  0  0  0  0 16  0  0  0]\n",
      " [ 0  0  0  0  0  0  0 17  0  0]\n",
      " [ 0  0  0  0  0  0  0  0 18  0]\n",
      " [ 0  0  0  0  0  0  0  0  0 19]]\n",
      "145\n"
     ]
    }
   ],
   "source": [
    "b = np.diag(a[a >= 10])\n",
    "print(b)\n",
    "print(np.trace(b))"
   ]
  },
  {
   "cell_type": "markdown",
   "metadata": {
    "id": "isiWgLWK_uti"
   },
   "source": [
    "# 4. Тензоры (многомерные массивы)"
   ]
  },
  {
   "cell_type": "code",
   "execution_count": 85,
   "metadata": {
    "colab": {
     "base_uri": "https://localhost:8080/"
    },
    "id": "AUyIWgP2_uti",
    "outputId": "406af1ac-3935-4d4d-d1f7-38399fc7d90f"
   },
   "outputs": [
    {
     "name": "stdout",
     "output_type": "stream",
     "text": [
      "[[[ 0  1  2  3]\n",
      "  [ 4  5  6  7]]\n",
      "\n",
      " [[ 8  9 10 11]\n",
      "  [12 13 14 15]]\n",
      "\n",
      " [[16 17 18 19]\n",
      "  [20 21 22 23]]\n",
      "\n",
      " [[24 25 26 27]\n",
      "  [28 29 30 31]]\n",
      "\n",
      " [[32 33 34 35]\n",
      "  [36 37 38 39]]\n",
      "\n",
      " [[40 41 42 43]\n",
      "  [44 45 46 47]]\n",
      "\n",
      " [[48 49 50 51]\n",
      "  [52 53 54 55]]\n",
      "\n",
      " [[56 57 58 59]\n",
      "  [60 61 62 63]]]\n"
     ]
    }
   ],
   "source": [
    "X = np.arange(64).reshape(8, 2, 4)\n",
    "print(X)"
   ]
  },
  {
   "cell_type": "code",
   "execution_count": 86,
   "metadata": {
    "colab": {
     "base_uri": "https://localhost:8080/"
    },
    "id": "5rOaCZPA_uti",
    "outputId": "a686ac1c-817d-4e8d-a743-a2fa33e77d18"
   },
   "outputs": [
    {
     "data": {
      "text/plain": [
       "((8, 2, 4), 8, 64, 3)"
      ]
     },
     "execution_count": 86,
     "metadata": {},
     "output_type": "execute_result"
    }
   ],
   "source": [
    "X.shape, len(X), X.size, X.ndim"
   ]
  },
  {
   "cell_type": "markdown",
   "metadata": {
    "id": "5CAEcdZD_uti"
   },
   "source": [
    "***Посмотрим на суммы по разным осям.***"
   ]
  },
  {
   "cell_type": "code",
   "execution_count": 87,
   "metadata": {
    "colab": {
     "base_uri": "https://localhost:8080/"
    },
    "id": "C5GLpba__uti",
    "outputId": "f37d2076-270a-4943-b8d6-c6dc1eeefe2b"
   },
   "outputs": [
    {
     "name": "stdout",
     "output_type": "stream",
     "text": [
      "[[224 232 240 248]\n",
      " [256 264 272 280]] \n",
      "\n",
      "[[  4   6   8  10]\n",
      " [ 20  22  24  26]\n",
      " [ 36  38  40  42]\n",
      " [ 52  54  56  58]\n",
      " [ 68  70  72  74]\n",
      " [ 84  86  88  90]\n",
      " [100 102 104 106]\n",
      " [116 118 120 122]] \n",
      "\n",
      "[[  6  22]\n",
      " [ 38  54]\n",
      " [ 70  86]\n",
      " [102 118]\n",
      " [134 150]\n",
      " [166 182]\n",
      " [198 214]\n",
      " [230 246]] \n",
      "\n",
      "[ 28  92 156 220 284 348 412 476]\n"
     ]
    }
   ],
   "source": [
    "print(np.sum(X, axis=0), '\\n')\n",
    "print(np.sum(X, axis=1), '\\n')\n",
    "print(np.sum(X, axis=2), '\\n')\n",
    "\n",
    "# суммируем сразу по двум осям, то есть для фиксированной i \n",
    "# суммируем только элементы с индексами (i, *, *)\n",
    "print(np.sum(X, axis=(1, 2)))"
   ]
  },
  {
   "cell_type": "markdown",
   "metadata": {
    "id": "A30UqUOO_utj"
   },
   "source": [
    "# 5. Линейная алгебра"
   ]
  },
  {
   "cell_type": "code",
   "execution_count": 88,
   "metadata": {
    "colab": {
     "base_uri": "https://localhost:8080/"
    },
    "id": "L9yyZxD1_utj",
    "outputId": "9f923450-d516-4e29-fa03-fe93ba618af8"
   },
   "outputs": [
    {
     "name": "stdout",
     "output_type": "stream",
     "text": [
      "[[2 1]\n",
      " [2 3]]\n"
     ]
    }
   ],
   "source": [
    "a = np.array([[2, 1], [2, 3]])\n",
    "print(a)"
   ]
  },
  {
   "cell_type": "markdown",
   "metadata": {
    "id": "vPaPbS4i_utj"
   },
   "source": [
    "***Определитель.***"
   ]
  },
  {
   "cell_type": "code",
   "execution_count": 89,
   "metadata": {
    "colab": {
     "base_uri": "https://localhost:8080/"
    },
    "id": "iAEMomd4_utj",
    "outputId": "02f2781f-7b7a-4987-cada-ea60c0fe44e2"
   },
   "outputs": [
    {
     "data": {
      "text/plain": [
       "4.0"
      ]
     },
     "execution_count": 89,
     "metadata": {},
     "output_type": "execute_result"
    }
   ],
   "source": [
    "np.linalg.det(a)"
   ]
  },
  {
   "cell_type": "markdown",
   "metadata": {
    "id": "NyXE5jgh_utj"
   },
   "source": [
    "***Нахождениия обратной.***"
   ]
  },
  {
   "cell_type": "code",
   "execution_count": 90,
   "metadata": {
    "colab": {
     "base_uri": "https://localhost:8080/"
    },
    "id": "Arj57Cqz_utj",
    "outputId": "3e08097e-89fd-4fc6-da84-748b168f91e9"
   },
   "outputs": [
    {
     "name": "stdout",
     "output_type": "stream",
     "text": [
      "[[ 0.75 -0.25]\n",
      " [-0.5   0.5 ]]\n"
     ]
    }
   ],
   "source": [
    "b = np.linalg.inv(a)\n",
    "print(b)"
   ]
  },
  {
   "cell_type": "code",
   "execution_count": 91,
   "metadata": {
    "colab": {
     "base_uri": "https://localhost:8080/"
    },
    "id": "yWNVSSJv_utk",
    "outputId": "1c46ed14-7079-4d44-fe13-fe9be147fd85"
   },
   "outputs": [
    {
     "name": "stdout",
     "output_type": "stream",
     "text": [
      "[[1. 0.]\n",
      " [0. 1.]]\n",
      "[[1. 0.]\n",
      " [0. 1.]]\n"
     ]
    }
   ],
   "source": [
    "print(a.dot(b))\n",
    "print(b.dot(a))"
   ]
  },
  {
   "cell_type": "code",
   "execution_count": 92,
   "metadata": {
    "colab": {
     "base_uri": "https://localhost:8080/"
    },
    "id": "mgIdQiNDFY5L",
    "outputId": "d685469d-ef49-47d6-8666-c46e17e9dfc5"
   },
   "outputs": [
    {
     "name": "stdout",
     "output_type": "stream",
     "text": [
      "[[2 1]\n",
      " [6 3]]\n",
      "0.0\n"
     ]
    }
   ],
   "source": [
    "c = np.array([[2, 1], [6, 3]])\n",
    "print(c)\n",
    "print(np.linalg.det(c))"
   ]
  },
  {
   "cell_type": "markdown",
   "metadata": {
    "id": "24c7Zzvz_utk"
   },
   "source": [
    "***Решение НЛУ.***\n",
    "$$ A \\cdot x = v $$"
   ]
  },
  {
   "cell_type": "code",
   "execution_count": 93,
   "metadata": {
    "colab": {
     "base_uri": "https://localhost:8080/"
    },
    "id": "l0aHvZ_y_utk",
    "outputId": "b717007c-14d9-410b-953b-2c59e1e7b4e6"
   },
   "outputs": [
    {
     "name": "stdout",
     "output_type": "stream",
     "text": [
      "[ 6.25 -7.5 ]\n",
      "[ 6.25 -7.5 ]\n"
     ]
    }
   ],
   "source": [
    "v = np.array([5, -10])\n",
    "print(np.linalg.solve(a, v))\n",
    "print(b.dot(v))"
   ]
  },
  {
   "cell_type": "markdown",
   "metadata": {
    "id": "f-NrxHvy_utk"
   },
   "source": [
    "***Найдем собственные вектора матрицы A.***\n",
    "$$ A \\cdot x = \\lambda \\cdot x $$"
   ]
  },
  {
   "cell_type": "code",
   "execution_count": 94,
   "metadata": {
    "colab": {
     "base_uri": "https://localhost:8080/"
    },
    "id": "whDG4FcZ_utk",
    "outputId": "a3f69768-43d2-4abb-87b2-e983c78acb78"
   },
   "outputs": [
    {
     "name": "stdout",
     "output_type": "stream",
     "text": [
      "[1. 4.]\n",
      "[[-0.70710678 -0.4472136 ]\n",
      " [ 0.70710678 -0.89442719]]\n"
     ]
    }
   ],
   "source": [
    "l, u = np.linalg.eig(a)\n",
    "print(l)\n",
    "print(u)"
   ]
  },
  {
   "cell_type": "markdown",
   "metadata": {
    "id": "czfrs56I_utk"
   },
   "source": [
    "***Собственные значения матриц A и A.T совпадают.***"
   ]
  },
  {
   "cell_type": "code",
   "execution_count": 95,
   "metadata": {
    "colab": {
     "base_uri": "https://localhost:8080/"
    },
    "id": "9ke3c0MH_utl",
    "outputId": "ff857e21-eb35-43d3-c01d-3b31d29ad302"
   },
   "outputs": [
    {
     "name": "stdout",
     "output_type": "stream",
     "text": [
      "[1. 4.]\n",
      "[[-0.89442719 -0.70710678]\n",
      " [ 0.4472136  -0.70710678]]\n"
     ]
    }
   ],
   "source": [
    "l, u = np.linalg.eig(a.T)\n",
    "print(l)\n",
    "print(u)"
   ]
  },
  {
   "cell_type": "code",
   "execution_count": 96,
   "metadata": {
    "colab": {
     "base_uri": "https://localhost:8080/"
    },
    "id": "sHqgbKG1_utl",
    "outputId": "8551ea20-4f61-431f-e129-f0fcb5670384"
   },
   "outputs": [
    {
     "name": "stdout",
     "output_type": "stream",
     "text": [
      "[1. 1. 1.]\n",
      "[[1. 0. 0.]\n",
      " [0. 1. 0.]\n",
      " [0. 0. 1.]]\n"
     ]
    }
   ],
   "source": [
    "l, u = np.linalg.eig(np.eye(3))\n",
    "print(l)\n",
    "print(u)"
   ]
  },
  {
   "cell_type": "markdown",
   "metadata": {
    "id": "x6DE6oKj_utl"
   },
   "source": [
    "***Производительность.***"
   ]
  },
  {
   "cell_type": "code",
   "execution_count": 97,
   "metadata": {
    "colab": {
     "base_uri": "https://localhost:8080/"
    },
    "executionInfo": {
     "elapsed": 588,
     "status": "ok",
     "timestamp": 1615408776444,
     "user": {
      "displayName": "Viktor Andriichuk",
      "photoUrl": "https://lh3.googleusercontent.com/a-/AOh14GhbWW5SY1oXaRK6VciBjiJtDQxh16S41U9lJvKoSQ=s64",
      "userId": "15162222285531888975"
     },
     "user_tz": -120
    },
    "id": "eG_43zlf_utl",
    "outputId": "9197d513-3853-4b70-85a5-692ff1f99d54"
   },
   "outputs": [
    {
     "name": "stdout",
     "output_type": "stream",
     "text": [
      "-2014260032\n",
      "Wall time: 25 ms\n"
     ]
    }
   ],
   "source": [
    "%%time\n",
    "\n",
    "sum_value = np.sum(np.arange(10**7))\n",
    "print(sum_value)"
   ]
  },
  {
   "cell_type": "code",
   "execution_count": 98,
   "metadata": {
    "colab": {
     "base_uri": "https://localhost:8080/"
    },
    "executionInfo": {
     "elapsed": 708,
     "status": "ok",
     "timestamp": 1615408770158,
     "user": {
      "displayName": "Viktor Andriichuk",
      "photoUrl": "https://lh3.googleusercontent.com/a-/AOh14GhbWW5SY1oXaRK6VciBjiJtDQxh16S41U9lJvKoSQ=s64",
      "userId": "15162222285531888975"
     },
     "user_tz": -120
    },
    "id": "nJMt7YsM_uto",
    "outputId": "53693310-583b-4ff0-c40d-4a2e48c8ad28"
   },
   "outputs": [
    {
     "name": "stdout",
     "output_type": "stream",
     "text": [
      "Wall time: 36 ms\n"
     ]
    }
   ],
   "source": [
    "%%time\n",
    "arr = 5*np.arange(10**7)"
   ]
  },
  {
   "cell_type": "markdown",
   "metadata": {
    "id": "VAnhPlAL_utp"
   },
   "source": [
    "# Полезные ссылки"
   ]
  },
  {
   "cell_type": "markdown",
   "metadata": {
    "id": "rpukgcep_utp"
   },
   "source": [
    "[Введение в Анализ Данных](https://mipt-stats.gitlab.io/jekyll/update/2020/02/01/ad.html)\n",
    "\n",
    "[GitHub NumPy](https://github.com/numpy/numpy)\n",
    "\n",
    "[Документация по NumPy](https://numpy.org/doc/stable/)\n",
    "\n",
    "[mlcource.ai](https://mlcourse.ai)"
   ]
  },
  {
   "cell_type": "markdown",
   "metadata": {},
   "source": [
    "<h1 style=\"text-align: center;\"><b>Мои сравнения Numpy с PyTorch</b></h1>"
   ]
  },
  {
   "cell_type": "code",
   "execution_count": 99,
   "metadata": {},
   "outputs": [],
   "source": [
    "import torch\n",
    "import numpy as np\n",
    "import matplotlib.pyplot as plt"
   ]
  },
  {
   "cell_type": "code",
   "execution_count": 100,
   "metadata": {
    "scrolled": true
   },
   "outputs": [
    {
     "data": {
      "text/plain": [
       "'1.7.1+cpu'"
      ]
     },
     "execution_count": 100,
     "metadata": {},
     "output_type": "execute_result"
    }
   ],
   "source": [
    "torch.__version__"
   ]
  },
  {
   "cell_type": "code",
   "execution_count": 101,
   "metadata": {},
   "outputs": [
    {
     "data": {
      "text/plain": [
       "[torch.uint8,\n",
       " torch.int8,\n",
       " torch.int16,\n",
       " torch.int32,\n",
       " torch.int64,\n",
       " torch.float32,\n",
       " torch.float64,\n",
       " torch.float16,\n",
       " torch.bfloat16,\n",
       " torch.bool,\n",
       " torch.complex64,\n",
       " torch.complex128]"
      ]
     },
     "execution_count": 101,
     "metadata": {},
     "output_type": "execute_result"
    }
   ],
   "source": [
    "torch.testing.get_all_dtypes()"
   ]
  },
  {
   "cell_type": "code",
   "execution_count": 102,
   "metadata": {
    "scrolled": true
   },
   "outputs": [
    {
     "data": {
      "text/plain": [
       "array([1, 2, 3, 4, 5, 6])"
      ]
     },
     "execution_count": 102,
     "metadata": {},
     "output_type": "execute_result"
    }
   ],
   "source": [
    "a = np.array([1,2,3,4,5,6])\n",
    "a"
   ]
  },
  {
   "cell_type": "code",
   "execution_count": 103,
   "metadata": {
    "scrolled": false
   },
   "outputs": [
    {
     "data": {
      "text/plain": [
       "tensor([1, 2, 3, 4, 5, 6])"
      ]
     },
     "execution_count": 103,
     "metadata": {},
     "output_type": "execute_result"
    }
   ],
   "source": [
    "b = torch.tensor([1,2,3,4,5,6])\n",
    "b"
   ]
  },
  {
   "cell_type": "code",
   "execution_count": 104,
   "metadata": {
    "scrolled": true
   },
   "outputs": [
    {
     "data": {
      "text/plain": [
       "tensor([1., 2., 3., 4., 5., 6.], dtype=torch.float64)"
      ]
     },
     "execution_count": 104,
     "metadata": {},
     "output_type": "execute_result"
    }
   ],
   "source": [
    "c = torch.tensor([1,2,3,4,5,6], dtype=torch.float64)\n",
    "c"
   ]
  },
  {
   "cell_type": "code",
   "execution_count": 105,
   "metadata": {},
   "outputs": [
    {
     "data": {
      "text/plain": [
       "array([1., 2., 3., 4., 5., 6.])"
      ]
     },
     "execution_count": 105,
     "metadata": {},
     "output_type": "execute_result"
    }
   ],
   "source": [
    "d = np.array([1,2,3,4,5,6], dtype=np.float64)\n",
    "d"
   ]
  },
  {
   "cell_type": "code",
   "execution_count": 106,
   "metadata": {
    "scrolled": false
   },
   "outputs": [
    {
     "data": {
      "text/plain": [
       "array([1, 2, 3, 4, 5, 6], dtype=int64)"
      ]
     },
     "execution_count": 106,
     "metadata": {},
     "output_type": "execute_result"
    }
   ],
   "source": [
    "b.numpy()"
   ]
  },
  {
   "cell_type": "code",
   "execution_count": 107,
   "metadata": {},
   "outputs": [
    {
     "data": {
      "text/plain": [
       "tensor([1, 2, 3, 4, 5, 6], dtype=torch.uint8)"
      ]
     },
     "execution_count": 107,
     "metadata": {},
     "output_type": "execute_result"
    }
   ],
   "source": [
    "b.byte()"
   ]
  },
  {
   "cell_type": "code",
   "execution_count": 108,
   "metadata": {},
   "outputs": [
    {
     "data": {
      "text/plain": [
       "tensor([1, 2, 3, 4, 5, 6], dtype=torch.int8)"
      ]
     },
     "execution_count": 108,
     "metadata": {},
     "output_type": "execute_result"
    }
   ],
   "source": [
    "b.char()"
   ]
  },
  {
   "cell_type": "code",
   "execution_count": 109,
   "metadata": {
    "scrolled": true
   },
   "outputs": [
    {
     "data": {
      "text/plain": [
       "tensor([[1, 2, 3],\n",
       "        [4, 5, 6]])"
      ]
     },
     "execution_count": 109,
     "metadata": {},
     "output_type": "execute_result"
    }
   ],
   "source": [
    "b.reshape(2,3)"
   ]
  },
  {
   "cell_type": "code",
   "execution_count": 110,
   "metadata": {
    "scrolled": true
   },
   "outputs": [
    {
     "data": {
      "text/plain": [
       "tensor([[1., 2., 3.],\n",
       "        [4., 5., 6.]], dtype=torch.float64)"
      ]
     },
     "execution_count": 110,
     "metadata": {},
     "output_type": "execute_result"
    }
   ],
   "source": [
    "c.reshape(2,3)"
   ]
  },
  {
   "cell_type": "code",
   "execution_count": 111,
   "metadata": {},
   "outputs": [
    {
     "data": {
      "text/plain": [
       "tensor([1., 2., 3., 4., 5., 6.], dtype=torch.float64)"
      ]
     },
     "execution_count": 111,
     "metadata": {},
     "output_type": "execute_result"
    }
   ],
   "source": [
    "c.reshape(2,3).flatten()"
   ]
  },
  {
   "cell_type": "code",
   "execution_count": 112,
   "metadata": {
    "scrolled": false
   },
   "outputs": [
    {
     "data": {
      "text/plain": [
       "tensor([1, 2, 3])"
      ]
     },
     "execution_count": 112,
     "metadata": {},
     "output_type": "execute_result"
    }
   ],
   "source": [
    "b[:3]"
   ]
  },
  {
   "cell_type": "code",
   "execution_count": 113,
   "metadata": {
    "scrolled": true
   },
   "outputs": [
    {
     "data": {
      "text/plain": [
       "tensor(2., dtype=torch.float64)"
      ]
     },
     "execution_count": 113,
     "metadata": {},
     "output_type": "execute_result"
    }
   ],
   "source": [
    "c[:3].mean()"
   ]
  },
  {
   "cell_type": "code",
   "execution_count": 114,
   "metadata": {
    "scrolled": true
   },
   "outputs": [
    {
     "data": {
      "text/plain": [
       "tensor(2., dtype=torch.float64)"
      ]
     },
     "execution_count": 114,
     "metadata": {},
     "output_type": "execute_result"
    }
   ],
   "source": [
    "torch.mean(c[:3])"
   ]
  },
  {
   "cell_type": "code",
   "execution_count": 115,
   "metadata": {},
   "outputs": [
    {
     "data": {
      "text/plain": [
       "2.0"
      ]
     },
     "execution_count": 115,
     "metadata": {},
     "output_type": "execute_result"
    }
   ],
   "source": [
    "torch.mean(c[:3]).item()"
   ]
  },
  {
   "cell_type": "code",
   "execution_count": 116,
   "metadata": {},
   "outputs": [
    {
     "data": {
      "text/plain": [
       "10000000"
      ]
     },
     "execution_count": 116,
     "metadata": {},
     "output_type": "execute_result"
    }
   ],
   "source": [
    "x = np.linspace(0, 10, 10**7)\n",
    "len(x)"
   ]
  },
  {
   "cell_type": "code",
   "execution_count": 117,
   "metadata": {
    "scrolled": true
   },
   "outputs": [
    {
     "name": "stdout",
     "output_type": "stream",
     "text": [
      "Wall time: 779 ms\n"
     ]
    },
    {
     "data": {
      "text/plain": [
       "array([2.        , 2.00000101, 2.00000202, ..., 1.10145394, 1.10145303,\n",
       "       1.10145211])"
      ]
     },
     "execution_count": 117,
     "metadata": {},
     "output_type": "execute_result"
    }
   ],
   "source": [
    "%%time\n",
    "\n",
    "y = np.sin(x) + np.cos(x/10) + np.exp(x/100)\n",
    "y"
   ]
  },
  {
   "cell_type": "code",
   "execution_count": 118,
   "metadata": {},
   "outputs": [
    {
     "data": {
      "text/plain": [
       "10000000"
      ]
     },
     "execution_count": 118,
     "metadata": {},
     "output_type": "execute_result"
    }
   ],
   "source": [
    "v = torch.linspace(0, 10, 10**7)\n",
    "len(v)"
   ]
  },
  {
   "cell_type": "code",
   "execution_count": 119,
   "metadata": {
    "scrolled": true
   },
   "outputs": [
    {
     "name": "stdout",
     "output_type": "stream",
     "text": [
      "Wall time: 158 ms\n"
     ]
    },
    {
     "data": {
      "text/plain": [
       "tensor([2.0000, 2.0000, 2.0000,  ..., 1.1015, 1.1015, 1.1015])"
      ]
     },
     "execution_count": 119,
     "metadata": {},
     "output_type": "execute_result"
    }
   ],
   "source": [
    "%%time\n",
    "\n",
    "w = torch.sin(v) + torch.cos(v/10) + torch.exp(v/100)\n",
    "w"
   ]
  },
  {
   "cell_type": "code",
   "execution_count": 120,
   "metadata": {},
   "outputs": [],
   "source": [
    "device = torch.device(\"cuda:0\" if torch.cuda.is_available() else \"cpu\")"
   ]
  },
  {
   "cell_type": "code",
   "execution_count": 121,
   "metadata": {},
   "outputs": [],
   "source": [
    "v = v.to(device)"
   ]
  },
  {
   "cell_type": "code",
   "execution_count": 122,
   "metadata": {
    "scrolled": true
   },
   "outputs": [
    {
     "name": "stdout",
     "output_type": "stream",
     "text": [
      "Wall time: 141 ms\n"
     ]
    },
    {
     "data": {
      "text/plain": [
       "tensor([2.0000, 2.0000, 2.0000,  ..., 1.1015, 1.1015, 1.1015])"
      ]
     },
     "execution_count": 122,
     "metadata": {},
     "output_type": "execute_result"
    }
   ],
   "source": [
    "%%time\n",
    "\n",
    "w = torch.sin(v) + torch.cos(v/10) + torch.exp(v/100)\n",
    "w"
   ]
  },
  {
   "cell_type": "code",
   "execution_count": 123,
   "metadata": {
    "scrolled": true
   },
   "outputs": [
    {
     "data": {
      "text/plain": [
       "array([51, 52, 53, 54, 55, 56])"
      ]
     },
     "execution_count": 123,
     "metadata": {},
     "output_type": "execute_result"
    }
   ],
   "source": [
    "a = a + 50\n",
    "a"
   ]
  },
  {
   "cell_type": "code",
   "execution_count": 124,
   "metadata": {},
   "outputs": [
    {
     "data": {
      "text/plain": [
       "tensor([51, 52, 53, 54, 55, 56])"
      ]
     },
     "execution_count": 124,
     "metadata": {},
     "output_type": "execute_result"
    }
   ],
   "source": [
    "b = b + 50\n",
    "b"
   ]
  },
  {
   "cell_type": "markdown",
   "metadata": {},
   "source": [
    "Если в команде Torch в конце добавить _, то будет inline-изменение объекта. Иначе - нет"
   ]
  },
  {
   "cell_type": "code",
   "execution_count": 125,
   "metadata": {
    "scrolled": true
   },
   "outputs": [
    {
     "data": {
      "text/plain": [
       "tensor([101, 102, 103, 104, 105, 106])"
      ]
     },
     "execution_count": 125,
     "metadata": {},
     "output_type": "execute_result"
    }
   ],
   "source": [
    "b.add_(50)"
   ]
  },
  {
   "cell_type": "code",
   "execution_count": 126,
   "metadata": {},
   "outputs": [
    {
     "data": {
      "text/plain": [
       "tensor([151, 152, 153, 154, 155, 156])"
      ]
     },
     "execution_count": 126,
     "metadata": {},
     "output_type": "execute_result"
    }
   ],
   "source": [
    "b.add(50)"
   ]
  },
  {
   "cell_type": "markdown",
   "metadata": {},
   "source": [
    "# Создание тензоров"
   ]
  },
  {
   "cell_type": "markdown",
   "metadata": {},
   "source": [
    "Опишем.вспомогательную.функцию,.describe(x),.для.вывода.различных.характеристик.тензора.x,.например.типа.тензора,.его.размерности.и.содержимого"
   ]
  },
  {
   "cell_type": "code",
   "execution_count": 127,
   "metadata": {},
   "outputs": [],
   "source": [
    "def describe(x):\n",
    "    print(\"Type: {}\".format(x.type()))\n",
    "    print(\"Shape/size: {}\".format(x.shape))\n",
    "    print(\"Values: \\n{}\".format(x))\n",
    "    \n",
    "    plt.plot(x.squeeze().numpy())\n",
    "    plt.show()"
   ]
  },
  {
   "cell_type": "code",
   "execution_count": 128,
   "metadata": {
    "scrolled": true
   },
   "outputs": [
    {
     "name": "stdout",
     "output_type": "stream",
     "text": [
      "Type: torch.FloatTensor\n",
      "Shape/size: torch.Size([2, 3])\n",
      "Values: \n",
      "tensor([[2.7593e-06, 6.3014e-10, 8.2659e-10],\n",
      "        [4.2013e-05, 4.0335e-11, 4.2330e+21]])\n"
     ]
    },
    {
     "data": {
      "image/png": "[encoded data removed]",
      "text/plain": [
       "<Figure size 432x288 with 1 Axes>"
      ]
     },
     "metadata": {
      "needs_background": "light"
     },
     "output_type": "display_data"
    }
   ],
   "source": [
    "describe(torch.Tensor(2, 3))"
   ]
  },
  {
   "cell_type": "code",
   "execution_count": 129,
   "metadata": {
    "scrolled": true
   },
   "outputs": [
    {
     "name": "stdout",
     "output_type": "stream",
     "text": [
      "Type: torch.FloatTensor\n",
      "Shape/size: torch.Size([1, 120])\n",
      "Values: \n",
      "tensor([[0.0884, 0.3516, 0.5663, 0.6792, 0.5083, 0.0263, 0.5899, 0.1293, 0.7343,\n",
      "         0.2766, 0.2785, 0.7053, 0.9198, 0.9653, 0.7343, 0.9803, 0.8707, 0.5264,\n",
      "         0.0070, 0.9702, 0.1028, 0.0682, 0.9897, 0.9752, 0.9433, 0.3309, 0.9338,\n",
      "         0.0699, 0.8120, 0.1021, 0.7446, 0.4289, 0.6517, 0.1296, 0.1773, 0.2446,\n",
      "         0.9398, 0.2769, 0.4214, 0.5329, 0.0072, 0.2183, 0.8890, 0.1120, 0.9086,\n",
      "         0.5884, 0.3386, 0.0451, 0.6768, 0.0882, 0.7352, 0.2693, 0.1018, 0.2219,\n",
      "         0.1998, 0.8886, 0.1809, 0.9577, 0.4698, 0.6986, 0.4359, 0.3323, 0.0446,\n",
      "         0.3651, 0.4419, 0.1752, 0.7880, 0.8131, 0.0641, 0.2916, 0.1313, 0.1970,\n",
      "         0.0227, 0.9541, 0.5343, 0.3772, 0.1040, 0.5544, 0.5667, 0.1439, 0.8311,\n",
      "         0.0441, 0.2585, 0.3464, 0.9240, 0.2017, 0.2087, 0.4783, 0.7152, 0.8604,\n",
      "         0.2484, 0.7242, 0.6509, 0.4829, 0.4096, 0.4459, 0.3341, 0.2442, 0.2768,\n",
      "         0.2953, 0.4401, 0.0651, 0.0770, 0.2721, 0.8427, 0.2319, 0.8443, 0.5800,\n",
      "         0.1326, 0.0863, 0.9639, 0.1790, 0.6032, 0.9203, 0.6444, 0.4438, 0.4730,\n",
      "         0.2510, 0.1543, 0.5451]])\n"
     ]
    },
    {
     "data": {
      "image/png": "[encoded data removed]",
      "text/plain": [
       "<Figure size 432x288 with 1 Axes>"
      ]
     },
     "metadata": {
      "needs_background": "light"
     },
     "output_type": "display_data"
    }
   ],
   "source": [
    "describe(torch.rand(3, 40).resize_(1, 120)) # случайное равномерное распределение"
   ]
  },
  {
   "cell_type": "code",
   "execution_count": 130,
   "metadata": {
    "scrolled": true
   },
   "outputs": [
    {
     "name": "stdout",
     "output_type": "stream",
     "text": [
      "Type: torch.FloatTensor\n",
      "Shape/size: torch.Size([1, 30])\n",
      "Values: \n",
      "tensor([[-1.1786,  0.0393,  0.0406,  1.5508,  0.9402,  0.5342, -0.7824,  0.9001,\n",
      "         -1.0299, -0.6049, -0.0909,  0.5890, -0.5803, -0.9297,  0.8992, -0.4269,\n",
      "          0.6061, -0.4523,  0.4056,  0.2258, -0.2330,  0.9860, -0.2268, -0.4525,\n",
      "          0.0295,  0.0503, -0.5982,  1.1804, -1.1246, -0.7560]])\n"
     ]
    },
    {
     "data": {
      "image/png": "[encoded data removed]",
      "text/plain": [
       "<Figure size 432x288 with 1 Axes>"
      ]
     },
     "metadata": {
      "needs_background": "light"
     },
     "output_type": "display_data"
    }
   ],
   "source": [
    "describe(torch.randn(1, 30)) # случайное нормальное распределение"
   ]
  },
  {
   "cell_type": "markdown",
   "metadata": {},
   "source": [
    "Создание и инициализация тензора значениями из массива NumPy"
   ]
  },
  {
   "cell_type": "code",
   "execution_count": 131,
   "metadata": {
    "scrolled": true
   },
   "outputs": [
    {
     "name": "stdout",
     "output_type": "stream",
     "text": [
      "Type: torch.DoubleTensor\n",
      "Shape/size: torch.Size([1, 30])\n",
      "Values: \n",
      "tensor([[-0.4156,  0.0066, -1.6702, -2.0681,  0.6503, -0.5143,  0.5394,  1.5268,\n",
      "         -3.2772, -1.8486,  0.6721, -1.4930, -0.8272,  0.9142, -0.9312,  0.0517,\n",
      "          0.6279,  0.3493,  0.0883,  0.0120,  0.7495, -0.0746, -0.0929,  1.2050,\n",
      "         -0.1829,  0.2688,  1.0884, -0.9915,  0.6220, -1.6553]],\n",
      "       dtype=torch.float64)\n"
     ]
    },
    {
     "data": {
      "image/png": "[encoded data removed]",
      "text/plain": [
       "<Figure size 432x288 with 1 Axes>"
      ]
     },
     "metadata": {
      "needs_background": "light"
     },
     "output_type": "display_data"
    }
   ],
   "source": [
    "npy = np.random.randn(1, 30)\n",
    "describe(torch.from_numpy(npy))"
   ]
  },
  {
   "cell_type": "markdown",
   "metadata": {},
   "source": [
    "Двусторонний генератор нормального (гауссовского) распределения, созданный с помощью PyTorch"
   ]
  },
  {
   "attachments": {
    "xPWcM.jpg": {
     "image/jpeg": "[encoded data removed]"
    }
   },
   "cell_type": "markdown",
   "metadata": {},
   "source": [
    "![xPWcM.jpg](attachment:xPWcM.jpg)"
   ]
  },
  {
   "cell_type": "markdown",
   "metadata": {},
   "source": [
    "https://ru.stackoverflow.com/questions/1129006/%D0%9A%D0%B0%D0%BA%D0%BE%D0%B2-%D0%B4%D0%B8%D0%B0%D0%BF%D0%B0%D0%B7%D0%BE%D0%BD-%D1%80%D0%B0%D1%81%D0%BF%D1%80%D0%B5%D0%B4%D0%B5%D0%BB%D0%B5%D0%BD%D0%B8%D1%8F-%D1%84%D1%83%D0%BD%D0%BA%D1%86%D0%B8%D0%B8-randn"
   ]
  },
  {
   "cell_type": "code",
   "execution_count": 132,
   "metadata": {
    "scrolled": true
   },
   "outputs": [
    {
     "name": "stdout",
     "output_type": "stream",
     "text": [
      "torch.Size([1000])\n",
      "tensor(-3.3036)\n",
      "tensor(3.7601)\n"
     ]
    },
    {
     "data": {
      "image/png": "[encoded data removed]",
      "text/plain": [
       "<Figure size 432x288 with 1 Axes>"
      ]
     },
     "metadata": {
      "needs_background": "light"
     },
     "output_type": "display_data"
    }
   ],
   "source": [
    "a = torch.randn(10, 100).flatten() # вытяну тензор в вектор\n",
    "\n",
    "print(a.size())\n",
    "\n",
    "\n",
    "print(a.min())\n",
    "print(a.max())\n",
    "\n",
    "plt.plot(a.squeeze().numpy())\n",
    "plt.show()"
   ]
  },
  {
   "cell_type": "markdown",
   "metadata": {},
   "source": [
    "Простые задачи в PyTorch"
   ]
  },
  {
   "cell_type": "code",
   "execution_count": 167,
   "metadata": {},
   "outputs": [
    {
     "name": "stdout",
     "output_type": "stream",
     "text": [
      "tensor([[[[0., 0., 0.,  ..., 0., 0., 0.],\n",
      "          [0., 0., 0.,  ..., 0., 0., 0.],\n",
      "          [0., 0., 0.,  ..., 0., 0., 0.],\n",
      "          ...,\n",
      "          [0., 0., 0.,  ..., 0., 0., 0.],\n",
      "          [0., 0., 0.,  ..., 0., 0., 0.],\n",
      "          [0., 0., 0.,  ..., 0., 0., 0.]],\n",
      "\n",
      "         [[0., 0., 0.,  ..., 0., 0., 0.],\n",
      "          [0., 0., 0.,  ..., 0., 0., 0.],\n",
      "          [0., 0., 0.,  ..., 0., 0., 0.],\n",
      "          ...,\n",
      "          [0., 0., 0.,  ..., 0., 0., 0.],\n",
      "          [0., 0., 0.,  ..., 0., 0., 0.],\n",
      "          [0., 0., 0.,  ..., 0., 0., 0.]],\n",
      "\n",
      "         [[0., 0., 0.,  ..., 0., 0., 0.],\n",
      "          [0., 0., 0.,  ..., 0., 0., 0.],\n",
      "          [0., 0., 0.,  ..., 0., 0., 0.],\n",
      "          ...,\n",
      "          [0., 0., 0.,  ..., 0., 0., 0.],\n",
      "          [0., 0., 0.,  ..., 0., 0., 0.],\n",
      "          [0., 0., 0.,  ..., 0., 0., 0.]],\n",
      "\n",
      "         ...,\n",
      "\n",
      "         [[0., 0., 0.,  ..., 0., 0., 0.],\n",
      "          [0., 0., 0.,  ..., 0., 0., 0.],\n",
      "          [0., 0., 0.,  ..., 0., 0., 0.],\n",
      "          ...,\n",
      "          [0., 0., 0.,  ..., 0., 0., 0.],\n",
      "          [0., 0., 0.,  ..., 0., 0., 0.],\n",
      "          [0., 0., 0.,  ..., 0., 0., 0.]],\n",
      "\n",
      "         [[0., 0., 0.,  ..., 0., 0., 0.],\n",
      "          [0., 0., 0.,  ..., 0., 0., 0.],\n",
      "          [0., 0., 0.,  ..., 0., 0., 0.],\n",
      "          ...,\n",
      "          [0., 0., 0.,  ..., 0., 0., 0.],\n",
      "          [0., 0., 0.,  ..., 0., 0., 0.],\n",
      "          [0., 0., 0.,  ..., 0., 0., 0.]],\n",
      "\n",
      "         [[0., 0., 0.,  ..., 0., 0., 0.],\n",
      "          [0., 0., 0.,  ..., 0., 0., 0.],\n",
      "          [0., 0., 0.,  ..., 0., 0., 0.],\n",
      "          ...,\n",
      "          [0., 0., 0.,  ..., 0., 0., 0.],\n",
      "          [0., 0., 0.,  ..., 0., 0., 0.],\n",
      "          [0., 0., 0.,  ..., 0., 0., 0.]]],\n",
      "\n",
      "\n",
      "        [[[0., 0., 0.,  ..., 0., 0., 0.],\n",
      "          [0., 0., 0.,  ..., 0., 0., 0.],\n",
      "          [0., 0., 0.,  ..., 0., 0., 0.],\n",
      "          ...,\n",
      "          [0., 0., 0.,  ..., 0., 0., 0.],\n",
      "          [0., 0., 0.,  ..., 0., 0., 0.],\n",
      "          [0., 0., 0.,  ..., 0., 0., 0.]],\n",
      "\n",
      "         [[0., 0., 0.,  ..., 0., 0., 0.],\n",
      "          [0., 0., 0.,  ..., 0., 0., 0.],\n",
      "          [0., 0., 0.,  ..., 0., 0., 0.],\n",
      "          ...,\n",
      "          [0., 0., 0.,  ..., 0., 0., 0.],\n",
      "          [0., 0., 0.,  ..., 0., 0., 0.],\n",
      "          [0., 0., 0.,  ..., 0., 0., 0.]],\n",
      "\n",
      "         [[0., 0., 0.,  ..., 0., 0., 0.],\n",
      "          [0., 0., 0.,  ..., 0., 0., 0.],\n",
      "          [0., 0., 0.,  ..., 0., 0., 0.],\n",
      "          ...,\n",
      "          [0., 0., 0.,  ..., 0., 0., 0.],\n",
      "          [0., 0., 0.,  ..., 0., 0., 0.],\n",
      "          [0., 0., 0.,  ..., 0., 0., 0.]],\n",
      "\n",
      "         ...,\n",
      "\n",
      "         [[0., 0., 0.,  ..., 0., 0., 0.],\n",
      "          [0., 0., 0.,  ..., 0., 0., 0.],\n",
      "          [0., 0., 0.,  ..., 0., 0., 0.],\n",
      "          ...,\n",
      "          [0., 0., 0.,  ..., 0., 0., 0.],\n",
      "          [0., 0., 0.,  ..., 0., 0., 0.],\n",
      "          [0., 0., 0.,  ..., 0., 0., 0.]],\n",
      "\n",
      "         [[0., 0., 0.,  ..., 0., 0., 0.],\n",
      "          [0., 0., 0.,  ..., 0., 0., 0.],\n",
      "          [0., 0., 0.,  ..., 0., 0., 0.],\n",
      "          ...,\n",
      "          [0., 0., 0.,  ..., 0., 0., 0.],\n",
      "          [0., 0., 0.,  ..., 0., 0., 0.],\n",
      "          [0., 0., 0.,  ..., 0., 0., 0.]],\n",
      "\n",
      "         [[0., 0., 0.,  ..., 0., 0., 0.],\n",
      "          [0., 0., 0.,  ..., 0., 0., 0.],\n",
      "          [0., 0., 0.,  ..., 0., 0., 0.],\n",
      "          ...,\n",
      "          [0., 0., 0.,  ..., 0., 0., 0.],\n",
      "          [0., 0., 0.,  ..., 0., 0., 0.],\n",
      "          [0., 0., 0.,  ..., 0., 0., 0.]]],\n",
      "\n",
      "\n",
      "        [[[0., 0., 0.,  ..., 0., 0., 0.],\n",
      "          [0., 0., 0.,  ..., 0., 0., 0.],\n",
      "          [0., 0., 0.,  ..., 0., 0., 0.],\n",
      "          ...,\n",
      "          [0., 0., 0.,  ..., 0., 0., 0.],\n",
      "          [0., 0., 0.,  ..., 0., 0., 0.],\n",
      "          [0., 0., 0.,  ..., 0., 0., 0.]],\n",
      "\n",
      "         [[0., 0., 0.,  ..., 0., 0., 0.],\n",
      "          [0., 0., 0.,  ..., 0., 0., 0.],\n",
      "          [0., 0., 0.,  ..., 0., 0., 0.],\n",
      "          ...,\n",
      "          [0., 0., 0.,  ..., 0., 0., 0.],\n",
      "          [0., 0., 0.,  ..., 0., 0., 0.],\n",
      "          [0., 0., 0.,  ..., 0., 0., 0.]],\n",
      "\n",
      "         [[0., 0., 0.,  ..., 0., 0., 0.],\n",
      "          [0., 0., 0.,  ..., 0., 0., 0.],\n",
      "          [0., 0., 0.,  ..., 0., 0., 0.],\n",
      "          ...,\n",
      "          [0., 0., 0.,  ..., 0., 0., 0.],\n",
      "          [0., 0., 0.,  ..., 0., 0., 0.],\n",
      "          [0., 0., 0.,  ..., 0., 0., 0.]],\n",
      "\n",
      "         ...,\n",
      "\n",
      "         [[0., 0., 0.,  ..., 0., 0., 0.],\n",
      "          [0., 0., 0.,  ..., 0., 0., 0.],\n",
      "          [0., 0., 0.,  ..., 0., 0., 0.],\n",
      "          ...,\n",
      "          [0., 0., 0.,  ..., 0., 0., 0.],\n",
      "          [0., 0., 0.,  ..., 0., 0., 0.],\n",
      "          [0., 0., 0.,  ..., 0., 0., 0.]],\n",
      "\n",
      "         [[0., 0., 0.,  ..., 0., 0., 0.],\n",
      "          [0., 0., 0.,  ..., 0., 0., 0.],\n",
      "          [0., 0., 0.,  ..., 0., 0., 0.],\n",
      "          ...,\n",
      "          [0., 0., 0.,  ..., 0., 0., 0.],\n",
      "          [0., 0., 0.,  ..., 0., 0., 0.],\n",
      "          [0., 0., 0.,  ..., 0., 0., 0.]],\n",
      "\n",
      "         [[0., 0., 0.,  ..., 0., 0., 0.],\n",
      "          [0., 0., 0.,  ..., 0., 0., 0.],\n",
      "          [0., 0., 0.,  ..., 0., 0., 0.],\n",
      "          ...,\n",
      "          [0., 0., 0.,  ..., 0., 0., 0.],\n",
      "          [0., 0., 0.,  ..., 0., 0., 0.],\n",
      "          [0., 0., 0.,  ..., 0., 0., 0.]]],\n",
      "\n",
      "\n",
      "        ...,\n",
      "\n",
      "\n",
      "        [[[0., 0., 0.,  ..., 0., 0., 0.],\n",
      "          [0., 0., 0.,  ..., 0., 0., 0.],\n",
      "          [0., 0., 0.,  ..., 0., 0., 0.],\n",
      "          ...,\n",
      "          [0., 0., 0.,  ..., 0., 0., 0.],\n",
      "          [0., 0., 0.,  ..., 0., 0., 0.],\n",
      "          [0., 0., 0.,  ..., 0., 0., 0.]],\n",
      "\n",
      "         [[0., 0., 0.,  ..., 0., 0., 0.],\n",
      "          [0., 0., 0.,  ..., 0., 0., 0.],\n",
      "          [0., 0., 0.,  ..., 0., 0., 0.],\n",
      "          ...,\n",
      "          [0., 0., 0.,  ..., 0., 0., 0.],\n",
      "          [0., 0., 0.,  ..., 0., 0., 0.],\n",
      "          [0., 0., 0.,  ..., 0., 0., 0.]],\n",
      "\n",
      "         [[0., 0., 0.,  ..., 0., 0., 0.],\n",
      "          [0., 0., 0.,  ..., 0., 0., 0.],\n",
      "          [0., 0., 0.,  ..., 0., 0., 0.],\n",
      "          ...,\n",
      "          [0., 0., 0.,  ..., 0., 0., 0.],\n",
      "          [0., 0., 0.,  ..., 0., 0., 0.],\n",
      "          [0., 0., 0.,  ..., 0., 0., 0.]],\n",
      "\n",
      "         ...,\n",
      "\n",
      "         [[0., 0., 0.,  ..., 0., 0., 0.],\n",
      "          [0., 0., 0.,  ..., 0., 0., 0.],\n",
      "          [0., 0., 0.,  ..., 0., 0., 0.],\n",
      "          ...,\n",
      "          [0., 0., 0.,  ..., 0., 0., 0.],\n",
      "          [0., 0., 0.,  ..., 0., 0., 0.],\n",
      "          [0., 0., 0.,  ..., 0., 0., 0.]],\n",
      "\n",
      "         [[0., 0., 0.,  ..., 0., 0., 0.],\n",
      "          [0., 0., 0.,  ..., 0., 0., 0.],\n",
      "          [0., 0., 0.,  ..., 0., 0., 0.],\n",
      "          ...,\n",
      "          [0., 0., 0.,  ..., 0., 0., 0.],\n",
      "          [0., 0., 0.,  ..., 0., 0., 0.],\n",
      "          [0., 0., 0.,  ..., 0., 0., 0.]],\n",
      "\n",
      "         [[0., 0., 0.,  ..., 0., 0., 0.],\n",
      "          [0., 0., 0.,  ..., 0., 0., 0.],\n",
      "          [0., 0., 0.,  ..., 0., 0., 0.],\n",
      "          ...,\n",
      "          [0., 0., 0.,  ..., 0., 0., 0.],\n",
      "          [0., 0., 0.,  ..., 0., 0., 0.],\n",
      "          [0., 0., 0.,  ..., 0., 0., 0.]]],\n",
      "\n",
      "\n",
      "        [[[0., 0., 0.,  ..., 0., 0., 0.],\n",
      "          [0., 0., 0.,  ..., 0., 0., 0.],\n",
      "          [0., 0., 0.,  ..., 0., 0., 0.],\n",
      "          ...,\n",
      "          [0., 0., 0.,  ..., 0., 0., 0.],\n",
      "          [0., 0., 0.,  ..., 0., 0., 0.],\n",
      "          [0., 0., 0.,  ..., 0., 0., 0.]],\n",
      "\n",
      "         [[0., 0., 0.,  ..., 0., 0., 0.],\n",
      "          [0., 0., 0.,  ..., 0., 0., 0.],\n",
      "          [0., 0., 0.,  ..., 0., 0., 0.],\n",
      "          ...,\n",
      "          [0., 0., 0.,  ..., 0., 0., 0.],\n",
      "          [0., 0., 0.,  ..., 0., 0., 0.],\n",
      "          [0., 0., 0.,  ..., 0., 0., 0.]],\n",
      "\n",
      "         [[0., 0., 0.,  ..., 0., 0., 0.],\n",
      "          [0., 0., 0.,  ..., 0., 0., 0.],\n",
      "          [0., 0., 0.,  ..., 0., 0., 0.],\n",
      "          ...,\n",
      "          [0., 0., 0.,  ..., 0., 0., 0.],\n",
      "          [0., 0., 0.,  ..., 0., 0., 0.],\n",
      "          [0., 0., 0.,  ..., 0., 0., 0.]],\n",
      "\n",
      "         ...,\n",
      "\n",
      "         [[0., 0., 0.,  ..., 0., 0., 0.],\n",
      "          [0., 0., 0.,  ..., 0., 0., 0.],\n",
      "          [0., 0., 0.,  ..., 0., 0., 0.],\n",
      "          ...,\n",
      "          [0., 0., 0.,  ..., 0., 0., 0.],\n",
      "          [0., 0., 0.,  ..., 0., 0., 0.],\n",
      "          [0., 0., 0.,  ..., 0., 0., 0.]],\n",
      "\n",
      "         [[0., 0., 0.,  ..., 0., 0., 0.],\n",
      "          [0., 0., 0.,  ..., 0., 0., 0.],\n",
      "          [0., 0., 0.,  ..., 0., 0., 0.],\n",
      "          ...,\n",
      "          [0., 0., 0.,  ..., 0., 0., 0.],\n",
      "          [0., 0., 0.,  ..., 0., 0., 0.],\n",
      "          [0., 0., 0.,  ..., 0., 0., 0.]],\n",
      "\n",
      "         [[0., 0., 0.,  ..., 0., 0., 0.],\n",
      "          [0., 0., 0.,  ..., 0., 0., 0.],\n",
      "          [0., 0., 0.,  ..., 0., 0., 0.],\n",
      "          ...,\n",
      "          [0., 0., 0.,  ..., 0., 0., 0.],\n",
      "          [0., 0., 0.,  ..., 0., 0., 0.],\n",
      "          [0., 0., 0.,  ..., 0., 0., 0.]]],\n",
      "\n",
      "\n",
      "        [[[0., 0., 0.,  ..., 0., 0., 0.],\n",
      "          [0., 0., 0.,  ..., 0., 0., 0.],\n",
      "          [0., 0., 0.,  ..., 0., 0., 0.],\n",
      "          ...,\n",
      "          [0., 0., 0.,  ..., 0., 0., 0.],\n",
      "          [0., 0., 0.,  ..., 0., 0., 0.],\n",
      "          [0., 0., 0.,  ..., 0., 0., 0.]],\n",
      "\n",
      "         [[0., 0., 0.,  ..., 0., 0., 0.],\n",
      "          [0., 0., 0.,  ..., 0., 0., 0.],\n",
      "          [0., 0., 0.,  ..., 0., 0., 0.],\n",
      "          ...,\n",
      "          [0., 0., 0.,  ..., 0., 0., 0.],\n",
      "          [0., 0., 0.,  ..., 0., 0., 0.],\n",
      "          [0., 0., 0.,  ..., 0., 0., 0.]],\n",
      "\n",
      "         [[0., 0., 0.,  ..., 0., 0., 0.],\n",
      "          [0., 0., 0.,  ..., 0., 0., 0.],\n",
      "          [0., 0., 0.,  ..., 0., 0., 0.],\n",
      "          ...,\n",
      "          [0., 0., 0.,  ..., 0., 0., 0.],\n",
      "          [0., 0., 0.,  ..., 0., 0., 0.],\n",
      "          [0., 0., 0.,  ..., 0., 0., 0.]],\n",
      "\n",
      "         ...,\n",
      "\n",
      "         [[0., 0., 0.,  ..., 0., 0., 0.],\n",
      "          [0., 0., 0.,  ..., 0., 0., 0.],\n",
      "          [0., 0., 0.,  ..., 0., 0., 0.],\n",
      "          ...,\n",
      "          [0., 0., 0.,  ..., 0., 0., 0.],\n",
      "          [0., 0., 0.,  ..., 0., 0., 0.],\n",
      "          [0., 0., 0.,  ..., 0., 0., 0.]],\n",
      "\n",
      "         [[0., 0., 0.,  ..., 0., 0., 0.],\n",
      "          [0., 0., 0.,  ..., 0., 0., 0.],\n",
      "          [0., 0., 0.,  ..., 0., 0., 0.],\n",
      "          ...,\n",
      "          [0., 0., 0.,  ..., 0., 0., 0.],\n",
      "          [0., 0., 0.,  ..., 0., 0., 0.],\n",
      "          [0., 0., 0.,  ..., 0., 0., 0.]],\n",
      "\n",
      "         [[0., 0., 0.,  ..., 0., 0., 0.],\n",
      "          [0., 0., 0.,  ..., 0., 0., 0.],\n",
      "          [0., 0., 0.,  ..., 0., 0., 0.],\n",
      "          ...,\n",
      "          [0., 0., 0.,  ..., 0., 0., 0.],\n",
      "          [0., 0., 0.,  ..., 0., 0., 0.],\n",
      "          [0., 0., 0.,  ..., 0., 0., 0.]]]])\n",
      "tensor([[[[ 6.1496e-01,  2.2894e-01, -3.0589e-01,  ...,  0.0000e+00,\n",
      "            0.0000e+00,  0.0000e+00],\n",
      "          [-2.7881e-01,  1.3836e+00,  1.0356e+00,  ...,  0.0000e+00,\n",
      "            0.0000e+00,  0.0000e+00],\n",
      "          [ 2.0581e-02,  4.3843e-01, -7.1775e-01,  ...,  0.0000e+00,\n",
      "            0.0000e+00,  0.0000e+00],\n",
      "          ...,\n",
      "          [ 0.0000e+00,  0.0000e+00,  0.0000e+00,  ...,  0.0000e+00,\n",
      "            0.0000e+00,  0.0000e+00],\n",
      "          [ 0.0000e+00,  0.0000e+00,  0.0000e+00,  ...,  0.0000e+00,\n",
      "            0.0000e+00,  0.0000e+00],\n",
      "          [ 0.0000e+00,  0.0000e+00,  0.0000e+00,  ...,  0.0000e+00,\n",
      "            0.0000e+00,  0.0000e+00]],\n",
      "\n",
      "         [[-1.8944e-01, -2.0726e-01, -8.6005e-01,  ...,  0.0000e+00,\n",
      "            0.0000e+00,  0.0000e+00],\n",
      "          [-2.5262e-02, -1.5959e+00,  2.1519e-01,  ...,  0.0000e+00,\n",
      "            0.0000e+00,  0.0000e+00],\n",
      "          [ 1.6177e-01,  8.9782e-01,  4.0296e-01,  ...,  0.0000e+00,\n",
      "            0.0000e+00,  0.0000e+00],\n",
      "          ...,\n",
      "          [ 0.0000e+00,  0.0000e+00,  0.0000e+00,  ...,  0.0000e+00,\n",
      "            0.0000e+00,  0.0000e+00],\n",
      "          [ 0.0000e+00,  0.0000e+00,  0.0000e+00,  ...,  0.0000e+00,\n",
      "            0.0000e+00,  0.0000e+00],\n",
      "          [ 0.0000e+00,  0.0000e+00,  0.0000e+00,  ...,  0.0000e+00,\n",
      "            0.0000e+00,  0.0000e+00]],\n",
      "\n",
      "         [[-5.9110e-01, -4.8708e-02,  5.3105e-01,  ...,  0.0000e+00,\n",
      "            0.0000e+00,  0.0000e+00],\n",
      "          [-4.2884e-01,  2.1018e-01,  8.5081e-01,  ...,  0.0000e+00,\n",
      "            0.0000e+00,  0.0000e+00],\n",
      "          [-4.0038e-01, -1.2219e+00, -3.8815e-01,  ...,  0.0000e+00,\n",
      "            0.0000e+00,  0.0000e+00],\n",
      "          ...,\n",
      "          [ 0.0000e+00,  0.0000e+00,  0.0000e+00,  ...,  0.0000e+00,\n",
      "            0.0000e+00,  0.0000e+00],\n",
      "          [ 0.0000e+00,  0.0000e+00,  0.0000e+00,  ...,  0.0000e+00,\n",
      "            0.0000e+00,  0.0000e+00],\n",
      "          [ 0.0000e+00,  0.0000e+00,  0.0000e+00,  ...,  0.0000e+00,\n",
      "            0.0000e+00,  0.0000e+00]],\n",
      "\n",
      "         ...,\n",
      "\n",
      "         [[ 1.5853e+00, -1.8194e+00,  3.8189e-01,  ...,  0.0000e+00,\n",
      "            0.0000e+00,  0.0000e+00],\n",
      "          [ 1.4868e+00,  8.7968e-01, -1.4852e+00,  ...,  0.0000e+00,\n",
      "            0.0000e+00,  0.0000e+00],\n",
      "          [ 1.2830e+00,  3.8443e-01, -2.1153e-01,  ...,  0.0000e+00,\n",
      "            0.0000e+00,  0.0000e+00],\n",
      "          ...,\n",
      "          [ 0.0000e+00,  0.0000e+00,  0.0000e+00,  ...,  0.0000e+00,\n",
      "            0.0000e+00,  0.0000e+00],\n",
      "          [ 0.0000e+00,  0.0000e+00,  0.0000e+00,  ...,  0.0000e+00,\n",
      "            0.0000e+00,  0.0000e+00],\n",
      "          [ 0.0000e+00,  0.0000e+00,  0.0000e+00,  ...,  0.0000e+00,\n",
      "            0.0000e+00,  0.0000e+00]],\n",
      "\n",
      "         [[ 2.9534e-01,  2.9674e+00, -1.5243e+00,  ...,  0.0000e+00,\n",
      "            0.0000e+00,  0.0000e+00],\n",
      "          [ 6.6193e-01, -2.2595e-01,  6.8970e-01,  ...,  0.0000e+00,\n",
      "            0.0000e+00,  0.0000e+00],\n",
      "          [-4.0804e-01,  2.7757e+00, -1.0277e-01,  ...,  0.0000e+00,\n",
      "            0.0000e+00,  0.0000e+00],\n",
      "          ...,\n",
      "          [ 0.0000e+00,  0.0000e+00,  0.0000e+00,  ...,  0.0000e+00,\n",
      "            0.0000e+00,  0.0000e+00],\n",
      "          [ 0.0000e+00,  0.0000e+00,  0.0000e+00,  ...,  0.0000e+00,\n",
      "            0.0000e+00,  0.0000e+00],\n",
      "          [ 0.0000e+00,  0.0000e+00,  0.0000e+00,  ...,  0.0000e+00,\n",
      "            0.0000e+00,  0.0000e+00]],\n",
      "\n",
      "         [[-1.3022e+00,  1.0041e-01, -4.1725e-01,  ...,  0.0000e+00,\n",
      "            0.0000e+00,  0.0000e+00],\n",
      "          [ 9.2300e-01,  4.3580e-01,  8.4727e-01,  ...,  0.0000e+00,\n",
      "            0.0000e+00,  0.0000e+00],\n",
      "          [ 9.9570e-01,  2.1680e-01, -1.3838e+00,  ...,  0.0000e+00,\n",
      "            0.0000e+00,  0.0000e+00],\n",
      "          ...,\n",
      "          [ 0.0000e+00,  0.0000e+00,  0.0000e+00,  ...,  0.0000e+00,\n",
      "            0.0000e+00,  0.0000e+00],\n",
      "          [ 0.0000e+00,  0.0000e+00,  0.0000e+00,  ...,  0.0000e+00,\n",
      "            0.0000e+00,  0.0000e+00],\n",
      "          [ 0.0000e+00,  0.0000e+00,  0.0000e+00,  ...,  0.0000e+00,\n",
      "            0.0000e+00,  0.0000e+00]]],\n",
      "\n",
      "\n",
      "        [[[-4.2947e-01, -3.3302e-01,  1.3140e+00,  ...,  0.0000e+00,\n",
      "            0.0000e+00,  0.0000e+00],\n",
      "          [-1.7724e+00, -3.6734e-01, -1.1120e+00,  ...,  0.0000e+00,\n",
      "            0.0000e+00,  0.0000e+00],\n",
      "          [-1.6398e-01, -2.2851e+00, -1.2157e+00,  ...,  0.0000e+00,\n",
      "            0.0000e+00,  0.0000e+00],\n",
      "          ...,\n",
      "          [ 0.0000e+00,  0.0000e+00,  0.0000e+00,  ...,  0.0000e+00,\n",
      "            0.0000e+00,  0.0000e+00],\n",
      "          [ 0.0000e+00,  0.0000e+00,  0.0000e+00,  ...,  0.0000e+00,\n",
      "            0.0000e+00,  0.0000e+00],\n",
      "          [ 0.0000e+00,  0.0000e+00,  0.0000e+00,  ...,  0.0000e+00,\n",
      "            0.0000e+00,  0.0000e+00]],\n",
      "\n",
      "         [[-2.8453e-01,  3.3084e-01, -6.4728e-01,  ...,  0.0000e+00,\n",
      "            0.0000e+00,  0.0000e+00],\n",
      "          [-6.6636e-01, -1.8946e-01,  1.0269e+00,  ...,  0.0000e+00,\n",
      "            0.0000e+00,  0.0000e+00],\n",
      "          [-6.9761e-01,  6.4577e-01,  1.9922e-01,  ...,  0.0000e+00,\n",
      "            0.0000e+00,  0.0000e+00],\n",
      "          ...,\n",
      "          [ 0.0000e+00,  0.0000e+00,  0.0000e+00,  ...,  0.0000e+00,\n",
      "            0.0000e+00,  0.0000e+00],\n",
      "          [ 0.0000e+00,  0.0000e+00,  0.0000e+00,  ...,  0.0000e+00,\n",
      "            0.0000e+00,  0.0000e+00],\n",
      "          [ 0.0000e+00,  0.0000e+00,  0.0000e+00,  ...,  0.0000e+00,\n",
      "            0.0000e+00,  0.0000e+00]],\n",
      "\n",
      "         [[ 9.0691e-01,  1.3608e+00,  8.6314e-02,  ...,  0.0000e+00,\n",
      "            0.0000e+00,  0.0000e+00],\n",
      "          [-6.7233e-01, -1.1499e+00, -8.4512e-02,  ...,  0.0000e+00,\n",
      "            0.0000e+00,  0.0000e+00],\n",
      "          [ 2.6905e-01, -8.0749e-01, -9.3336e-01,  ...,  0.0000e+00,\n",
      "            0.0000e+00,  0.0000e+00],\n",
      "          ...,\n",
      "          [ 0.0000e+00,  0.0000e+00,  0.0000e+00,  ...,  0.0000e+00,\n",
      "            0.0000e+00,  0.0000e+00],\n",
      "          [ 0.0000e+00,  0.0000e+00,  0.0000e+00,  ...,  0.0000e+00,\n",
      "            0.0000e+00,  0.0000e+00],\n",
      "          [ 0.0000e+00,  0.0000e+00,  0.0000e+00,  ...,  0.0000e+00,\n",
      "            0.0000e+00,  0.0000e+00]],\n",
      "\n",
      "         ...,\n",
      "\n",
      "         [[ 1.5123e+00, -2.4067e-01,  1.8735e+00,  ...,  0.0000e+00,\n",
      "            0.0000e+00,  0.0000e+00],\n",
      "          [ 1.1455e+00,  6.0213e-01, -1.0065e-02,  ...,  0.0000e+00,\n",
      "            0.0000e+00,  0.0000e+00],\n",
      "          [-1.6439e+00, -8.5463e-01, -1.8326e+00,  ...,  0.0000e+00,\n",
      "            0.0000e+00,  0.0000e+00],\n",
      "          ...,\n",
      "          [ 0.0000e+00,  0.0000e+00,  0.0000e+00,  ...,  0.0000e+00,\n",
      "            0.0000e+00,  0.0000e+00],\n",
      "          [ 0.0000e+00,  0.0000e+00,  0.0000e+00,  ...,  0.0000e+00,\n",
      "            0.0000e+00,  0.0000e+00],\n",
      "          [ 0.0000e+00,  0.0000e+00,  0.0000e+00,  ...,  0.0000e+00,\n",
      "            0.0000e+00,  0.0000e+00]],\n",
      "\n",
      "         [[ 1.1029e+00,  1.0418e+00,  1.5910e+00,  ...,  0.0000e+00,\n",
      "            0.0000e+00,  0.0000e+00],\n",
      "          [-4.6865e-01,  6.7321e-01,  1.4566e+00,  ...,  0.0000e+00,\n",
      "            0.0000e+00,  0.0000e+00],\n",
      "          [-1.4251e+00,  7.8341e-01,  9.8322e-01,  ...,  0.0000e+00,\n",
      "            0.0000e+00,  0.0000e+00],\n",
      "          ...,\n",
      "          [ 0.0000e+00,  0.0000e+00,  0.0000e+00,  ...,  0.0000e+00,\n",
      "            0.0000e+00,  0.0000e+00],\n",
      "          [ 0.0000e+00,  0.0000e+00,  0.0000e+00,  ...,  0.0000e+00,\n",
      "            0.0000e+00,  0.0000e+00],\n",
      "          [ 0.0000e+00,  0.0000e+00,  0.0000e+00,  ...,  0.0000e+00,\n",
      "            0.0000e+00,  0.0000e+00]],\n",
      "\n",
      "         [[ 1.0695e+00, -1.0920e+00,  8.6898e-01,  ...,  0.0000e+00,\n",
      "            0.0000e+00,  0.0000e+00],\n",
      "          [ 6.3427e-01,  1.3991e+00, -1.3897e+00,  ...,  0.0000e+00,\n",
      "            0.0000e+00,  0.0000e+00],\n",
      "          [-1.2968e+00,  2.2650e+00,  6.5337e-02,  ...,  0.0000e+00,\n",
      "            0.0000e+00,  0.0000e+00],\n",
      "          ...,\n",
      "          [ 0.0000e+00,  0.0000e+00,  0.0000e+00,  ...,  0.0000e+00,\n",
      "            0.0000e+00,  0.0000e+00],\n",
      "          [ 0.0000e+00,  0.0000e+00,  0.0000e+00,  ...,  0.0000e+00,\n",
      "            0.0000e+00,  0.0000e+00],\n",
      "          [ 0.0000e+00,  0.0000e+00,  0.0000e+00,  ...,  0.0000e+00,\n",
      "            0.0000e+00,  0.0000e+00]]],\n",
      "\n",
      "\n",
      "        [[[-1.7585e-01,  3.1282e-03, -3.2950e-01,  ...,  0.0000e+00,\n",
      "            0.0000e+00,  0.0000e+00],\n",
      "          [ 6.3233e-01, -1.4038e-01,  1.1803e+00,  ...,  0.0000e+00,\n",
      "            0.0000e+00,  0.0000e+00],\n",
      "          [ 2.1967e+00,  4.0120e-01, -3.5337e-01,  ...,  0.0000e+00,\n",
      "            0.0000e+00,  0.0000e+00],\n",
      "          ...,\n",
      "          [ 0.0000e+00,  0.0000e+00,  0.0000e+00,  ...,  0.0000e+00,\n",
      "            0.0000e+00,  0.0000e+00],\n",
      "          [ 0.0000e+00,  0.0000e+00,  0.0000e+00,  ...,  0.0000e+00,\n",
      "            0.0000e+00,  0.0000e+00],\n",
      "          [ 0.0000e+00,  0.0000e+00,  0.0000e+00,  ...,  0.0000e+00,\n",
      "            0.0000e+00,  0.0000e+00]],\n",
      "\n",
      "         [[-1.1429e+00,  2.4560e+00, -1.0426e+00,  ...,  0.0000e+00,\n",
      "            0.0000e+00,  0.0000e+00],\n",
      "          [-7.9919e-01,  5.3463e-01, -5.6230e-01,  ...,  0.0000e+00,\n",
      "            0.0000e+00,  0.0000e+00],\n",
      "          [-1.1020e+00,  1.7800e-01, -8.7284e-01,  ...,  0.0000e+00,\n",
      "            0.0000e+00,  0.0000e+00],\n",
      "          ...,\n",
      "          [ 0.0000e+00,  0.0000e+00,  0.0000e+00,  ...,  0.0000e+00,\n",
      "            0.0000e+00,  0.0000e+00],\n",
      "          [ 0.0000e+00,  0.0000e+00,  0.0000e+00,  ...,  0.0000e+00,\n",
      "            0.0000e+00,  0.0000e+00],\n",
      "          [ 0.0000e+00,  0.0000e+00,  0.0000e+00,  ...,  0.0000e+00,\n",
      "            0.0000e+00,  0.0000e+00]],\n",
      "\n",
      "         [[-8.6487e-01,  4.1222e-01,  2.4129e-01,  ...,  0.0000e+00,\n",
      "            0.0000e+00,  0.0000e+00],\n",
      "          [ 6.2586e-01,  8.5041e-01, -3.0311e-01,  ...,  0.0000e+00,\n",
      "            0.0000e+00,  0.0000e+00],\n",
      "          [-7.2377e-01, -5.1475e-02, -5.2281e-02,  ...,  0.0000e+00,\n",
      "            0.0000e+00,  0.0000e+00],\n",
      "          ...,\n",
      "          [ 0.0000e+00,  0.0000e+00,  0.0000e+00,  ...,  0.0000e+00,\n",
      "            0.0000e+00,  0.0000e+00],\n",
      "          [ 0.0000e+00,  0.0000e+00,  0.0000e+00,  ...,  0.0000e+00,\n",
      "            0.0000e+00,  0.0000e+00],\n",
      "          [ 0.0000e+00,  0.0000e+00,  0.0000e+00,  ...,  0.0000e+00,\n",
      "            0.0000e+00,  0.0000e+00]],\n",
      "\n",
      "         ...,\n",
      "\n",
      "         [[ 5.4926e-02, -1.3039e-01, -1.0956e-01,  ...,  0.0000e+00,\n",
      "            0.0000e+00,  0.0000e+00],\n",
      "          [-5.8629e-01,  1.4520e+00,  4.7136e-01,  ...,  0.0000e+00,\n",
      "            0.0000e+00,  0.0000e+00],\n",
      "          [ 3.6979e-01, -2.8684e+00, -9.4219e-01,  ...,  0.0000e+00,\n",
      "            0.0000e+00,  0.0000e+00],\n",
      "          ...,\n",
      "          [ 0.0000e+00,  0.0000e+00,  0.0000e+00,  ...,  0.0000e+00,\n",
      "            0.0000e+00,  0.0000e+00],\n",
      "          [ 0.0000e+00,  0.0000e+00,  0.0000e+00,  ...,  0.0000e+00,\n",
      "            0.0000e+00,  0.0000e+00],\n",
      "          [ 0.0000e+00,  0.0000e+00,  0.0000e+00,  ...,  0.0000e+00,\n",
      "            0.0000e+00,  0.0000e+00]],\n",
      "\n",
      "         [[-2.5765e-02, -1.0835e+00,  4.1113e-01,  ...,  0.0000e+00,\n",
      "            0.0000e+00,  0.0000e+00],\n",
      "          [-1.6991e+00, -6.1138e-01,  1.2323e+00,  ...,  0.0000e+00,\n",
      "            0.0000e+00,  0.0000e+00],\n",
      "          [-1.2290e-01,  4.5798e-01, -2.7159e-01,  ...,  0.0000e+00,\n",
      "            0.0000e+00,  0.0000e+00],\n",
      "          ...,\n",
      "          [ 0.0000e+00,  0.0000e+00,  0.0000e+00,  ...,  0.0000e+00,\n",
      "            0.0000e+00,  0.0000e+00],\n",
      "          [ 0.0000e+00,  0.0000e+00,  0.0000e+00,  ...,  0.0000e+00,\n",
      "            0.0000e+00,  0.0000e+00],\n",
      "          [ 0.0000e+00,  0.0000e+00,  0.0000e+00,  ...,  0.0000e+00,\n",
      "            0.0000e+00,  0.0000e+00]],\n",
      "\n",
      "         [[ 5.3925e-01, -4.4359e-01,  7.5827e-02,  ...,  0.0000e+00,\n",
      "            0.0000e+00,  0.0000e+00],\n",
      "          [-1.1140e+00,  4.3609e-01,  3.5541e-01,  ...,  0.0000e+00,\n",
      "            0.0000e+00,  0.0000e+00],\n",
      "          [-3.3234e-01, -8.2732e-01,  8.8772e-02,  ...,  0.0000e+00,\n",
      "            0.0000e+00,  0.0000e+00],\n",
      "          ...,\n",
      "          [ 0.0000e+00,  0.0000e+00,  0.0000e+00,  ...,  0.0000e+00,\n",
      "            0.0000e+00,  0.0000e+00],\n",
      "          [ 0.0000e+00,  0.0000e+00,  0.0000e+00,  ...,  0.0000e+00,\n",
      "            0.0000e+00,  0.0000e+00],\n",
      "          [ 0.0000e+00,  0.0000e+00,  0.0000e+00,  ...,  0.0000e+00,\n",
      "            0.0000e+00,  0.0000e+00]]],\n",
      "\n",
      "\n",
      "        ...,\n",
      "\n",
      "\n",
      "        [[[ 1.5757e-01, -7.4640e-01,  2.5614e-01,  ...,  0.0000e+00,\n",
      "            0.0000e+00,  0.0000e+00],\n",
      "          [-8.3695e-01,  1.6408e+00,  1.7009e+00,  ...,  0.0000e+00,\n",
      "            0.0000e+00,  0.0000e+00],\n",
      "          [ 9.9750e-01,  1.1872e+00, -5.9669e-01,  ...,  0.0000e+00,\n",
      "            0.0000e+00,  0.0000e+00],\n",
      "          ...,\n",
      "          [ 0.0000e+00,  0.0000e+00,  0.0000e+00,  ...,  0.0000e+00,\n",
      "            0.0000e+00,  0.0000e+00],\n",
      "          [ 0.0000e+00,  0.0000e+00,  0.0000e+00,  ...,  0.0000e+00,\n",
      "            0.0000e+00,  0.0000e+00],\n",
      "          [ 0.0000e+00,  0.0000e+00,  0.0000e+00,  ...,  0.0000e+00,\n",
      "            0.0000e+00,  0.0000e+00]],\n",
      "\n",
      "         [[ 1.6329e+00,  1.5496e+00, -1.2138e-01,  ...,  0.0000e+00,\n",
      "            0.0000e+00,  0.0000e+00],\n",
      "          [-1.1567e+00,  3.6836e-01,  7.0056e-01,  ...,  0.0000e+00,\n",
      "            0.0000e+00,  0.0000e+00],\n",
      "          [ 3.5065e-01,  1.4252e+00,  4.4351e-01,  ...,  0.0000e+00,\n",
      "            0.0000e+00,  0.0000e+00],\n",
      "          ...,\n",
      "          [ 0.0000e+00,  0.0000e+00,  0.0000e+00,  ...,  0.0000e+00,\n",
      "            0.0000e+00,  0.0000e+00],\n",
      "          [ 0.0000e+00,  0.0000e+00,  0.0000e+00,  ...,  0.0000e+00,\n",
      "            0.0000e+00,  0.0000e+00],\n",
      "          [ 0.0000e+00,  0.0000e+00,  0.0000e+00,  ...,  0.0000e+00,\n",
      "            0.0000e+00,  0.0000e+00]],\n",
      "\n",
      "         [[-1.4640e-01,  1.8124e-01,  3.2312e-01,  ...,  0.0000e+00,\n",
      "            0.0000e+00,  0.0000e+00],\n",
      "          [ 4.7796e-01, -7.6448e-01,  3.4521e-01,  ...,  0.0000e+00,\n",
      "            0.0000e+00,  0.0000e+00],\n",
      "          [ 1.7709e+00, -7.3594e-01,  1.0799e+00,  ...,  0.0000e+00,\n",
      "            0.0000e+00,  0.0000e+00],\n",
      "          ...,\n",
      "          [ 0.0000e+00,  0.0000e+00,  0.0000e+00,  ...,  0.0000e+00,\n",
      "            0.0000e+00,  0.0000e+00],\n",
      "          [ 0.0000e+00,  0.0000e+00,  0.0000e+00,  ...,  0.0000e+00,\n",
      "            0.0000e+00,  0.0000e+00],\n",
      "          [ 0.0000e+00,  0.0000e+00,  0.0000e+00,  ...,  0.0000e+00,\n",
      "            0.0000e+00,  0.0000e+00]],\n",
      "\n",
      "         ...,\n",
      "\n",
      "         [[-5.9085e-02,  1.9436e-01,  6.6135e-01,  ...,  0.0000e+00,\n",
      "            0.0000e+00,  0.0000e+00],\n",
      "          [-1.2309e+00,  7.6862e-01,  2.3584e-01,  ...,  0.0000e+00,\n",
      "            0.0000e+00,  0.0000e+00],\n",
      "          [ 4.4024e-01, -1.3126e+00, -9.9537e-01,  ...,  0.0000e+00,\n",
      "            0.0000e+00,  0.0000e+00],\n",
      "          ...,\n",
      "          [ 0.0000e+00,  0.0000e+00,  0.0000e+00,  ...,  0.0000e+00,\n",
      "            0.0000e+00,  0.0000e+00],\n",
      "          [ 0.0000e+00,  0.0000e+00,  0.0000e+00,  ...,  0.0000e+00,\n",
      "            0.0000e+00,  0.0000e+00],\n",
      "          [ 0.0000e+00,  0.0000e+00,  0.0000e+00,  ...,  0.0000e+00,\n",
      "            0.0000e+00,  0.0000e+00]],\n",
      "\n",
      "         [[-4.3948e-01,  8.9645e-01, -3.9576e-01,  ...,  0.0000e+00,\n",
      "            0.0000e+00,  0.0000e+00],\n",
      "          [-3.5689e-01, -2.2164e-01, -8.3347e-01,  ...,  0.0000e+00,\n",
      "            0.0000e+00,  0.0000e+00],\n",
      "          [ 2.9725e-02,  5.5818e-01, -6.7118e-01,  ...,  0.0000e+00,\n",
      "            0.0000e+00,  0.0000e+00],\n",
      "          ...,\n",
      "          [ 0.0000e+00,  0.0000e+00,  0.0000e+00,  ...,  0.0000e+00,\n",
      "            0.0000e+00,  0.0000e+00],\n",
      "          [ 0.0000e+00,  0.0000e+00,  0.0000e+00,  ...,  0.0000e+00,\n",
      "            0.0000e+00,  0.0000e+00],\n",
      "          [ 0.0000e+00,  0.0000e+00,  0.0000e+00,  ...,  0.0000e+00,\n",
      "            0.0000e+00,  0.0000e+00]],\n",
      "\n",
      "         [[-9.5587e-01,  3.6108e-01, -6.4065e-01,  ...,  0.0000e+00,\n",
      "            0.0000e+00,  0.0000e+00],\n",
      "          [ 6.2866e-01, -7.6772e-01, -1.3610e+00,  ...,  0.0000e+00,\n",
      "            0.0000e+00,  0.0000e+00],\n",
      "          [ 1.3479e-01, -6.3172e-01,  1.9017e+00,  ...,  0.0000e+00,\n",
      "            0.0000e+00,  0.0000e+00],\n",
      "          ...,\n",
      "          [ 0.0000e+00,  0.0000e+00,  0.0000e+00,  ...,  0.0000e+00,\n",
      "            0.0000e+00,  0.0000e+00],\n",
      "          [ 0.0000e+00,  0.0000e+00,  0.0000e+00,  ...,  0.0000e+00,\n",
      "            0.0000e+00,  0.0000e+00],\n",
      "          [ 0.0000e+00,  0.0000e+00,  0.0000e+00,  ...,  0.0000e+00,\n",
      "            0.0000e+00,  0.0000e+00]]],\n",
      "\n",
      "\n",
      "        [[[-1.7671e+00,  3.9545e-01,  1.2242e+00,  ...,  0.0000e+00,\n",
      "            0.0000e+00,  0.0000e+00],\n",
      "          [-1.0974e+00,  4.0810e-01,  5.9538e-01,  ...,  0.0000e+00,\n",
      "            0.0000e+00,  0.0000e+00],\n",
      "          [-7.3561e-01,  1.2777e+00,  1.3523e+00,  ...,  0.0000e+00,\n",
      "            0.0000e+00,  0.0000e+00],\n",
      "          ...,\n",
      "          [ 0.0000e+00,  0.0000e+00,  0.0000e+00,  ...,  0.0000e+00,\n",
      "            0.0000e+00,  0.0000e+00],\n",
      "          [ 0.0000e+00,  0.0000e+00,  0.0000e+00,  ...,  0.0000e+00,\n",
      "            0.0000e+00,  0.0000e+00],\n",
      "          [ 0.0000e+00,  0.0000e+00,  0.0000e+00,  ...,  0.0000e+00,\n",
      "            0.0000e+00,  0.0000e+00]],\n",
      "\n",
      "         [[-4.0367e-01, -8.7902e-01,  1.8716e+00,  ...,  0.0000e+00,\n",
      "            0.0000e+00,  0.0000e+00],\n",
      "          [-9.2149e-01,  7.0803e-01, -4.0605e-01,  ...,  0.0000e+00,\n",
      "            0.0000e+00,  0.0000e+00],\n",
      "          [ 1.3235e+00,  2.2199e+00,  1.0438e-01,  ...,  0.0000e+00,\n",
      "            0.0000e+00,  0.0000e+00],\n",
      "          ...,\n",
      "          [ 0.0000e+00,  0.0000e+00,  0.0000e+00,  ...,  0.0000e+00,\n",
      "            0.0000e+00,  0.0000e+00],\n",
      "          [ 0.0000e+00,  0.0000e+00,  0.0000e+00,  ...,  0.0000e+00,\n",
      "            0.0000e+00,  0.0000e+00],\n",
      "          [ 0.0000e+00,  0.0000e+00,  0.0000e+00,  ...,  0.0000e+00,\n",
      "            0.0000e+00,  0.0000e+00]],\n",
      "\n",
      "         [[-4.5522e-01, -1.5153e+00,  5.1956e-01,  ...,  0.0000e+00,\n",
      "            0.0000e+00,  0.0000e+00],\n",
      "          [ 1.8310e+00, -2.2440e+00, -7.3600e-01,  ...,  0.0000e+00,\n",
      "            0.0000e+00,  0.0000e+00],\n",
      "          [ 6.2083e-01, -6.5245e-01,  5.7503e-01,  ...,  0.0000e+00,\n",
      "            0.0000e+00,  0.0000e+00],\n",
      "          ...,\n",
      "          [ 0.0000e+00,  0.0000e+00,  0.0000e+00,  ...,  0.0000e+00,\n",
      "            0.0000e+00,  0.0000e+00],\n",
      "          [ 0.0000e+00,  0.0000e+00,  0.0000e+00,  ...,  0.0000e+00,\n",
      "            0.0000e+00,  0.0000e+00],\n",
      "          [ 0.0000e+00,  0.0000e+00,  0.0000e+00,  ...,  0.0000e+00,\n",
      "            0.0000e+00,  0.0000e+00]],\n",
      "\n",
      "         ...,\n",
      "\n",
      "         [[-1.5287e+00, -6.1895e-01,  6.1115e-01,  ...,  0.0000e+00,\n",
      "            0.0000e+00,  0.0000e+00],\n",
      "          [-1.3530e+00,  3.6206e-01, -2.1056e+00,  ...,  0.0000e+00,\n",
      "            0.0000e+00,  0.0000e+00],\n",
      "          [ 2.3853e-01,  8.0916e-01, -2.3645e-01,  ...,  0.0000e+00,\n",
      "            0.0000e+00,  0.0000e+00],\n",
      "          ...,\n",
      "          [ 0.0000e+00,  0.0000e+00,  0.0000e+00,  ...,  0.0000e+00,\n",
      "            0.0000e+00,  0.0000e+00],\n",
      "          [ 0.0000e+00,  0.0000e+00,  0.0000e+00,  ...,  0.0000e+00,\n",
      "            0.0000e+00,  0.0000e+00],\n",
      "          [ 0.0000e+00,  0.0000e+00,  0.0000e+00,  ...,  0.0000e+00,\n",
      "            0.0000e+00,  0.0000e+00]],\n",
      "\n",
      "         [[-1.0998e+00, -1.9136e+00,  6.5106e-01,  ...,  0.0000e+00,\n",
      "            0.0000e+00,  0.0000e+00],\n",
      "          [ 3.6209e-01, -6.9113e-01,  7.0796e-01,  ...,  0.0000e+00,\n",
      "            0.0000e+00,  0.0000e+00],\n",
      "          [ 4.4324e-01, -1.3311e+00, -1.8067e+00,  ...,  0.0000e+00,\n",
      "            0.0000e+00,  0.0000e+00],\n",
      "          ...,\n",
      "          [ 0.0000e+00,  0.0000e+00,  0.0000e+00,  ...,  0.0000e+00,\n",
      "            0.0000e+00,  0.0000e+00],\n",
      "          [ 0.0000e+00,  0.0000e+00,  0.0000e+00,  ...,  0.0000e+00,\n",
      "            0.0000e+00,  0.0000e+00],\n",
      "          [ 0.0000e+00,  0.0000e+00,  0.0000e+00,  ...,  0.0000e+00,\n",
      "            0.0000e+00,  0.0000e+00]],\n",
      "\n",
      "         [[ 4.4439e-01,  4.4722e-01, -1.1234e+00,  ...,  0.0000e+00,\n",
      "            0.0000e+00,  0.0000e+00],\n",
      "          [ 6.5109e-01,  1.5854e+00, -4.3628e-01,  ...,  0.0000e+00,\n",
      "            0.0000e+00,  0.0000e+00],\n",
      "          [ 2.3521e-01,  4.4557e-01, -1.7390e+00,  ...,  0.0000e+00,\n",
      "            0.0000e+00,  0.0000e+00],\n",
      "          ...,\n",
      "          [ 0.0000e+00,  0.0000e+00,  0.0000e+00,  ...,  0.0000e+00,\n",
      "            0.0000e+00,  0.0000e+00],\n",
      "          [ 0.0000e+00,  0.0000e+00,  0.0000e+00,  ...,  0.0000e+00,\n",
      "            0.0000e+00,  0.0000e+00],\n",
      "          [ 0.0000e+00,  0.0000e+00,  0.0000e+00,  ...,  0.0000e+00,\n",
      "            0.0000e+00,  0.0000e+00]]],\n",
      "\n",
      "\n",
      "        [[[ 2.9337e-01,  3.4088e-01, -6.0343e-02,  ...,  0.0000e+00,\n",
      "            0.0000e+00,  0.0000e+00],\n",
      "          [-1.6580e+00,  5.2202e-01, -1.1733e+00,  ...,  0.0000e+00,\n",
      "            0.0000e+00,  0.0000e+00],\n",
      "          [ 3.9014e-01, -5.4481e-02,  2.1768e-01,  ...,  0.0000e+00,\n",
      "            0.0000e+00,  0.0000e+00],\n",
      "          ...,\n",
      "          [ 0.0000e+00,  0.0000e+00,  0.0000e+00,  ...,  0.0000e+00,\n",
      "            0.0000e+00,  0.0000e+00],\n",
      "          [ 0.0000e+00,  0.0000e+00,  0.0000e+00,  ...,  0.0000e+00,\n",
      "            0.0000e+00,  0.0000e+00],\n",
      "          [ 0.0000e+00,  0.0000e+00,  0.0000e+00,  ...,  0.0000e+00,\n",
      "            0.0000e+00,  0.0000e+00]],\n",
      "\n",
      "         [[ 6.1024e-01,  1.4925e+00, -9.9281e-01,  ...,  0.0000e+00,\n",
      "            0.0000e+00,  0.0000e+00],\n",
      "          [-3.5905e+00, -1.0562e+00,  4.3041e-01,  ...,  0.0000e+00,\n",
      "            0.0000e+00,  0.0000e+00],\n",
      "          [ 2.9035e-01, -1.0100e+00,  8.5960e-01,  ...,  0.0000e+00,\n",
      "            0.0000e+00,  0.0000e+00],\n",
      "          ...,\n",
      "          [ 0.0000e+00,  0.0000e+00,  0.0000e+00,  ...,  0.0000e+00,\n",
      "            0.0000e+00,  0.0000e+00],\n",
      "          [ 0.0000e+00,  0.0000e+00,  0.0000e+00,  ...,  0.0000e+00,\n",
      "            0.0000e+00,  0.0000e+00],\n",
      "          [ 0.0000e+00,  0.0000e+00,  0.0000e+00,  ...,  0.0000e+00,\n",
      "            0.0000e+00,  0.0000e+00]],\n",
      "\n",
      "         [[-1.5739e-01, -6.7408e-01, -5.8415e-01,  ...,  0.0000e+00,\n",
      "            0.0000e+00,  0.0000e+00],\n",
      "          [ 1.7637e+00,  1.2721e+00,  7.1625e-01,  ...,  0.0000e+00,\n",
      "            0.0000e+00,  0.0000e+00],\n",
      "          [ 9.0201e-01,  1.1819e+00,  1.0597e-01,  ...,  0.0000e+00,\n",
      "            0.0000e+00,  0.0000e+00],\n",
      "          ...,\n",
      "          [ 0.0000e+00,  0.0000e+00,  0.0000e+00,  ...,  0.0000e+00,\n",
      "            0.0000e+00,  0.0000e+00],\n",
      "          [ 0.0000e+00,  0.0000e+00,  0.0000e+00,  ...,  0.0000e+00,\n",
      "            0.0000e+00,  0.0000e+00],\n",
      "          [ 0.0000e+00,  0.0000e+00,  0.0000e+00,  ...,  0.0000e+00,\n",
      "            0.0000e+00,  0.0000e+00]],\n",
      "\n",
      "         ...,\n",
      "\n",
      "         [[ 6.2041e-01, -1.2242e+00, -9.8432e-01,  ...,  0.0000e+00,\n",
      "            0.0000e+00,  0.0000e+00],\n",
      "          [-5.5492e-01,  4.4555e-01, -2.1290e+00,  ...,  0.0000e+00,\n",
      "            0.0000e+00,  0.0000e+00],\n",
      "          [ 5.3937e-01, -1.6874e-02, -7.9608e-02,  ...,  0.0000e+00,\n",
      "            0.0000e+00,  0.0000e+00],\n",
      "          ...,\n",
      "          [ 0.0000e+00,  0.0000e+00,  0.0000e+00,  ...,  0.0000e+00,\n",
      "            0.0000e+00,  0.0000e+00],\n",
      "          [ 0.0000e+00,  0.0000e+00,  0.0000e+00,  ...,  0.0000e+00,\n",
      "            0.0000e+00,  0.0000e+00],\n",
      "          [ 0.0000e+00,  0.0000e+00,  0.0000e+00,  ...,  0.0000e+00,\n",
      "            0.0000e+00,  0.0000e+00]],\n",
      "\n",
      "         [[ 1.8704e+00,  5.4216e-01, -1.0117e+00,  ...,  0.0000e+00,\n",
      "            0.0000e+00,  0.0000e+00],\n",
      "          [ 2.0510e+00,  8.4172e-01, -9.2852e-01,  ...,  0.0000e+00,\n",
      "            0.0000e+00,  0.0000e+00],\n",
      "          [ 1.9249e+00,  1.5483e+00, -9.7529e-01,  ...,  0.0000e+00,\n",
      "            0.0000e+00,  0.0000e+00],\n",
      "          ...,\n",
      "          [ 0.0000e+00,  0.0000e+00,  0.0000e+00,  ...,  0.0000e+00,\n",
      "            0.0000e+00,  0.0000e+00],\n",
      "          [ 0.0000e+00,  0.0000e+00,  0.0000e+00,  ...,  0.0000e+00,\n",
      "            0.0000e+00,  0.0000e+00],\n",
      "          [ 0.0000e+00,  0.0000e+00,  0.0000e+00,  ...,  0.0000e+00,\n",
      "            0.0000e+00,  0.0000e+00]],\n",
      "\n",
      "         [[ 1.4989e+00, -6.5657e-02, -1.6944e+00,  ...,  0.0000e+00,\n",
      "            0.0000e+00,  0.0000e+00],\n",
      "          [-1.9827e+00, -4.0659e-01, -7.0880e-01,  ...,  0.0000e+00,\n",
      "            0.0000e+00,  0.0000e+00],\n",
      "          [ 1.3969e-01,  4.5062e-01,  8.7400e-01,  ...,  0.0000e+00,\n",
      "            0.0000e+00,  0.0000e+00],\n",
      "          ...,\n",
      "          [ 0.0000e+00,  0.0000e+00,  0.0000e+00,  ...,  0.0000e+00,\n",
      "            0.0000e+00,  0.0000e+00],\n",
      "          [ 0.0000e+00,  0.0000e+00,  0.0000e+00,  ...,  0.0000e+00,\n",
      "            0.0000e+00,  0.0000e+00],\n",
      "          [ 0.0000e+00,  0.0000e+00,  0.0000e+00,  ...,  0.0000e+00,\n",
      "            0.0000e+00,  0.0000e+00]]]])\n",
      "torch.Size([8, 256, 32, 32])\n"
     ]
    }
   ],
   "source": [
    "target_output = torch.zeros(8, 256, 32, 32)\n",
    "\n",
    "print(target_output)\n",
    "\n",
    "in_tensor = torch.randn(8, 512, 16, 16)\n",
    "out_temp = in_tensor.resize_((8, 256, 16, 16))\n",
    "\n",
    "target_output[:, :, :16, :16] = out_temp\n",
    "\n",
    "print(target_output)\n",
    "print(target_output.shape)"
   ]
  },
  {
   "cell_type": "markdown",
   "metadata": {},
   "source": [
    "<h1 style=\"text-align: center;\"><b>Мои сравнения Numpy, TensorFlow, PyTorch</b></h1>"
   ]
  },
  {
   "cell_type": "code",
   "execution_count": 133,
   "metadata": {},
   "outputs": [],
   "source": [
    "import tensorflow as tf\n",
    "import numpy as np"
   ]
  },
  {
   "cell_type": "code",
   "execution_count": 134,
   "metadata": {
    "scrolled": false
   },
   "outputs": [
    {
     "data": {
      "text/plain": [
       "'2.4.0'"
      ]
     },
     "execution_count": 134,
     "metadata": {},
     "output_type": "execute_result"
    }
   ],
   "source": [
    "tf.__version__"
   ]
  },
  {
   "cell_type": "markdown",
   "metadata": {},
   "source": [
    "Нулевая матрица"
   ]
  },
  {
   "cell_type": "code",
   "execution_count": 135,
   "metadata": {
    "scrolled": false
   },
   "outputs": [
    {
     "name": "stdout",
     "output_type": "stream",
     "text": [
      "np: [[0. 0. 0.]\n",
      " [0. 0. 0.]\n",
      " [0. 0. 0.]]\n"
     ]
    }
   ],
   "source": [
    "print('np:', np.zeros((3,3)))"
   ]
  },
  {
   "cell_type": "code",
   "execution_count": 136,
   "metadata": {},
   "outputs": [
    {
     "name": "stdout",
     "output_type": "stream",
     "text": [
      "tf: tf.Tensor(\n",
      "[[0. 0. 0.]\n",
      " [0. 0. 0.]\n",
      " [0. 0. 0.]], shape=(3, 3), dtype=float32)\n"
     ]
    }
   ],
   "source": [
    "print('tf:', tf.zeros((3,3)))"
   ]
  },
  {
   "cell_type": "code",
   "execution_count": 137,
   "metadata": {
    "scrolled": true
   },
   "outputs": [
    {
     "name": "stdout",
     "output_type": "stream",
     "text": [
      "torch: tensor([[0., 0., 0.],\n",
      "        [0., 0., 0.],\n",
      "        [0., 0., 0.]])\n"
     ]
    }
   ],
   "source": [
    "print('torch:', torch.zeros((3,3)))"
   ]
  },
  {
   "cell_type": "markdown",
   "metadata": {},
   "source": [
    "Единичная матрица"
   ]
  },
  {
   "cell_type": "code",
   "execution_count": 138,
   "metadata": {
    "scrolled": true
   },
   "outputs": [
    {
     "name": "stdout",
     "output_type": "stream",
     "text": [
      "np: [[1. 1. 1.]\n",
      " [1. 1. 1.]\n",
      " [1. 1. 1.]]\n"
     ]
    }
   ],
   "source": [
    "print('np:', np.ones((3,3)))"
   ]
  },
  {
   "cell_type": "code",
   "execution_count": 139,
   "metadata": {
    "scrolled": true
   },
   "outputs": [
    {
     "name": "stdout",
     "output_type": "stream",
     "text": [
      "tf: tf.Tensor(\n",
      "[[1. 1. 1.]\n",
      " [1. 1. 1.]\n",
      " [1. 1. 1.]], shape=(3, 3), dtype=float32)\n"
     ]
    }
   ],
   "source": [
    "print('tf:', tf.ones((3,3)))"
   ]
  },
  {
   "cell_type": "code",
   "execution_count": 140,
   "metadata": {
    "scrolled": true
   },
   "outputs": [
    {
     "name": "stdout",
     "output_type": "stream",
     "text": [
      "torch: tensor([[1., 1., 1.],\n",
      "        [1., 1., 1.],\n",
      "        [1., 1., 1.]])\n"
     ]
    }
   ],
   "source": [
    "print('torch:', torch.ones((3,3)))"
   ]
  },
  {
   "cell_type": "markdown",
   "metadata": {},
   "source": [
    "numpy.full() - возвращает новый массив указанной формы и типа, заполненный указанным значением"
   ]
  },
  {
   "cell_type": "code",
   "execution_count": 141,
   "metadata": {
    "scrolled": true
   },
   "outputs": [
    {
     "name": "stdout",
     "output_type": "stream",
     "text": [
      "np: [[3.14 3.14 3.14]\n",
      " [3.14 3.14 3.14]\n",
      " [3.14 3.14 3.14]]\n"
     ]
    }
   ],
   "source": [
    "print('np:', np.full((3,3), 3.14))"
   ]
  },
  {
   "cell_type": "code",
   "execution_count": 142,
   "metadata": {
    "scrolled": true
   },
   "outputs": [
    {
     "name": "stdout",
     "output_type": "stream",
     "text": [
      "tf: tf.Tensor(\n",
      "[[3.14 3.14 3.14]\n",
      " [3.14 3.14 3.14]\n",
      " [3.14 3.14 3.14]], shape=(3, 3), dtype=float32)\n"
     ]
    }
   ],
   "source": [
    "print('tf:', tf.fill((3,3), 3.14))"
   ]
  },
  {
   "cell_type": "code",
   "execution_count": 143,
   "metadata": {
    "scrolled": true
   },
   "outputs": [
    {
     "name": "stdout",
     "output_type": "stream",
     "text": [
      "torch: tensor([[3.1400, 3.1400, 3.1400],\n",
      "        [3.1400, 3.1400, 3.1400],\n",
      "        [3.1400, 3.1400, 3.1400]])\n"
     ]
    }
   ],
   "source": [
    "print('torch:', torch.full((3,3), 3.14))"
   ]
  },
  {
   "cell_type": "markdown",
   "metadata": {},
   "source": [
    "Сравнение работы linspace"
   ]
  },
  {
   "cell_type": "code",
   "execution_count": 144,
   "metadata": {
    "scrolled": true
   },
   "outputs": [
    {
     "data": {
      "text/plain": [
       "10000000"
      ]
     },
     "execution_count": 144,
     "metadata": {},
     "output_type": "execute_result"
    }
   ],
   "source": [
    "z = tf.linspace(0, 10, 10**7)\n",
    "len(z)"
   ]
  },
  {
   "cell_type": "code",
   "execution_count": 145,
   "metadata": {},
   "outputs": [
    {
     "name": "stdout",
     "output_type": "stream",
     "text": [
      "Wall time: 873 ms\n"
     ]
    },
    {
     "data": {
      "text/plain": [
       "<tf.Tensor: shape=(10000000,), dtype=float64, numpy=\n",
       "array([2.        , 2.00000101, 2.00000202, ..., 1.10145394, 1.10145303,\n",
       "       1.10145211])>"
      ]
     },
     "execution_count": 145,
     "metadata": {},
     "output_type": "execute_result"
    }
   ],
   "source": [
    "%%time\n",
    "\n",
    "k = tf.math.sin(z) + tf.math.cos(z/10) + tf.math.exp(z/100)\n",
    "k"
   ]
  },
  {
   "cell_type": "markdown",
   "metadata": {},
   "source": [
    "# List"
   ]
  },
  {
   "cell_type": "code",
   "execution_count": 146,
   "metadata": {
    "scrolled": true
   },
   "outputs": [
    {
     "data": {
      "text/plain": [
       "[1, 2, 3, 1, 2, 3]"
      ]
     },
     "execution_count": 146,
     "metadata": {},
     "output_type": "execute_result"
    }
   ],
   "source": [
    "# Посмотрим как работает умножение списка на скаляр просто на чистом Python\n",
    "# Результат - просто удвоение списка\n",
    "\n",
    "python_list = [1, 2, 3]\n",
    "python_list = python_list * 2\n",
    "python_list"
   ]
  },
  {
   "cell_type": "markdown",
   "metadata": {},
   "source": [
    "При умножении np.array на скаляр каждый элемент np.array умножается на скаляр (итерирование делает сам np)"
   ]
  },
  {
   "cell_type": "code",
   "execution_count": 152,
   "metadata": {},
   "outputs": [
    {
     "name": "stdout",
     "output_type": "stream",
     "text": [
      "<class 'numpy.ndarray'>\n"
     ]
    }
   ],
   "source": [
    "print(type(npy))"
   ]
  },
  {
   "cell_type": "code",
   "execution_count": 153,
   "metadata": {},
   "outputs": [
    {
     "name": "stdout",
     "output_type": "stream",
     "text": [
      "Wall time: 1.04 ms\n"
     ]
    },
    {
     "data": {
      "text/plain": [
       "array([[ -1.66230516,   0.02622943,  -6.6807828 ,  -8.272527  ,\n",
       "          2.60138472,  -2.05734586,   2.15771477,   6.10704648,\n",
       "        -13.10877159,  -7.39424258,   2.68849976,  -5.971917  ,\n",
       "         -3.30879226,   3.65678216,  -3.72465131,   0.20681567,\n",
       "          2.51148779,   1.39710725,   0.35339772,   0.04792267,\n",
       "          2.99790281,  -0.29858436,  -0.37149188,   4.81982622,\n",
       "         -0.73179594,   1.07512162,   4.35355135,  -3.9658187 ,\n",
       "          2.48806237,  -6.62112838]])"
      ]
     },
     "execution_count": 153,
     "metadata": {},
     "output_type": "execute_result"
    }
   ],
   "source": [
    "%%time\n",
    "\n",
    "npy = npy * 2\n",
    "npy"
   ]
  },
  {
   "cell_type": "markdown",
   "metadata": {},
   "source": [
    "Проверю теперь как быстро отработает специальная функция reduce во встроенной библиотеке python functools для быстрого умножения всех элементов списка на скаляр"
   ]
  },
  {
   "cell_type": "code",
   "execution_count": 154,
   "metadata": {},
   "outputs": [],
   "source": [
    "from functools import reduce"
   ]
  },
  {
   "cell_type": "code",
   "execution_count": 156,
   "metadata": {},
   "outputs": [
    {
     "name": "stdout",
     "output_type": "stream",
     "text": [
      "<class 'list'>\n"
     ]
    }
   ],
   "source": [
    "npy_list = npy.tolist()\n",
    "print(type(npy_list))"
   ]
  },
  {
   "cell_type": "code",
   "execution_count": 157,
   "metadata": {},
   "outputs": [
    {
     "name": "stdout",
     "output_type": "stream",
     "text": [
      "Wall time: 0 ns\n"
     ]
    },
    {
     "data": {
      "text/plain": [
       "[-1.6623051617753823,\n",
       " 0.026229434515423648,\n",
       " -6.680782802518407,\n",
       " -8.272527003671073,\n",
       " 2.6013847167640503,\n",
       " -2.0573458560465756,\n",
       " 2.1577147684001603,\n",
       " 6.107046482839929,\n",
       " -13.108771591321014,\n",
       " -7.394242580777825,\n",
       " 2.6884997565667175,\n",
       " -5.9719170033480315,\n",
       " -3.3087922618461527,\n",
       " 3.6567821582961058,\n",
       " -3.724651308559833,\n",
       " 0.20681566641694743,\n",
       " 2.511487786804723,\n",
       " 1.3971072547010155,\n",
       " 0.3533977193600863,\n",
       " 0.04792267406165973,\n",
       " 2.9979028132646874,\n",
       " -0.2985843573944898,\n",
       " -0.37149188218945356,\n",
       " 4.819826223857026,\n",
       " -0.7317959394304713,\n",
       " 1.0751216194439523,\n",
       " 4.353551350656739,\n",
       " -3.965818699538483,\n",
       " 2.488062374164697,\n",
       " -6.621128380949638]"
      ]
     },
     "execution_count": 157,
     "metadata": {},
     "output_type": "execute_result"
    }
   ],
   "source": [
    "%%time\n",
    "\n",
    "reduce(lambda x: x*2, npy_list)"
   ]
  }
 ],
 "metadata": {
  "colab": {
   "name": "[seminar]numpy.ipynb",
   "provenance": [
    {
     "file_id": "1TWELCwOQVbXwgSjMqgfpuBwz-XsQSdM_",
     "timestamp": 1615408864932
    }
   ]
  },
  "kernelspec": {
   "display_name": "Python 3",
   "language": "python",
   "name": "python3"
  },
  "language_info": {
   "codemirror_mode": {
    "name": "ipython",
    "version": 3
   },
   "file_extension": ".py",
   "mimetype": "text/x-python",
   "name": "python",
   "nbconvert_exporter": "python",
   "pygments_lexer": "ipython3",
   "version": "3.8.3"
  }
 },
 "nbformat": 4,
 "nbformat_minor": 1
}
