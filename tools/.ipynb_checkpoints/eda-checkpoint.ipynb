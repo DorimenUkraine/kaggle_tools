{
 "cells": [
  {
   "cell_type": "code",
   "execution_count": 1,
   "metadata": {},
   "outputs": [],
   "source": [
    "# Беглый анализ колонки и удаление, если много пропусков\n",
    "col_for_drop = []\n",
    "\n",
    "def col_info_train(col):\n",
    "\n",
    "    if col.isnull().sum() > 0:\n",
    "        percent_isnull = (col.isnull().sum() / len(col)) * 100\n",
    "        print(col.name)\n",
    "        print('Количество пропусков: {}'.format(col.isnull().sum()))\n",
    "        print('% пропусков: {}'.format(percent_isnull))\n",
    "        print('---')       \n",
    "        \n",
    "    \n",
    "        # Удалю признак, в котором есть пропусков больше 10%\n",
    "        if percent_isnull > 10:\n",
    "            col_for_drop.append(col.name)\n",
    "            train.drop([col.name], axis='columns', inplace=True)\n",
    "        \n",
    "\n",
    "for col in train:\n",
    "    col_info_train(train[col]) "
   ]
  },
  {
   "cell_type": "code",
   "execution_count": null,
   "metadata": {},
   "outputs": [],
   "source": [
    "# Просмотр гистограммы для признака\n",
    "def feature_hist(data, col):\n",
    "    sns.countplot(data[ col])\n",
    "    plt.title('Histogram for default')"
   ]
  },
  {
   "cell_type": "code",
   "execution_count": null,
   "metadata": {},
   "outputs": [],
   "source": [
    "# Беглый просмотр данных в признаке\n",
    "def col_info(data, col, bins):\n",
    "    percent_isnull = (data[col].isnull().sum()) / len(data[col]) * 100\n",
    "    print('Название колонки: {}'.format(data[col].name))\n",
    "    print('Количество пропусков: {}'.format(data[col].isnull().sum()))\n",
    "    print('% пропусков: {}'.format(round(percent_isnull, 2)))\n",
    "    print('{},'.format(data[col].describe()))\n",
    "    print('Распределение:\\n{},'.format(data[col].value_counts()))\n",
    "    data[col].hist(bins=bins)"
   ]
  },
  {
   "cell_type": "code",
   "execution_count": null,
   "metadata": {},
   "outputs": [],
   "source": [
    "# Визуализация признаков и пропусков\n",
    "def viz_na(data):\n",
    "    \"\"\"NA visualisation\"\"\"\n",
    "    global cols\n",
    "    cols = data.columns # запишем названия строки сделаем переменную глобальной\n",
    "    # определяем цвета \n",
    "    # желтый - пропущенные данные, синий - не пропущенные\n",
    "    colours = ['#000099', '#ffff00'] \n",
    "    sns.heatmap(data[cols].isnull(), cmap=sns.color_palette(colours))\n",
    "    plt.show()\n",
    "\n",
    "\n",
    "viz_na(train)\n",
    "viz_na(test)"
   ]
  },
  {
   "cell_type": "code",
   "execution_count": null,
   "metadata": {},
   "outputs": [],
   "source": [
    "# Статистика пропусков \n",
    "def stat_na_per_percent(data):\n",
    "    print(f'{data.shape}')\n",
    "    for col in data.columns:\n",
    "        pct_missing = np.mean(data[col].isnull())\n",
    "        if pct_missing > 0: # выведем только те, где больше 0\n",
    "            print('{} - {}%'.format(col, round(pct_missing*100)))\n",
    "    print(\"END\", end = '\\n\\n')\n",
    "    \n",
    "stat_na_per_percent(train)\n",
    "stat_na_per_percent(test)"
   ]
  },
  {
   "cell_type": "code",
   "execution_count": null,
   "metadata": {},
   "outputs": [],
   "source": [
    "# Пропущенные данные и выбросы\n",
    "\n",
    "# В добавок к некорректному определению типов данных, другая частая проблема — это пропуски в данных.\n",
    "# У наличия пропусков могут быть разные причины, но пропуски нужно либо заполнить, либо исключить из набора полностью.\n",
    "\n",
    "# Для начала попробуем оценить масштаб проблемы\n",
    "\n",
    "# Функция считает ошибочные данные в колонке\n",
    "def missing_values_table(df):\n",
    "        # Всего ошибочных данных (это я уже сделал выше, но выведу их и здесь для наглядности)\n",
    "        mis_val = df.isnull().sum()\n",
    "        \n",
    "        # Процент ошибочных данных\n",
    "        mis_val_percent = 100 * df.isnull().sum() / len(df)\n",
    "        \n",
    "        # Тип данных каждой колонки\n",
    "        sm_cols = [c for c in sm.columns]\n",
    "\n",
    "        cat_dtypes_dict = {}\n",
    "\n",
    "        for ct in sm_cols:\n",
    "            cat_dtypes_dict.update({sm[ct].name: sm[ct].dtype})\n",
    "\n",
    "        cat_dtypes = pd.Series(cat_dtypes_dict) \n",
    "      \n",
    "        # Сделаем датафрейм с результатами\n",
    "        mis_val_table = pd.concat([mis_val, mis_val_percent, cat_dtypes], axis=1)\n",
    "        \n",
    "        # Переназовем колонки\n",
    "        mis_val_table_ren_columns = mis_val_table.rename(\n",
    "        columns = {0 : 'Missing Values', 1 : '% of Total Values', 2 : 'Types'})\n",
    "        \n",
    "#         # Отсортируем данные и исключим колонки, в которых нет пропусков\n",
    "#         mis_val_table_ren_columns = mis_val_table_ren_columns[\n",
    "#             mis_val_table_ren_columns.iloc[:,1] != 0].sort_values(\n",
    "#         '% of Total Values', ascending=False).round(1)\n",
    "\n",
    "        # Отсортируем данные с учетом колонок, в которых нет пропусков\n",
    "        mis_val_table_ren_columns = mis_val_table_ren_columns.sort_values(\n",
    "        '% of Total Values', ascending=False).round(1)\n",
    "        \n",
    "        # Выведем итоговую информацию\n",
    "        print (\"Your selected dataframe has \" + str(df.shape[1]) + \" columns.\\n\"      \n",
    "            \"There are \" + str(mis_val_table_ren_columns.shape[0]) +\n",
    "              \" columns that have missing values.\")\n",
    "        \n",
    "        # Вернем датафрейм с информацией об ошибочных данных\n",
    "        return mis_val_table_ren_columns\n",
    "    \n",
    "missing_values_table(sm)"
   ]
  },
  {
   "cell_type": "code",
   "execution_count": null,
   "metadata": {},
   "outputs": [],
   "source": [
    "# Выделим числовые и категориальные признаки в отдельные листы:\n",
    "\n",
    "categorical_columns = [c for c in sm.columns if sm[c].dtype.name == 'object']\n",
    "numerical_columns   = [c for c in sm.columns if sm[c].dtype.name != 'object']\n",
    "print('Категориальные признаки:', categorical_columns)\n",
    "print('Числовые признаки:', numerical_columns)\n",
    "                       "
   ]
  }
 ],
 "metadata": {
  "kernelspec": {
   "display_name": "Python 3",
   "language": "python",
   "name": "python3"
  },
  "language_info": {
   "codemirror_mode": {
    "name": "ipython",
    "version": 3
   },
   "file_extension": ".py",
   "mimetype": "text/x-python",
   "name": "python",
   "nbconvert_exporter": "python",
   "pygments_lexer": "ipython3",
   "version": "3.8.3"
  }
 },
 "nbformat": 4,
 "nbformat_minor": 4
}
