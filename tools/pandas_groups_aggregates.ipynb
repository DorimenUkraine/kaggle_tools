{
  "nbformat": 4,
  "nbformat_minor": 0,
  "metadata": {
    "kernelspec": {
      "display_name": "Python 3",
      "language": "python",
      "name": "python3"
    },
    "language_info": {
      "codemirror_mode": {
        "name": "ipython",
        "version": 3
      },
      "file_extension": ".py",
      "mimetype": "text/x-python",
      "name": "python",
      "nbconvert_exporter": "python",
      "pygments_lexer": "ipython3",
      "version": "3.8.3"
    },
    "colab": {
      "name": "Подробное руководство по группировке и агрегированию с помощью pandas.ipynb",
      "provenance": [],
      "collapsed_sections": [
        "gkNeuRWpcc70",
        "Neis5iy7cc71",
        "al635Tvucc71",
        "IyaMP1macc71",
        "dIyam2vGcc71",
        "cK0NrIO0cc71",
        "2Nal26Uycc71",
        "8bJ_Gnyzcc71",
        "VWjDNL_Tcc72",
        "tzV4qJrtcc72",
        "R9Y-uJ2ecc72",
        "h_RIX8SNcc72",
        "imEYFfhEcc72",
        "Q5anxgUNcc73"
      ]
    }
  },
  "cells": [
    {
      "cell_type": "markdown",
      "metadata": {
        "id": "ARFPWkBAcc70"
      },
      "source": [
        "# Подробное руководство по группировке и агрегированию с помощью pandas"
      ]
    },
    {
      "cell_type": "markdown",
      "metadata": {
        "id": "cnB9080Ucc70"
      },
      "source": [
        "<a href=\"https://colab.research.google.com/github/dm-fedorov/pandas_basic/blob/master/быстрое%20введение%20в%20pandas/Подробное%20руководство%20по%20группировке%20и%20агрегированию%20с%20помощью%20pandas.ipynb\"><img align=\"left\" src=\"https://colab.research.google.com/assets/colab-badge.svg\" alt=\"Open in Colab\" title=\"Open and Execute in Google Colaboratory\" target=\"_blank\"></a>"
      ]
    },
    {
      "cell_type": "markdown",
      "metadata": {
        "id": "pOK0lHXgcc70"
      },
      "source": [
        "## Введение"
      ]
    },
    {
      "cell_type": "markdown",
      "metadata": {
        "id": "wDCXUVoPcc70"
      },
      "source": [
        "Одна из базовых функций анализа данных - группировка и агрегирование. В некоторых случаях этого уровня анализа может быть достаточно, чтобы ответить на вопросы бизнеса. В других случаях - это может стать первым шагом в более сложном анализе. \n",
        "\n",
        "В pandas функцию [`groupby`](https://pandas.pydata.org/pandas-docs/stable/user_guide/groupby.html) можно комбинировать с одной или несколькими функциями агрегирования, чтобы быстро и легко обобщать данные. Эта концепция обманчиво проста и большинство новых пользователей pandas поймут ее. Однако они удивятся тому, насколько полезными могут стать функции агрегирования для проведения сложного анализа данных. \n",
        "\n",
        "В этом Блокноте кратко изложены основные функции агрегирования pandas и показаны примеры более сложных настраиваемых агрегаций. Независимо от того, являетесь ли вы начинающим или опытным пользователем pandas, я думаю, вы узнаете что-то новое для себя.\n",
        "\n",
        "Оригниал статьи Криса [тут](https://pbpython.com/groupby-agg.html)."
      ]
    },
    {
      "cell_type": "markdown",
      "metadata": {
        "id": "JYOwew-pcc70"
      },
      "source": [
        "## Агрегирование"
      ]
    },
    {
      "cell_type": "markdown",
      "metadata": {
        "id": "_XkI1_Vhcc70"
      },
      "source": [
        "В контексте даннной статьи *функция агрегирования* - это функция, которая принимает несколько отдельных значений и возвращает сводные данные. В большинстве случаев возвращаемые данные представляют собой одно значение.\n",
        "\n",
        "Наиболее распространенные функции агрегирования - это *простое среднее* (simple average) или *суммирование* (summation) значений."
      ]
    },
    {
      "cell_type": "markdown",
      "metadata": {
        "id": "7nzQr9RUcc70"
      },
      "source": [
        "Далее представлен пример расчета суммарной и средней стоимости билетов для набора данных \"Титаник\", загруженного из пакета [seaborn](https://seaborn.pydata.org/examples/index.html)."
      ]
    },
    {
      "cell_type": "markdown",
      "metadata": {
        "id": "QfGklxTYcc70"
      },
      "source": [
        "> *15 апреля 1912 года самый большой пассажирский лайнер в истории во время своего первого рейса столкнулся с айсбергом. Когда Титаник затонул, погибли 1502 из 2224 пассажиров и членов экипажа. Эта сенсационная трагедия потрясла международное сообщество и привела к улучшению правил безопасности для судов. Одна из причин, по которой кораблекрушение привело к гибели людей, заключалась в том, что не хватало спасательных шлюпок для пассажиров и экипажа. Несмотря на то, что в выживании после затопления была определенная доля удачи, некоторые группы людей имели больше шансов выжить, чем другие*."
      ]
    },
    {
      "cell_type": "code",
      "metadata": {
        "id": "zVd0CMJXcc70"
      },
      "source": [
        "import pandas as pd\n",
        "import seaborn as sns\n",
        "\n",
        "df = sns.load_dataset('titanic')"
      ],
      "execution_count": null,
      "outputs": []
    },
    {
      "cell_type": "markdown",
      "metadata": {
        "id": "ctlPnejCcc70"
      },
      "source": [
        "Каждая строка набора данных представляет одного человека. Столбцы описывают различные атрибуты, включая то, выжили ли они (`survived`), их возраст (`age`), класс пассажира (`pclass`), пол (`sex`) и стоимость проезда (`fare`)."
      ]
    },
    {
      "cell_type": "code",
      "metadata": {
        "id": "HvzS_h6hcc70"
      },
      "source": [
        "df.head()"
      ],
      "execution_count": null,
      "outputs": []
    },
    {
      "cell_type": "code",
      "metadata": {
        "id": "CCMUdGX0cc70"
      },
      "source": [
        "df['fare'].agg(['sum', 'mean']) # сумма и среднее по столбцу стоимости билета, здесь передаем список агрегирующих функций"
      ],
      "execution_count": null,
      "outputs": []
    },
    {
      "cell_type": "markdown",
      "metadata": {
        "id": "smULl41rcc70"
      },
      "source": [
        "Эта простая концепция - необходимый строительный блок для более сложного анализа. \n",
        "\n",
        "Одна из областей, которую необходимо обсудить, - это то, что существует несколько способов вызова функции агрегирования. Как показано выше, вы можете передать *список функций* для применения к одному или нескольким столбцам данных.\n",
        "\n",
        "Что, если вы хотите выполнить анализ только подмножества столбцов? \n",
        "\n",
        "Есть два других варианта агрегирования: *использование словаря* и *именованное агрегирование* (named aggregation)."
      ]
    },
    {
      "cell_type": "markdown",
      "metadata": {
        "id": "WMffN8gFcc70"
      },
      "source": [
        "Использование словаря:"
      ]
    },
    {
      "cell_type": "code",
      "metadata": {
        "id": "3Va9A2QFcc70"
      },
      "source": [
        "df.agg({'fare': ['sum', 'mean'],\n",
        "        'sex' : ['count']})"
      ],
      "execution_count": null,
      "outputs": []
    },
    {
      "cell_type": "markdown",
      "metadata": {
        "id": "-gMcBE6zcc70"
      },
      "source": [
        "Использование кортежей (именованное агрегирование):"
      ]
    },
    {
      "cell_type": "code",
      "metadata": {
        "id": "jdVNDbi3cc70"
      },
      "source": [
        "df.agg(fare_sum=('fare', 'sum'),\n",
        "       fare_mean=('fare', 'mean'),\n",
        "       sex_count=('sex', 'count'))"
      ],
      "execution_count": null,
      "outputs": []
    },
    {
      "cell_type": "markdown",
      "metadata": {
        "id": "TPzK7eqccc70"
      },
      "source": [
        "Важно знать об этих параметрах и понимать, какой из них и когда использовать."
      ]
    },
    {
      "cell_type": "markdown",
      "metadata": {
        "id": "TdP20FBgcc70"
      },
      "source": [
        "> *Я предпочитаю использовать словари для агрегирования.*"
      ]
    },
    {
      "cell_type": "markdown",
      "metadata": {
        "id": "xUz8KGexcc70"
      },
      "source": [
        "Подход с кортежами ограничен возможностью применять только одно агрегирование за раз к определенному столбцу. Если мне нужно переименовать столбцы, я буду использовать функцию [`rename`](https://pandas.pydata.org/pandas-docs/stable/reference/api/pandas.DataFrame.rename.html) после завершения агрегации. В некоторых случаях подход со списком является более рациональным. Тем не менее, я повторю, что, на мой взгляд, словарный подход обеспечивает наиболее надежный способ для большинства ситуаций."
      ]
    },
    {
      "cell_type": "markdown",
      "metadata": {
        "id": "gkNeuRWpcc70"
      },
      "source": [
        "## Groupby"
      ]
    },
    {
      "cell_type": "markdown",
      "metadata": {
        "id": "SIaeTNa5cc70"
      },
      "source": [
        "Теперь, когда мы знаем, как использовать агрегацию, мы можем объединить это с [`groupby`](https://pandas.pydata.org/pandas-docs/stable/reference/api/pandas.DataFrame.groupby.html) для резюмирования данных."
      ]
    },
    {
      "cell_type": "markdown",
      "metadata": {
        "id": "Neis5iy7cc71"
      },
      "source": [
        "### Основы математики"
      ]
    },
    {
      "cell_type": "markdown",
      "metadata": {
        "id": "yP1rlNeqcc71"
      },
      "source": [
        "Наиболее распространенными встроенными функциями агрегирования являются базовые математические функции, включая *сумму* (sum), *среднее значение* (mean), *медианное значение* (median), *минимум* (minimum), *максимум* (maximum), *стандартное отклонение* (standard deviation), *дисперсию* (variance), *среднее абсолютное отклонение* (mean absolute deviation) и *произведение* (product)."
      ]
    },
    {
      "cell_type": "markdown",
      "metadata": {
        "id": "bxMmihEIcc71"
      },
      "source": [
        "Мы можем применить все эти функции к `fare` (стоимости проезда) при группировке по `embark_town` (городу посадки на корабль):"
      ]
    },
    {
      "cell_type": "code",
      "metadata": {
        "id": "d833mT3dcc71"
      },
      "source": [
        "agg_func_math = {\n",
        "    'fare': ['sum', 'mean', 'median', 'min', 'max', 'std', 'var', 'mad', 'prod']\n",
        "}"
      ],
      "execution_count": null,
      "outputs": []
    },
    {
      "cell_type": "code",
      "metadata": {
        "id": "3Mq0xvAZcc71"
      },
      "source": [
        "df.groupby(['embark_town']).agg(agg_func_math).round(2)"
      ],
      "execution_count": null,
      "outputs": []
    },
    {
      "cell_type": "markdown",
      "metadata": {
        "id": "WYuS1OvMcc71"
      },
      "source": [
        "Это все относительно простая математика.\n",
        "\n",
        "Кстати, я не нашел подходящего варианта использования функции [`prod`](https://pandas.pydata.org/pandas-docs/stable/reference/api/pandas.DataFrame.prod.html), которая вычисляет произведение всех значений в группе, и включил ее для полноты картины.\n",
        "\n",
        "Еще один полезный трюк - использовать [`describe`](https://pandas.pydata.org/pandas-docs/stable/reference/api/pandas.DataFrame.describe.html) для одновременного выполнения нескольких встроенных агрегаторов:"
      ]
    },
    {
      "cell_type": "code",
      "metadata": {
        "id": "99XFoBvAcc71"
      },
      "source": [
        "agg_func_describe = {'fare': ['describe']}"
      ],
      "execution_count": null,
      "outputs": []
    },
    {
      "cell_type": "code",
      "metadata": {
        "id": "7kRkHdQkcc71"
      },
      "source": [
        "df.groupby(['embark_town']).agg(agg_func_describe).round(2)"
      ],
      "execution_count": null,
      "outputs": []
    },
    {
      "cell_type": "markdown",
      "metadata": {
        "id": "al635Tvucc71"
      },
      "source": [
        "### Подсчет"
      ]
    },
    {
      "cell_type": "markdown",
      "metadata": {
        "id": "zz8ZHHlycc71"
      },
      "source": [
        "После базовой математики *подсчет* (counting) является следующим наиболее распространенным агрегированием, которое я выполняю для сгруппированных данных. \n",
        "\n",
        "Он несколько сложнее, чем простая математика. Вот три примера подсчета:"
      ]
    },
    {
      "cell_type": "code",
      "metadata": {
        "id": "oEL8oAllcc71"
      },
      "source": [
        "agg_func_count = {'embark_town': ['count', 'nunique', 'size']}"
      ],
      "execution_count": null,
      "outputs": []
    },
    {
      "cell_type": "code",
      "metadata": {
        "id": "fuKWSBKNcc71"
      },
      "source": [
        "df.groupby(['deck']).agg(agg_func_count) # статистика по палубам Титаника"
      ],
      "execution_count": null,
      "outputs": []
    },
    {
      "cell_type": "markdown",
      "metadata": {
        "id": "QvoV0jS7cc71"
      },
      "source": [
        "> Главное отличие, о котором следует помнить, заключается в том, что `count` не включает значения `NaN`, тогда как `size` их включает. В зависимости от набора данных это различие может оказаться полезным. \n",
        "\n",
        "Кроме того, функция `nunique` исключит значения `NaN` из уникальных счетчиков. \n",
        "\n",
        "Продолжайте читать, чтобы увидеть пример того, как включить `NaN` в подсчет уникальных значений."
      ]
    },
    {
      "cell_type": "markdown",
      "metadata": {
        "id": "IyaMP1macc71"
      },
      "source": [
        "### Первый и последний"
      ]
    },
    {
      "cell_type": "markdown",
      "metadata": {
        "id": "7lSzbcvlcc71"
      },
      "source": [
        "В следующем примере мы можем выбрать самую высокую и самую низкую стоимость билета в зависимости от города, в котором совершили посадку пассажиры Титаника. \n",
        "\n",
        "Следует помнить один важный момент: вы должны сначала отсортировать данные, если хотите, чтобы в качестве `first` (первого) и `last` (последнего) были выбраны максимальное и минимальное значения."
      ]
    },
    {
      "cell_type": "code",
      "metadata": {
        "id": "f86l1mnNcc71"
      },
      "source": [
        "agg_func_selection = {'fare': ['first', 'last']}"
      ],
      "execution_count": null,
      "outputs": []
    },
    {
      "cell_type": "code",
      "metadata": {
        "id": "OFtqZv1hcc71"
      },
      "source": [
        "df.sort_values(by=['fare'], ascending=False).groupby(['embark_town']).agg(agg_func_selection)"
      ],
      "execution_count": null,
      "outputs": []
    },
    {
      "cell_type": "markdown",
      "metadata": {
        "id": "UyIOEXk-cc71"
      },
      "source": [
        "В приведенном выше примере я бы рекомендовал использовать `max` и `min`, но для полноты картины включил `first` и `last`. В других приложениях (например, при анализе временных рядов) вы можете выбрать значения `first` и `last` для дальнейшего анализа."
      ]
    },
    {
      "cell_type": "markdown",
      "metadata": {
        "id": "W6taIlT7cc71"
      },
      "source": [
        "Другой подход к выбору - использовать `idxmax` и `idxmin` для выбора значения индекса, соответствующего максимальному или минимальному значениям."
      ]
    },
    {
      "cell_type": "code",
      "metadata": {
        "id": "6J81Q4Vxcc71"
      },
      "source": [
        "agg_func_max_min = {'fare': ['idxmax', 'idxmin']}"
      ],
      "execution_count": null,
      "outputs": []
    },
    {
      "cell_type": "code",
      "metadata": {
        "id": "i1ZH8CeYcc71"
      },
      "source": [
        "df.groupby(['embark_town']).agg(agg_func_max_min)"
      ],
      "execution_count": null,
      "outputs": []
    },
    {
      "cell_type": "markdown",
      "metadata": {
        "id": "Fu5lxy5vcc71"
      },
      "source": [
        "Можем проверить результаты:"
      ]
    },
    {
      "cell_type": "code",
      "metadata": {
        "id": "xou37bFzcc71"
      },
      "source": [
        "df.loc[[258, 378]]"
      ],
      "execution_count": null,
      "outputs": []
    },
    {
      "cell_type": "markdown",
      "metadata": {
        "id": "VOZY5mTycc71"
      },
      "source": [
        "Вот еще один трюк, который можно использовать для просмотра строк с максимальной стоимостью проезда (`fare`):"
      ]
    },
    {
      "cell_type": "code",
      "metadata": {
        "id": "onjPJDiqcc71"
      },
      "source": [
        "df.loc[df.groupby('class')['fare'].idxmax()]"
      ],
      "execution_count": null,
      "outputs": []
    },
    {
      "cell_type": "markdown",
      "metadata": {
        "id": "52XsoCjIcc71"
      },
      "source": [
        "Приведенный выше пример - одно из тех мест, где агрегирование на основе списка является полезным."
      ]
    },
    {
      "cell_type": "markdown",
      "metadata": {
        "id": "dIyam2vGcc71"
      },
      "source": [
        "### Другие библиотеки"
      ]
    },
    {
      "cell_type": "markdown",
      "metadata": {
        "id": "mvXrleMbcc71"
      },
      "source": [
        "Вы не ограничены функциями агрегирования в pandas. К примеру, можно использовать функции статистики из [`scipy`](https://docs.scipy.org/doc/scipy/reference/stats.html) или [`numpy`](https://numpy.org/doc/stable/reference/routines.statistics.html)."
      ]
    },
    {
      "cell_type": "markdown",
      "metadata": {
        "id": "CYJWk9opcc71"
      },
      "source": [
        "Вот пример расчета *моды* (`mode`) и *асимметрии* (`skew`) данных для стоимости проезда."
      ]
    },
    {
      "cell_type": "code",
      "metadata": {
        "id": "hU40Ru5Ncc71"
      },
      "source": [
        "from scipy.stats import skew, mode"
      ],
      "execution_count": null,
      "outputs": []
    },
    {
      "cell_type": "code",
      "metadata": {
        "id": "FB-Po7gScc71"
      },
      "source": [
        "agg_func_stats = {'fare': [skew, mode, pd.Series.mode]}"
      ],
      "execution_count": null,
      "outputs": []
    },
    {
      "cell_type": "code",
      "metadata": {
        "id": "EwJ0fDOXcc71"
      },
      "source": [
        "df.groupby(['embark_town']).agg(agg_func_stats)"
      ],
      "execution_count": null,
      "outputs": []
    },
    {
      "cell_type": "markdown",
      "metadata": {
        "id": "VouFbuCQcc71"
      },
      "source": [
        "Интересны результаты вычисления *моды* (`mode`). Функция [`mode`](https://docs.scipy.org/doc/scipy/reference/generated/scipy.stats.mode.html) из [`scipy.stats`](https://docs.scipy.org/doc/scipy/reference/stats.html) возвращает наиболее часто встречающееся значение, а также количество вхождений. Если вам просто нужно наиболее частое значение, то используйте [`pd.Series.mode`](https://pandas.pydata.org/pandas-docs/stable/reference/api/pandas.Series.mode.html)."
      ]
    },
    {
      "cell_type": "markdown",
      "metadata": {
        "id": "roh5s0-zcc71"
      },
      "source": [
        "Ключевым моментом является то, что вы можете использовать любую функцию, которую хотите, если она знает, как интерпретировать массив значений pandas и возвращает одно значение."
      ]
    },
    {
      "cell_type": "markdown",
      "metadata": {
        "id": "cK0NrIO0cc71"
      },
      "source": [
        "### Работа с текстом"
      ]
    },
    {
      "cell_type": "markdown",
      "metadata": {
        "id": "hMF2PNJXcc71"
      },
      "source": [
        "При работе с текстом функции подсчета будут работать должным образом. Вы также можете использовать функцию `mode` из `scipy` для текстовых данных."
      ]
    },
    {
      "cell_type": "markdown",
      "metadata": {
        "id": "QatYp882cc71"
      },
      "source": [
        "Одно интересное приложение состоит в том, что если у вас небольшое количество различных значений, то можете использовать питоновскую функцию [`set`](https://docs.python.org/3/tutorial/datastructures.html#sets) для отображения списка уникальных значений."
      ]
    },
    {
      "cell_type": "markdown",
      "metadata": {
        "id": "Ntju_TXecc71"
      },
      "source": [
        "Следующая краткая сводка для `class` (класса каюты) и `deck` (палубы) показывает, как данный подход можно использовать:"
      ]
    },
    {
      "cell_type": "code",
      "metadata": {
        "id": "s5j4YZJdcc71"
      },
      "source": [
        "agg_func_text = {'deck': ['nunique', mode, set]}"
      ],
      "execution_count": null,
      "outputs": []
    },
    {
      "cell_type": "code",
      "metadata": {
        "id": "t_rMRDZscc71"
      },
      "source": [
        "df.groupby(['class']).agg(agg_func_text)"
      ],
      "execution_count": null,
      "outputs": []
    },
    {
      "cell_type": "markdown",
      "metadata": {
        "id": "2Nal26Uycc71"
      },
      "source": [
        "### Пользовательские функции"
      ]
    },
    {
      "cell_type": "markdown",
      "metadata": {
        "id": "_IAVFqSYcc71"
      },
      "source": [
        "Стандартные функции агрегирования pandas и функции из экосистемы Python удовлетворят многие ваши потребности в анализе данных. Однако вы, вероятно, захотите создать свои собственные пользовательские функции агрегирования. Есть четыре способа для создания собственных функций. \n",
        "\n",
        "Чтобы проиллюстрировать различия, давайте вычислим *25-й процентиль данных* (также называемый квантилью .25 или нижней квартилью), используя четыре подхода."
      ]
    },
    {
      "cell_type": "markdown",
      "metadata": {
        "id": "lCCLYhnhcc71"
      },
      "source": [
        "Во-первых, мы можем использовать функцию [`partial`](https://docs.python.org/3/library/functools.html#functools.partial):"
      ]
    },
    {
      "cell_type": "code",
      "metadata": {
        "id": "XbPKomtOcc71"
      },
      "source": [
        "from functools import partial"
      ],
      "execution_count": null,
      "outputs": []
    },
    {
      "cell_type": "code",
      "metadata": {
        "id": "j640HOEMcc71"
      },
      "source": [
        "q_25 = partial(pd.Series.quantile, q=0.25) # возвращает обортку над pd.Series.quantile()"
      ],
      "execution_count": null,
      "outputs": []
    },
    {
      "cell_type": "code",
      "metadata": {
        "id": "B9-l5mhJcc71"
      },
      "source": [
        "q_25.__name__ = '25%' # пойдет в наименование будущего столбца"
      ],
      "execution_count": null,
      "outputs": []
    },
    {
      "cell_type": "markdown",
      "metadata": {
        "id": "SNkJljqzcc71"
      },
      "source": [
        "Затем мы определяем нашу собственную функцию (которая представляет собой небольшую обертку для [`quantile`](https://pandas.pydata.org/pandas-docs/stable/reference/api/pandas.Series.quantile.html)):"
      ]
    },
    {
      "cell_type": "code",
      "metadata": {
        "id": "HuwVgZ8wcc71"
      },
      "source": [
        "def percentile_25(x):\n",
        "    return x.quantile(.25)"
      ],
      "execution_count": null,
      "outputs": []
    },
    {
      "cell_type": "markdown",
      "metadata": {
        "id": "uV00hWpccc71"
      },
      "source": [
        "Далее определяем лямбда-функцию и даем ей имя:"
      ]
    },
    {
      "cell_type": "code",
      "metadata": {
        "id": "7qaHYAsdcc71"
      },
      "source": [
        "lambda_25 = lambda x: x.quantile(.25)"
      ],
      "execution_count": null,
      "outputs": []
    },
    {
      "cell_type": "code",
      "metadata": {
        "id": "VFBejvGtcc71"
      },
      "source": [
        "lambda_25.__name__ = 'lambda_25%'"
      ],
      "execution_count": null,
      "outputs": []
    },
    {
      "cell_type": "markdown",
      "metadata": {
        "id": "oejVasIOcc71"
      },
      "source": [
        "Затем задаем встроенную (inline) лямбду и формируем словарь:"
      ]
    },
    {
      "cell_type": "code",
      "metadata": {
        "id": "KJ6iyISAcc71"
      },
      "source": [
        "agg_func = {\n",
        "    'fare': [q_25, percentile_25, lambda_25, lambda x: x.quantile(.25)]\n",
        "}"
      ],
      "execution_count": null,
      "outputs": []
    },
    {
      "cell_type": "code",
      "metadata": {
        "id": "k-Mk1kTTcc71"
      },
      "source": [
        "df.groupby(['embark_town']).agg(agg_func).round(2)"
      ],
      "execution_count": null,
      "outputs": []
    },
    {
      "cell_type": "markdown",
      "metadata": {
        "id": "WNrHmm-ecc71"
      },
      "source": [
        "Как видите, результаты одинаковые, но названия столбцов немного отличаются. Это область предпочтений программистов, но я рекомендую ознакомиться с вариантами, поскольку вы встретите большинство из них в онлайн-решениях."
      ]
    },
    {
      "cell_type": "markdown",
      "metadata": {
        "id": "wGUTZ20Xcc71"
      },
      "source": [
        "> *Я предпочитаю использовать собственные функции или встроенные (inline) лямбды.*"
      ]
    },
    {
      "cell_type": "markdown",
      "metadata": {
        "id": "N8vEazAxcc71"
      },
      "source": [
        "Как и во многих других областях программирования - это элемент стиля и предпочтений, но я рекомендую вам выбрать один или два подхода и придерживаться их для единообразия."
      ]
    },
    {
      "cell_type": "markdown",
      "metadata": {
        "id": "8bJ_Gnyzcc71"
      },
      "source": [
        "### Примеры пользовательских функций "
      ]
    },
    {
      "cell_type": "markdown",
      "metadata": {
        "id": "wAYaS0Vjcc71"
      },
      "source": [
        "Как показано выше, существует несколько подходов к разработке пользовательских функций агрегирования. "
      ]
    },
    {
      "cell_type": "markdown",
      "metadata": {
        "id": "EwsQW5XZcc71"
      },
      "source": [
        "В большинстве случаев функции представляют собой легкие обертки (wrappers) для встроенных функций pandas. Они нужны, т.к. нет возможности передать аргументы в агрегаты (aggregations). \n",
        "\n",
        "Следующие примеры должны пояснить этот момент."
      ]
    },
    {
      "cell_type": "markdown",
      "metadata": {
        "id": "T8UOYyTKcc71"
      },
      "source": [
        "Если вы хотите подсчитать количество нулевых значений, вы можете использовать эту [функцию](https://medium.com/escaletechblog/writing-custom-aggregation-functions-with-pandas-96f5268a8596):"
      ]
    },
    {
      "cell_type": "code",
      "metadata": {
        "id": "PkjMpMwZcc71"
      },
      "source": [
        "def count_nulls(s):\n",
        "    return s.size - s.count()"
      ],
      "execution_count": null,
      "outputs": []
    },
    {
      "cell_type": "markdown",
      "metadata": {
        "id": "yvbVlsBrcc71"
      },
      "source": [
        "Если вы хотите включить значения `NaN` в свои уникальные счетчики, вам необходимо указать параметр `dropna=False` у функции [`nunique`](https://pandas.pydata.org/pandas-docs/stable/reference/api/pandas.Series.nunique.html)."
      ]
    },
    {
      "cell_type": "code",
      "metadata": {
        "id": "a3ITBgyfcc71"
      },
      "source": [
        "def unique_nan(s):\n",
        "    return s.nunique(dropna=False)"
      ],
      "execution_count": null,
      "outputs": []
    },
    {
      "cell_type": "markdown",
      "metadata": {
        "id": "0jr7zGQ5cc71"
      },
      "source": [
        "Вот результат применения всех функций:"
      ]
    },
    {
      "cell_type": "code",
      "metadata": {
        "id": "kaIwu5rzcc71"
      },
      "source": [
        "agg_func_custom_count = {\n",
        "    'embark_town': ['count', 'nunique', 'size', unique_nan, count_nulls, set]\n",
        "}"
      ],
      "execution_count": null,
      "outputs": []
    },
    {
      "cell_type": "code",
      "metadata": {
        "id": "pg-ayD7scc71"
      },
      "source": [
        "df.groupby(['deck']).agg(agg_func_custom_count)"
      ],
      "execution_count": null,
      "outputs": []
    },
    {
      "cell_type": "markdown",
      "metadata": {
        "id": "pXJEKbcicc71"
      },
      "source": [
        "Если вы хотите рассчитать *90-й процентиль*, используйте [`quantile`](https://pandas.pydata.org/pandas-docs/stable/reference/api/pandas.Series.quantile.html):"
      ]
    },
    {
      "cell_type": "code",
      "metadata": {
        "id": "XexbzIzrcc71"
      },
      "source": [
        "def percentile_90(x):\n",
        "    return x.quantile(.9)"
      ],
      "execution_count": null,
      "outputs": []
    },
    {
      "cell_type": "markdown",
      "metadata": {
        "id": "W814f-Zccc71"
      },
      "source": [
        "Если вы хотите вычислить *усеченное среднее* (trimmed mean) значение, из которого исключен самый низкий 10-й процент, используйте функцию [`trim_mean`](https://docs.scipy.org/doc/scipy/reference/generated/scipy.stats.trim_mean.html) из `scipy`:"
      ]
    },
    {
      "cell_type": "code",
      "metadata": {
        "id": "gszGZYm9cc71"
      },
      "source": [
        "from scipy.stats import trim_mean\n",
        "\n",
        "def trim_mean_10(x):\n",
        "    return trim_mean(x, 0.1)"
      ],
      "execution_count": null,
      "outputs": []
    },
    {
      "cell_type": "markdown",
      "metadata": {
        "id": "OhUD89f2cc71"
      },
      "source": [
        "Если вы хотите получить наибольшее значение, независимо от порядка сортировки (см. ранее в этом Блокноте о `first` и `last`):"
      ]
    },
    {
      "cell_type": "code",
      "metadata": {
        "id": "dKkOYkV_cc71"
      },
      "source": [
        "def largest(x):\n",
        "    return x.nlargest(1)"
      ],
      "execution_count": null,
      "outputs": []
    },
    {
      "cell_type": "markdown",
      "metadata": {
        "id": "49OQsiJtcc72"
      },
      "source": [
        "Это эквивалентно `max`, но я приведу еще один пример с `nlargest` ниже, чтобы подчеркнуть разницу."
      ]
    },
    {
      "cell_type": "markdown",
      "metadata": {
        "id": "PPgcxOeEcc72"
      },
      "source": [
        "Ранее я уже [писал](https://pbpython.com/styling-pandas.html) о [`sparkline`](https://pypi.org/project/sparklines/). Обратитесь к этой статье за инструкциями по установке. \n",
        "\n",
        "Вот как включить их в агрегатную функцию для уникального представления данных:"
      ]
    },
    {
      "cell_type": "code",
      "metadata": {
        "id": "W71Xy_Jscc72"
      },
      "source": [
        "#!pip3 install sparklines"
      ],
      "execution_count": null,
      "outputs": []
    },
    {
      "cell_type": "code",
      "metadata": {
        "id": "HZGFAzuqcc72"
      },
      "source": [
        "from sparklines import sparklines"
      ],
      "execution_count": null,
      "outputs": []
    },
    {
      "cell_type": "code",
      "metadata": {
        "id": "_SYTSlHXcc72"
      },
      "source": [
        "import numpy as np\n",
        "\n",
        "def sparkline_str(x):\n",
        "    bins = np.histogram(x)[0]\n",
        "    sl = ''.join(sparklines(bins))\n",
        "    return sl"
      ],
      "execution_count": null,
      "outputs": []
    },
    {
      "cell_type": "markdown",
      "metadata": {
        "id": "-XN_XbLpcc72"
      },
      "source": [
        "Вот они все вместе:"
      ]
    },
    {
      "cell_type": "code",
      "metadata": {
        "id": "1xsXL366cc72"
      },
      "source": [
        "agg_func_largest = {\n",
        "    'fare': [percentile_90, trim_mean_10, largest, sparkline_str]\n",
        "}"
      ],
      "execution_count": null,
      "outputs": []
    },
    {
      "cell_type": "code",
      "metadata": {
        "id": "AtolaWSlcc72"
      },
      "source": [
        "df.groupby(['class', 'embark_town']).agg(agg_func_largest)"
      ],
      "execution_count": null,
      "outputs": []
    },
    {
      "cell_type": "markdown",
      "metadata": {
        "id": "a4YYxAgbcc72"
      },
      "source": [
        "Функции `nlargest` и `nsmallest` могут быть полезны для резюмирования данных в различных сценариях. \n",
        "\n",
        "Следующий код показывает суммарную стоимость для 10 первых и 10 последних пассажиров:"
      ]
    },
    {
      "cell_type": "code",
      "metadata": {
        "id": "GJBguws5cc72"
      },
      "source": [
        "def top_10_sum(x):\n",
        "    return x.nlargest(10).sum()"
      ],
      "execution_count": null,
      "outputs": []
    },
    {
      "cell_type": "code",
      "metadata": {
        "id": "z2M-2Y8pcc72"
      },
      "source": [
        "def bottom_10_sum(x):\n",
        "    return x.nsmallest(10).sum()"
      ],
      "execution_count": null,
      "outputs": []
    },
    {
      "cell_type": "code",
      "metadata": {
        "id": "BreP3L56cc72"
      },
      "source": [
        "agg_func_top_bottom_sum = {\n",
        "    'fare': [top_10_sum, bottom_10_sum]\n",
        "}"
      ],
      "execution_count": null,
      "outputs": []
    },
    {
      "cell_type": "code",
      "metadata": {
        "id": "l6BDimqXcc72"
      },
      "source": [
        "df.groupby('class').agg(agg_func_top_bottom_sum)"
      ],
      "execution_count": null,
      "outputs": []
    },
    {
      "cell_type": "markdown",
      "metadata": {
        "id": "5JKTtjIOcc72"
      },
      "source": [
        "Использование этого подхода может быть полезно для применения [закона Парето](https://ru.wikipedia.org/wiki/%D0%97%D0%B0%D0%BA%D0%BE%D0%BD_%D0%9F%D0%B0%D1%80%D0%B5%D1%82%D0%BE) к вашим собственным данным."
      ]
    },
    {
      "cell_type": "markdown",
      "metadata": {
        "id": "VWjDNL_Tcc72"
      },
      "source": [
        "### Пользовательские функции с несколькими столбцами"
      ]
    },
    {
      "cell_type": "markdown",
      "metadata": {
        "id": "r_jTKG5Ccc72"
      },
      "source": [
        "Если у вас есть сценарий, в котором небходимо запустить несколько агрегаций по столбцам, то вы можете использовать `groupby` в сочетании с `apply`, как описано в этом [ответе на stack overflow](https://stackoverflow.com/questions/14529838/apply-multiple-functions-to-multiple-groupby-columns/47103408#47103408)."
      ]
    },
    {
      "cell_type": "markdown",
      "metadata": {
        "id": "QQSSxnekcc72"
      },
      "source": [
        "Используя этот метод, вы получите доступ ко всем столбцам данных и сможете выбрать подходящий способ агрегирования для создания итогового `DataFrame` (включая наименование столбцов):"
      ]
    },
    {
      "cell_type": "code",
      "metadata": {
        "id": "6pU2KrSccc72"
      },
      "source": [
        "def summary(x):\n",
        "    result = {\n",
        "        'fare_sum': x['fare'].sum(),\n",
        "        'fare_mean': x['fare'].mean(),\n",
        "        'fare_range': x['fare'].max() - x['fare'].min()\n",
        "    }\n",
        "    return pd.Series(result).round(0)"
      ],
      "execution_count": null,
      "outputs": []
    },
    {
      "cell_type": "code",
      "metadata": {
        "id": "tTmPZvJ0cc72"
      },
      "source": [
        "df.groupby(['class']).apply(summary)"
      ],
      "execution_count": null,
      "outputs": []
    },
    {
      "cell_type": "markdown",
      "metadata": {
        "id": "VhZKFiRycc72"
      },
      "source": [
        "Использование `apply` с `groupby` дает максимальную гибкость. Однако есть и обратная сторона. Функция `apply` работает медленно, поэтому этот подход следует использовать с осторожностью."
      ]
    },
    {
      "cell_type": "markdown",
      "metadata": {
        "id": "tzV4qJrtcc72"
      },
      "source": [
        "## Работа с групповыми объектами"
      ]
    },
    {
      "cell_type": "markdown",
      "metadata": {
        "id": "K6UPpeBpcc72"
      },
      "source": [
        "После группировки и агрегирования данных вы можете выполнять дополнительные вычисления для сгруппированных объектов."
      ]
    },
    {
      "cell_type": "markdown",
      "metadata": {
        "id": "zQpzofzqcc72"
      },
      "source": [
        "В следующем примере определим, какой процент от общего количества проданных билетов можно отнести к каждой комбинации `embark_town` и `class`. \n",
        "\n",
        "Мы используем метод [`assign()`](https://pandas.pydata.org/pandas-docs/stable/reference/api/pandas.DataFrame.assign.html) и лямбда-функцию для добавления столбца `pct_total`:"
      ]
    },
    {
      "cell_type": "code",
      "metadata": {
        "id": "OjYadjsfcc72"
      },
      "source": [
        "df.groupby(['embark_town', 'class']).agg({'fare': 'sum'}).assign(pct_total=lambda x: x / x.sum())"
      ],
      "execution_count": null,
      "outputs": []
    },
    {
      "cell_type": "markdown",
      "metadata": {
        "id": "5HkfCfU0cc72"
      },
      "source": [
        "Следует отметить, что можно сделать проще с использованием кросс-таблицы [`pd.crosstab`](https://pandas.pydata.org/pandas-docs/stable/reference/api/pandas.crosstab.html), как описано в [статье](https://pbpython.com/pandas-crosstab.html):"
      ]
    },
    {
      "cell_type": "code",
      "metadata": {
        "id": "tkQdZl2tcc72"
      },
      "source": [
        "pd.crosstab(df['embark_town'],\n",
        "            df['class'],\n",
        "            values=df['fare'],\n",
        "            aggfunc='sum',\n",
        "            normalize=True)"
      ],
      "execution_count": null,
      "outputs": []
    },
    {
      "cell_type": "markdown",
      "metadata": {
        "id": "PfEkWBvOcc72"
      },
      "source": [
        "Пока мы говорим о `crosstab` (кросс-таблицах), полезно иметь в виду, что функции агрегации также можно комбинировать со сводными таблицами (pivot tables)."
      ]
    },
    {
      "cell_type": "markdown",
      "metadata": {
        "id": "gZ0mqG3gcc72"
      },
      "source": [
        "Вот небольшой пример:"
      ]
    },
    {
      "cell_type": "code",
      "metadata": {
        "id": "TZ9UFHcJcc72"
      },
      "source": [
        "pd.pivot_table(data=df,\n",
        "               index=['embark_town'],\n",
        "               columns=['class'],\n",
        "               aggfunc=agg_func_top_bottom_sum)"
      ],
      "execution_count": null,
      "outputs": []
    },
    {
      "cell_type": "markdown",
      "metadata": {
        "id": "1mLiqB9ecc72"
      },
      "source": [
        "Иногда необходимо выполнить множество группировок (multiple groupby), чтобы ответить на вопрос. Например, если мы хотим увидеть кумулятивную сумму стоимости билетов, мы можем сгруппировать и агрегировать по городу (town) и классу (class), затем сгруппировать полученный объект и вычислить кумулятивную сумму (cumulative sum):"
      ]
    },
    {
      "cell_type": "code",
      "metadata": {
        "id": "aWP-L5Llcc72"
      },
      "source": [
        "fare_group = df.groupby(['embark_town', 'class']).agg({'fare': 'sum'})\n",
        "fare_group"
      ],
      "execution_count": null,
      "outputs": []
    },
    {
      "cell_type": "code",
      "metadata": {
        "id": "CzAbExRHcc72"
      },
      "source": [
        "fare_group.groupby(level=0).cumsum()"
      ],
      "execution_count": null,
      "outputs": []
    },
    {
      "cell_type": "markdown",
      "metadata": {
        "id": "sPSCgjZ1cc72"
      },
      "source": [
        "Это может быть сложным для понимания. Вот краткое пояснение того, что мы делаем:"
      ]
    },
    {
      "cell_type": "markdown",
      "metadata": {
        "id": "q7wM3Wb2cc72"
      },
      "source": [
        "<img src=\"https://raw.githubusercontent.com/dm-fedorov/pandas_basic/master/pic/multiple-groupby.png\" >"
      ]
    },
    {
      "cell_type": "markdown",
      "metadata": {
        "id": "R9Y-uJ2ecc72"
      },
      "source": [
        "### Пример с данными о продажах\n",
        "\n",
        "В следующем примере резюмируем ежедневные данные о продажах и преобразуем их в совокупное ежедневное и ежеквартальное представление. \n",
        "\n",
        "Обратитесь к [статье о Grouper](https://pbpython.com/pandas-grouper-agg.html), если вы не знакомы с использованием метода [`pd.Grouper()`](https://pandas.pydata.org/pandas-docs/stable/reference/api/pandas.Grouper.html)."
      ]
    },
    {
      "cell_type": "markdown",
      "metadata": {
        "id": "58MpseQEcc72"
      },
      "source": [
        "В этом примере мы хотим включить сумму ежедневных продаж, а также совокупную (cumulative) сумму за квартал:"
      ]
    },
    {
      "cell_type": "code",
      "metadata": {
        "id": "d0K881Blcc72"
      },
      "source": [
        "sales = pd.read_excel('https://github.com/chris1610/pbpython/blob/master/data/2018_Sales_Total_v2.xlsx?raw=True')\n",
        "sales.head()"
      ],
      "execution_count": null,
      "outputs": []
    },
    {
      "cell_type": "code",
      "metadata": {
        "id": "mMR0UgFfcc72"
      },
      "source": [
        "daily_sales = sales.groupby([pd.Grouper(key='date', freq='D')]).agg(daily_sales=('ext price', 'sum')).reset_index()\n",
        "daily_sales.head()"
      ],
      "execution_count": null,
      "outputs": []
    },
    {
      "cell_type": "code",
      "metadata": {
        "id": "r2UvBRh4cc72"
      },
      "source": [
        "daily_sales['quarter_sales'] = daily_sales.groupby(pd.Grouper(key='date', freq='Q')).agg({'daily_sales': 'cumsum'})\n",
        "daily_sales.head()"
      ],
      "execution_count": null,
      "outputs": []
    },
    {
      "cell_type": "markdown",
      "metadata": {
        "id": "kwZaYpNocc72"
      },
      "source": [
        "Чтобы получить хорошее представление о том, что происходит, вам нужно взглянуть на границу квартала (с конца марта по начало апреля):"
      ]
    },
    {
      "cell_type": "markdown",
      "metadata": {
        "id": "jS72jlFZcc72"
      },
      "source": [
        "<img src=\"https://raw.githubusercontent.com/dm-fedorov/pandas_basic/master/pic/cumulative_total.png\" >"
      ]
    },
    {
      "cell_type": "markdown",
      "metadata": {
        "id": "tDPFsSafcc72"
      },
      "source": [
        "Если вы хотите просто получить совокупный (cumulative) квартальный итог, вы можете связать несколько функций `groupby`."
      ]
    },
    {
      "cell_type": "markdown",
      "metadata": {
        "id": "efsHMMLYcc72"
      },
      "source": [
        "Сначала сгруппируйте ежедневные результаты, затем сгруппируйте эти результаты по кварталам и используйте кумулятивную сумму:"
      ]
    },
    {
      "cell_type": "code",
      "metadata": {
        "id": "L1qLC05tcc72"
      },
      "source": [
        "# веселый пример :)\n",
        "\n",
        "sales.groupby(\n",
        "    [pd.Grouper(key='date', \n",
        "                freq='D')]).agg(\n",
        "                             daily_sales=('ext price', \n",
        "                                          'sum')).groupby(\n",
        "                                                    pd.Grouper(freq='Q')).agg(\n",
        "                                                                     {'daily_sales': 'cumsum'}).rename(\n",
        "                                                                                                 columns={'daily_sales': 'quarterly_sales'})"
      ],
      "execution_count": null,
      "outputs": []
    },
    {
      "cell_type": "markdown",
      "metadata": {
        "id": "C_g9GhQUcc72"
      },
      "source": [
        "В этом примере я включил именованный подход агрегации (named aggregation approach), чтобы переименовать переменную и уточнить, что теперь это ежедневные продажи. Затем я снова группирую и использую совокупную (cumulative) сумму, чтобы получить текущую сумму за квартал. Наконец, я переименовал столбец в квартальные продажи (quarterly sales). \n",
        "\n",
        "По отзывам, на первый взгляд, это сложно понять. Однако, если выполните по шагам, т.е. построите функцию и будете проверять результаты на каждом шаге, то начнете понимать ее. \n",
        "\n",
        "Не расстраивайтесь!"
      ]
    },
    {
      "cell_type": "markdown",
      "metadata": {
        "id": "h_RIX8SNcc72"
      },
      "source": [
        "## Сглаживание иерархических индексов столбцов"
      ]
    },
    {
      "cell_type": "markdown",
      "metadata": {
        "id": "__bbtdDYcc72"
      },
      "source": [
        "По умолчанию pandas в сводном `DataFrame` создает иерархический индекс у столбца:"
      ]
    },
    {
      "cell_type": "code",
      "metadata": {
        "id": "4s_-7pHWcc72"
      },
      "source": [
        "df.groupby(['embark_town', 'class']).agg({'fare': ['sum', 'mean']}).round()"
      ],
      "execution_count": null,
      "outputs": []
    },
    {
      "cell_type": "markdown",
      "metadata": {
        "id": "HHlqoZRPcc72"
      },
      "source": [
        "В какой-то момент в процессе анализа вы, вероятно, захотите «сгладить» (flatten) столбцы, чтобы получилась одна строка с именами."
      ]
    },
    {
      "cell_type": "markdown",
      "metadata": {
        "id": "xAOrHu_acc72"
      },
      "source": [
        "Я обнаружил, что мне лучше всего подходит следующий подход. \n",
        "\n",
        "Я использую параметр `as_index=False` при группировке, а затем создаю новое имя свернутого (collapsed) столбца.\n",
        "\n",
        "Вот код:"
      ]
    },
    {
      "cell_type": "code",
      "metadata": {
        "id": "B8kYrkvAcc72"
      },
      "source": [
        "multi_df = df.groupby(['embark_town', 'class'], as_index=False).agg({'fare': ['sum', 'mean']})\n",
        "multi_df"
      ],
      "execution_count": null,
      "outputs": []
    },
    {
      "cell_type": "code",
      "metadata": {
        "id": "3QUo74aLcc72"
      },
      "source": [
        "multi_df.columns = ['_'.join(col).rstrip('_') for col in multi_df.columns.values]\n",
        "multi_df.round(2)"
      ],
      "execution_count": null,
      "outputs": []
    },
    {
      "cell_type": "markdown",
      "metadata": {
        "id": "KnBTv0a6cc72"
      },
      "source": [
        "Вот изображение, показывающее, как выглядит сплющенный кадр данных:"
      ]
    },
    {
      "cell_type": "markdown",
      "metadata": {
        "id": "hd_Aja-Ncc72"
      },
      "source": [
        "<img src=\"https://raw.githubusercontent.com/dm-fedorov/pandas_basic/master/pic/column_flatten.png\" >"
      ]
    },
    {
      "cell_type": "markdown",
      "metadata": {
        "id": "y6M7sFAQcc72"
      },
      "source": [
        "Я предпочитаю использовать `_` в качестве разделителя, но вы можете использовать другие значения. Просто имейте в виду, что для последующего анализа будет проще, если в именах результирующих столбцов нет пробелов."
      ]
    },
    {
      "cell_type": "markdown",
      "metadata": {
        "id": "imEYFfhEcc72"
      },
      "source": [
        "## Промежуточные итоги"
      ]
    },
    {
      "cell_type": "markdown",
      "metadata": {
        "id": "5HEryhbEcc72"
      },
      "source": [
        "Если вы хотите добавить промежуточные итоги (subtotal), я рекомендую пакет [`sidetable`](https://github.com/chris1610/sidetable).\n",
        "\n",
        "Инструкция по работе с `sidetable` на русском языке [тут](http://dfedorov.spb.ru/pandas/%D0%A1%D0%B2%D0%BE%D0%B4%D0%BD%D0%B0%D1%8F%20%D1%82%D0%B0%D0%B1%D0%BB%D0%B8%D1%86%D0%B0%20%D0%B2%20pandas.html).\n",
        "\n",
        "Вот как вы можете суммировать `fares` по `class`, `embark_town` и `sex` с промежуточным итогом на каждом уровне, а также общим итогом внизу:"
      ]
    },
    {
      "cell_type": "code",
      "metadata": {
        "id": "OU8CoSnMcc73"
      },
      "source": [
        "#!pip3 install sidetable"
      ],
      "execution_count": null,
      "outputs": []
    },
    {
      "cell_type": "code",
      "metadata": {
        "id": "g8jeg_DMcc73"
      },
      "source": [
        "import sidetable"
      ],
      "execution_count": null,
      "outputs": []
    },
    {
      "cell_type": "code",
      "metadata": {
        "id": "7Eo265eecc73"
      },
      "source": [
        "df.groupby(['class', 'embark_town', 'sex']).agg({'fare': 'sum'}).stb.subtotal()"
      ],
      "execution_count": null,
      "outputs": []
    },
    {
      "cell_type": "markdown",
      "metadata": {
        "id": "CouEFonUcc73"
      },
      "source": [
        "`sidetable` также позволяет настраивать уровни промежуточных итогов и итоговые метки. Обратитесь к [документации пакета](https://github.com/chris1610/sidetable) для получения дополнительных примеров того, как `sidetable` может резюмировать данные."
      ]
    },
    {
      "cell_type": "markdown",
      "metadata": {
        "id": "Q5anxgUNcc73"
      },
      "source": [
        "## Резюме"
      ]
    },
    {
      "cell_type": "markdown",
      "metadata": {
        "id": "Lc3jM18Rcc73"
      },
      "source": [
        "Спасибо, что прочитали эту статью. Здесь много деталей, но это связано с тем, что существует множество различных применений для группировки и агрегирования данных с помощью pandas. Я надеюсь, что этот пост станет полезным ресурсом, который вы сможете добавить в закладки и вернуться к нему, когда столкнетесь с собственной сложной проблемой.\n",
        "\n",
        "Если у вас есть другие распространенные техники, которые вы часто используете, дайте мне знать в комментариях к [статье](https://pbpython.com/groupby-agg.html). Если я получу что-нибудь полезное, я включу его в этот пост или как обновленную статью."
      ]
    },
    {
      "cell_type": "code",
      "metadata": {
        "id": "tDECACshcc73"
      },
      "source": [
        ""
      ],
      "execution_count": null,
      "outputs": []
    }
  ]
}