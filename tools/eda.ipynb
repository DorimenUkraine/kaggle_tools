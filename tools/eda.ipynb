{
 "cells": [
  {
   "cell_type": "code",
   "execution_count": null,
   "metadata": {},
   "outputs": [],
   "source": [
    "# Проводим dummies-колонки\n",
    "# Функция для отображения фич в записи\n",
    "def find_item(cell):\n",
    "    if item in cell:\n",
    "        return 1\n",
    "    return 0\n",
    "\n",
    "# Создаем набор фич\n",
    "col_list = [0, 1, 2]\n",
    "for col in df_copy[col_list]:\n",
    "    features = set()\n",
    "    for featurelist in df_copy[col]:\n",
    "        features.add(featurelist)\n",
    "\n",
    "        # Cоздаем столбцы с фичами и заполняем 0 или 1\n",
    "        for item in features:\n",
    "            df_copy[item] = df_copy[col].apply(find_item)\n",
    "\n",
    "df_copy = df_copy.drop(col_list, axis=1)"
   ]
  }
 ],
 "metadata": {
  "kernelspec": {
   "display_name": "Python 3",
   "language": "python",
   "name": "python3"
  },
  "language_info": {
   "codemirror_mode": {
    "name": "ipython",
    "version": 3
   },
   "file_extension": ".py",
   "mimetype": "text/x-python",
   "name": "python",
   "nbconvert_exporter": "python",
   "pygments_lexer": "ipython3",
   "version": "3.8.3"
  }
 },
 "nbformat": 4,
 "nbformat_minor": 4
}
