{
 "cells": [
  {
   "cell_type": "code",
   "execution_count": 1,
   "metadata": {},
   "outputs": [],
   "source": [
    "# Беглый анализ колонки и удаление, если много пропусков\n",
    "col_for_drop = []\n",
    "\n",
    "def col_info_train(col):\n",
    "\n",
    "    if col.isnull().sum() > 0:\n",
    "        percent_isnull = (col.isnull().sum() / len(col)) * 100\n",
    "        print(col.name)\n",
    "        print('Количество пропусков: {}'.format(col.isnull().sum()))\n",
    "        print('% пропусков: {}'.format(percent_isnull))\n",
    "        print('---')       \n",
    "        \n",
    "    \n",
    "        # Удалю признак, в котором есть пропусков больше 10%\n",
    "        if percent_isnull > 10:\n",
    "            col_for_drop.append(col.name)\n",
    "            train.drop([col.name], axis='columns', inplace=True)\n",
    "        \n",
    "\n",
    "for col in train:\n",
    "    col_info_train(train[col]) "
   ]
  },
  {
   "cell_type": "code",
   "execution_count": null,
   "metadata": {},
   "outputs": [],
   "source": [
    "# Просмотр гистограммы для признака\n",
    "def feature_hist(data, col):\n",
    "    sns.countplot(data[ col])\n",
    "    plt.title('Histogram for default')"
   ]
  },
  {
   "cell_type": "code",
   "execution_count": null,
   "metadata": {},
   "outputs": [],
   "source": [
    "# Беглый просмотр данных в признаке\n",
    "def col_info(data, col, bins):\n",
    "    percent_isnull = (data[col].isnull().sum()) / len(data[col]) * 100\n",
    "    print('Название колонки: {}'.format(data[col].name))\n",
    "    print('Количество пропусков: {}'.format(data[col].isnull().sum()))\n",
    "    print('% пропусков: {}'.format(round(percent_isnull, 2)))\n",
    "    print('{},'.format(data[col].describe()))\n",
    "    print('Распределение:\\n{},'.format(data[col].value_counts()))\n",
    "    data[col].hist(bins=bins)"
   ]
  },
  {
   "cell_type": "code",
   "execution_count": null,
   "metadata": {},
   "outputs": [],
   "source": [
    "# Визуализация признаков и пропусков\n",
    "def viz_na(data):\n",
    "    \"\"\"NA visualisation\"\"\"\n",
    "    global cols\n",
    "    cols = data.columns # запишем названия строки сделаем переменную глобальной\n",
    "    # определяем цвета \n",
    "    # желтый - пропущенные данные, синий - не пропущенные\n",
    "    colours = ['#000099', '#ffff00'] \n",
    "    sns.heatmap(data[cols].isnull(), cmap=sns.color_palette(colours))\n",
    "    plt.show()\n",
    "\n",
    "\n",
    "viz_na(train)\n",
    "viz_na(test)"
   ]
  },
  {
   "cell_type": "code",
   "execution_count": null,
   "metadata": {},
   "outputs": [],
   "source": [
    "# Статистика пропусков \n",
    "def stat_na_per_percent(data):\n",
    "    print(f'{data.shape}')\n",
    "    for col in data.columns:\n",
    "        pct_missing = np.mean(data[col].isnull())\n",
    "        if pct_missing > 0: # выведем только те, где больше 0\n",
    "            print('{} - {}%'.format(col, round(pct_missing*100)))\n",
    "    print(\"END\", end = '\\n\\n')\n",
    "    \n",
    "stat_na_per_percent(train)\n",
    "stat_na_per_percent(test)"
   ]
  }
 ],
 "metadata": {
  "kernelspec": {
   "display_name": "Python 3",
   "language": "python",
   "name": "python3"
  },
  "language_info": {
   "codemirror_mode": {
    "name": "ipython",
    "version": 3
   },
   "file_extension": ".py",
   "mimetype": "text/x-python",
   "name": "python",
   "nbconvert_exporter": "python",
   "pygments_lexer": "ipython3",
   "version": "3.8.3"
  }
 },
 "nbformat": 4,
 "nbformat_minor": 4
}
