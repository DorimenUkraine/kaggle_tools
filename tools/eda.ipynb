{
 "cells": [
  {
   "cell_type": "code",
   "execution_count": null,
   "metadata": {},
   "outputs": [],
   "source": [
    "# Проводим dummies-колонки\n",
    "# Функция для отображения фич в записи\n",
    "def find_item(cell):\n",
    "    if item in cell:\n",
    "        return 1\n",
    "    return 0\n",
    "\n",
    "# Создаем набор фич\n",
    "col_list = [0, 1, 2]\n",
    "for col in df_copy[col_list]:\n",
    "    features = set()\n",
    "    for featurelist in df_copy[col]:\n",
    "        features.add(featurelist)\n",
    "\n",
    "        # Cоздаем столбцы с фичами и заполняем 0 или 1\n",
    "        for item in features:\n",
    "            df_copy[item] = df_copy[col].apply(find_item)\n",
    "\n",
    "df_copy = df_copy.drop(col_list, axis=1)"
   ]
  },
  {
   "cell_type": "code",
   "execution_count": 1,
   "metadata": {},
   "outputs": [],
   "source": [
    "# Беглый анализ колонки и удаление, если много пропусков\n",
    "col_for_drop = []\n",
    "\n",
    "def col_info_train(col):\n",
    "\n",
    "    if col.isnull().sum() > 0:\n",
    "        percent_isnull = (col.isnull().sum() / len(col)) * 100\n",
    "        print(col.name)\n",
    "        print('Количество пропусков: {}'.format(col.isnull().sum()))\n",
    "        print('% пропусков: {}'.format(percent_isnull))\n",
    "        print('---')       \n",
    "        \n",
    "    \n",
    "        # Удалю признак, в котором есть пропусков больше 10%\n",
    "        if percent_isnull > 10:\n",
    "            col_for_drop.append(col.name)\n",
    "            train.drop([col.name], axis='columns', inplace=True)\n",
    "        \n",
    "\n",
    "for col in train:\n",
    "    col_info_train(train[col]) "
   ]
  },
  {
   "cell_type": "code",
   "execution_count": null,
   "metadata": {},
   "outputs": [],
   "source": [
    "# Просмотр гистограммы для признака\n",
    "sns.countplot(train['TARGET'])\n",
    "plt.title('Histogram for default')"
   ]
  },
  {
   "cell_type": "code",
   "execution_count": null,
   "metadata": {},
   "outputs": [],
   "source": [
    "# Еще один беглый просмотр данных в признаке\n",
    "def col_info(col, bins):\n",
    "    print('Количество пропусков: {}'.format(col.isnull().sum()))\n",
    "    print('{},'.format(col.describe()))\n",
    "    print('Распределение:\\n{},'.format(col.value_counts()))\n",
    "    col.hist(bins=bins)"
   ]
  },
  {
   "cell_type": "code",
   "execution_count": null,
   "metadata": {},
   "outputs": [],
   "source": [
    "# Еще один вариант дамми-преобразования\n",
    "dummies_train = pd.get_dummies(new_train['PACK'], prefix = new_train['PACK'].name)\n",
    "\n",
    "# Удаляем исходный столбец и добавляем dummies\n",
    "new_train = new_train.drop(new_train['PACK'].name, axis=1).join(dummies_train)"
   ]
  },
  {
   "cell_type": "code",
   "execution_count": null,
   "metadata": {},
   "outputs": [],
   "source": [
    "# Визуализация признаков\n",
    "def viz_na(data):\n",
    "    \"\"\"NA visualisation\"\"\"\n",
    "    global cols\n",
    "    cols = data.columns # запишем названия строки сделаем переменную глобальной\n",
    "    # определяем цвета \n",
    "    # желтый - пропущенные данные, синий - не пропущенные\n",
    "    colours = ['#000099', '#ffff00'] \n",
    "    sns.heatmap(data[cols].isnull(), cmap=sns.color_palette(colours))\n",
    "    plt.show()\n",
    "\n",
    "\n",
    "viz_na(train)\n",
    "viz_na(test)"
   ]
  },
  {
   "cell_type": "code",
   "execution_count": null,
   "metadata": {},
   "outputs": [],
   "source": [
    "def stat_na_per_percent(data):\n",
    "    print(f'{data.shape}')\n",
    "    for col in data.columns:\n",
    "        pct_missing = np.mean(data[col].isnull())\n",
    "        print('{} - {}%'.format(col, round(pct_missing*100)))\n",
    "    print(\"END\", end = '\\n\\n')\n",
    "stat_na_per_percent(train)\n",
    "stat_na_per_percent(test)"
   ]
  }
 ],
 "metadata": {
  "kernelspec": {
   "display_name": "Python 3",
   "language": "python",
   "name": "python3"
  },
  "language_info": {
   "codemirror_mode": {
    "name": "ipython",
    "version": 3
   },
   "file_extension": ".py",
   "mimetype": "text/x-python",
   "name": "python",
   "nbconvert_exporter": "python",
   "pygments_lexer": "ipython3",
   "version": "3.8.3"
  }
 },
 "nbformat": 4,
 "nbformat_minor": 4
}
