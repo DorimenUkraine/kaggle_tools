{
 "cells": [
  {
   "cell_type": "code",
   "execution_count": null,
   "metadata": {},
   "outputs": [],
   "source": [
    "# Сразу набор команд для создания фичей из timestamp\n",
    "test['reviewTime_new'] = pd.to_datetime(test.unixReviewTime, unit='s')\n",
    "train['review_year'] = pd.DatetimeIndex(train['review_time']).year\n",
    "train['review_month'] = pd.DatetimeIndex(train['review_time']).month\n",
    "train['review_day'] = pd.DatetimeIndex(train['review_time']).day\n",
    "train['review_dayofweek'] = pd.DatetimeIndex(train['review_time']).dayofweek.astype(object)"
   ]
  },
  {
   "cell_type": "code",
   "execution_count": null,
   "metadata": {},
   "outputs": [],
   "source": [
    "# Изменить порядок колонок\n",
    "cols = ['review_dayofweek']  + [col for col in train if col != 'review_dayofweek']"
   ]
  },
  {
   "cell_type": "code",
   "execution_count": null,
   "metadata": {},
   "outputs": [],
   "source": [
    "# Этот код выбирает числовые признаки, вычисляет их логарифмы, выбирает два категориальных признака,\n",
    "# применяет к ним one-hot кодирование и объединяет оба множества в одно, а таже суммирует значения признаков между собой.\n",
    "\n",
    "import itertools\n",
    "\n",
    "def itr_combinations_new_features(data):\n",
    "    \n",
    "    tmp_df = data.copy()\n",
    "    \n",
    "    old_columns = [item for item in tmp_df.columns.tolist() if item != 'rating' and item != 'review_dayofweek' and item != 'userid']\n",
    "    \n",
    "    tmp_df_sum_2 = [(pd.Series(tmp_df.loc[:,list(i)].sum(axis=1),\\\n",
    "            name='_sum2_'.join(tmp_df.loc[:,list(i)].columns))) for i in list(itertools.combinations(old_columns,2))]\n",
    "    \n",
    "    tmp_df_sum_3 = [(pd.Series(tmp_df.loc[:,list(i)].sum(axis=1),\\\n",
    "            name='_sum3_'.join(tmp_df.loc[:,list(i)].columns))) for i in list(itertools.combinations(old_columns,3))]\n",
    "    \n",
    "    tmp_df_multiplication = [(pd.Series(tmp_df.loc[:,i[0]]*tmp_df.loc[:,i[1]],\\\n",
    "            name='_mult_'.join(tmp_df.loc[:,list(i)].columns))) for i in list(itertools.combinations(old_columns,2))]\n",
    "    \n",
    "   \n",
    "    df_sum_2 = pd.DataFrame(tmp_df_sum_2).T  \n",
    "    \n",
    "    df_sum_3 = pd.DataFrame(tmp_df_sum_3).T  \n",
    "    \n",
    "    df_multiplication = pd.DataFrame(tmp_df_multiplication).T  \n",
    "   \n",
    "    data = pd.concat([data, df_sum_2, df_sum_3, df_multiplication], axis=1, sort=False)         \n",
    " \n",
    "    \n",
    "    return data\n",
    "\n",
    "\n",
    "train_full = itr_combinations_new_features(train_full)"
   ]
  },
  {
   "cell_type": "code",
   "execution_count": null,
   "metadata": {},
   "outputs": [],
   "source": [
    "# Сразу сделаю функцию для проверки и работе с выбросами\n",
    "def outliers_iqr_short(ys):\n",
    "    # Определяет номера значений с отклонением больше, чем iqr\n",
    "    quartile_1, quartile_3 = np.percentile(ys, [25, 75])\n",
    "    iqr = quartile_3 - quartile_1\n",
    "    lower_bound = quartile_1 - 1.5*iqr\n",
    "    upper_bound = quartile_3 + 1.5*iqr\n",
    "    return np.where((ys > upper_bound) | (ys < lower_bound))[0]\n",
    "\n",
    "def outliers_iqr_long(ys): # Передаем на вход признак-столбец датафрейма\n",
    "    # Находим необходимые параметры\n",
    "    median = ys.median()\n",
    "    quartile_1, quartile_3 = np.percentile(ys, [25, 75])\n",
    "    iqr = quartile_3 - quartile_1\n",
    "    lower_bound = quartile_1 - (iqr * 1.5)\n",
    "    upper_bound = quartile_3 + (iqr * 1.5)\n",
    "    print('Медиана: {},'.format(median),'25-й перцентиль: {},'.format(quartile_1), '75-й перцентиль: {},'.format(quartile_3)\n",
    "      , \"IQR: {}, \".format(iqr),\"Границы выбросов: [{}, {}].\".format(lower_bound,upper_bound))\n",
    "    # Отбрасываем значения, лежещие за пределами границ, рисуем график\n",
    "#     ys.loc[ys.between(lower_bound, upper_bound)].hist(bins = int(upper_bound-lower_bound), range = (lower_bound, upper_bound), label = 'IQR')\n",
    "#     plt.legend();\n",
    "    # На выход отдаем отфильтрованные значения\n",
    "    \n",
    "    first_rec = ys.mask((ys > upper_bound) | (ys < lower_bound))\n",
    "    second_rec = np.where((ys > upper_bound) | (ys < lower_bound))[0]\n",
    "    \n",
    "    return first_rec\n"
   ]
  },
  {
   "cell_type": "code",
   "execution_count": 1,
   "metadata": {},
   "outputs": [],
   "source": [
    "# Функция очистки от выбросов\n",
    "def delete_outliers_iqr(df, column):\n",
    "    # Считаем первый и третий квартили\n",
    "    first_quartile = df[column].describe()['25%']\n",
    "    third_quartile = df[column].describe()['75%']\n",
    "\n",
    "    # IQR (Межквартильный размах)\n",
    "    iqr = third_quartile - first_quartile\n",
    "\n",
    "    print(first_quartile, third_quartile, iqr)\n",
    "\n",
    "    # Удаляем то, что выпадает за границы IQR\n",
    "    #     df_tmp = df.copy()\n",
    "    df = df[(df[column] > (first_quartile - 3 * iqr)) &\n",
    "                (df[column] < (third_quartile + 3 * iqr))]\n",
    "\n",
    "    df[column].hist()\n",
    "    df[column].describe()\n",
    "\n",
    "    df = df.loc[df[column].between(first_quartile - 1.5*iqr, third_quartile + 1.5*iqr)]\n",
    "    df.info()"
   ]
  },
  {
   "cell_type": "code",
   "execution_count": null,
   "metadata": {},
   "outputs": [],
   "source": [
    "# Функция для создания нового признака на базе группировки\n",
    "def cat_age(x):\n",
    "    if x == 1 : x = 1 # типа, если автомобилю 1 год, то добавим его в категорию 1\n",
    "    elif 2 <= x < 4: x = 2 # типа, если автомобилю от 2 до 3 лет включительно, то добавим его в категорию 2 и тд.\n",
    "    elif 4 <= x < 6: x = 3\n",
    "    elif 6 <= x < 10: x = 4\n",
    "    elif 10 <= x < 16: x = 5\n",
    "    elif 16 <= x < 20: x = 6\n",
    "    elif 20 <= x: x = 7\n",
    "    return x \n",
    "\n",
    "\n",
    "test['car_age'] = test['car_age'].apply(lambda x: cat_age(x))\n",
    "\n",
    "test['car_age'] = test['car_age'].astype('str')"
   ]
  },
  {
   "cell_type": "code",
   "execution_count": null,
   "metadata": {},
   "outputs": [],
   "source": [
    "# Замена категориальных/бинарных на числовые\n",
    "test['custom_clear'] = test['custom_clear'].apply(lambda x: \"1\" if x == \"Растаможен\" else \"0\").astype(int)"
   ]
  },
  {
   "cell_type": "code",
   "execution_count": null,
   "metadata": {},
   "outputs": [],
   "source": [
    "# Новый датафрейм с разбитыми данными из нужно мне колонки - сделаю так, чтобы это было решением не частным, а для всех случаев\n",
    "body_type_tmp = test['body_type'].str.split(\" \", n = 1, expand = True) "
   ]
  },
  {
   "cell_type": "code",
   "execution_count": null,
   "metadata": {},
   "outputs": [],
   "source": [
    "# Замена по словарю\n",
    "# словарь для кодировки\n",
    "dic_body_type = {\n",
    "    'внедорожник': 'allroad',\n",
    "    'кабриолет': 'cabriolet',\n",
    "    'компактвэн': 'compact_van',\n",
    "    'купе': 'coupe',\n",
    "    'лифтбек': 'liftback',\n",
    "    'родстер': 'roadster',\n",
    "    'седан': 'sedan',\n",
    "    'универсал': 'station_wagon',\n",
    "    'хэтчбек': 'hatchback'\n",
    "}\n",
    "\n",
    "test['body_type'] = test['body_type'].map(dic_body_type)"
   ]
  },
  {
   "cell_type": "code",
   "execution_count": null,
   "metadata": {},
   "outputs": [],
   "source": [
    "# конъюнкция двух признаков\n",
    "def make_conj(data, feature1, feature2):\n",
    "    data['tmp_1'] = np.where(~data[feature2].str.contains('xDrive|Competition|sDrive|Package'),\n",
    "                                 '', data[feature2])\n",
    "    \n",
    "    data['tmp_0'] = data[feature1]\n",
    "    \n",
    "    data['tmp'] = data['tmp_0'] + ' ' + data['tmp_1']\n",
    "                    \n",
    "    return (data)\n",
    "\n",
    "# выполним корректировку названия\n",
    "make_conj(name_tmp, 0, 1)"
   ]
  },
  {
   "cell_type": "code",
   "execution_count": null,
   "metadata": {},
   "outputs": [],
   "source": [
    "# Напишем функцию, которая сделает полный список всех возможных фич в тестовой выборке.\n",
    "def get_test_features(equipment):\n",
    "    # Создаем пустой список, в который будут добавляться все фичи\n",
    "    all_features = []\n",
    "    for data in equipment:\n",
    "        # Находим все слова между кавычками\n",
    "        features=re.findall(r'\\\"(.+?)\\\"',data)\n",
    "        # Добавляем в общий список\n",
    "        all_features.extend(features)\n",
    "    # Удаляем дубликаты\n",
    "    all_features = list(dict.fromkeys(all_features))\n",
    "    return all_features\n",
    "\n",
    "test_features = get_test_features(test.equipment)\n",
    "\n",
    "# Удаляем лишние записи\n",
    "for bad_feature in ['name','Безопасность','values','Комфорт','Мультимедиа','Обзор','Салон','Защита от угона','Элементы экстерьера']:\n",
    "    test_features.remove(bad_feature)    \n",
    "print('Всего уникальных фич:', len(test_features))\n",
    "print(test_features)\n",
    "\n",
    "def get_features_test(equipment): \n",
    "    features=re.findall(r'\\\"(.+?)\\\"',equipment)  \n",
    "    return features"
   ]
  },
  {
   "cell_type": "code",
   "execution_count": null,
   "metadata": {},
   "outputs": [],
   "source": [
    "# Сделаем отбор фич с коэффициентом корреляции > 0.3\n",
    "cor_target = abs(train_equipment.corr()[\"price\"])\n",
    "relevant_features = cor_target[cor_target>0.3] # Выбираем фичи с значением модуля коэффициента корреляции > 0.3\n",
    "relevant_features"
   ]
  },
  {
   "cell_type": "code",
   "execution_count": null,
   "metadata": {},
   "outputs": [],
   "source": [
    "#plot graph of feature importances for better visualization\n",
    "\n",
    "plt.figure(figsize = (12,8))\n",
    "feat_importances = pd.Series(etc.feature_importances_, index=X.columns)\n",
    "feat_importances.nlargest(20).plot(kind='barh')\n",
    "plt.show()"
   ]
  },
  {
   "cell_type": "code",
   "execution_count": null,
   "metadata": {},
   "outputs": [],
   "source": [
    "# Посмотрим вообще от каких признаков колеблется цена. Может там что-то интересного найду.\n",
    "for c in new_train.columns[:-1]:\n",
    "    plt.figure(figsize=(20,5))\n",
    "    plt.title(\"{} vs. \\nprice\".format(c),fontsize=16)\n",
    "    plt.scatter(x=new_train[c],y=new_train['price'],color='blue',edgecolor='k')\n",
    "    plt.grid(True)\n",
    "    plt.xlabel(c,fontsize=14)\n",
    "    plt.ylabel('Стоимость', fontsize=14)\n",
    "\n",
    "    plt.show()"
   ]
  },
  {
   "cell_type": "code",
   "execution_count": null,
   "metadata": {},
   "outputs": [],
   "source": [
    "new_train_corr = new_train.corr()\n",
    "new_train_corr\n",
    "\n",
    "# new_train_corr.style.background_gradient(cmap='coolwarm')\n",
    "new_train_corr.style.background_gradient(cmap='coolwarm').set_precision(2)\n",
    "\n",
    "# Create correlation matrix\n",
    "corr_matrix = new_train.corr().abs()\n",
    "\n",
    "# Select upper triangle of correlation matrix\n",
    "upper = corr_matrix.where(np.triu(np.ones(corr_matrix.shape), k=1).astype(np.bool))\n",
    "\n",
    "# Find features with correlation greater than 0.95\n",
    "to_drop = [column for column in upper.columns if any(upper[column] > 0.95)]\n",
    "\n",
    "print(to_drop)\n",
    "\n",
    "# Drop features \n",
    "# new_big_df.drop(to_drop, axis=1, inplace=True)"
   ]
  },
  {
   "cell_type": "code",
   "execution_count": null,
   "metadata": {},
   "outputs": [],
   "source": [
    "Q1 =  new_train['price'].quantile(0.25)\n",
    "Q3 = new_train['price'].quantile(0.75)\n",
    "IQR = Q3 - Q1\n",
    "\n",
    "new_train.query(\"@Q1 - 1.5*@IQR < price < @Q3 + 1.5*@IQR\").boxplot(column=\"price\")"
   ]
  },
  {
   "cell_type": "code",
   "execution_count": null,
   "metadata": {},
   "outputs": [],
   "source": [
    "# Проверим на выбросы цены\n",
    "fig = plt.figure(figsize=(7, 7))\n",
    "plt.grid(True)\n",
    "plt.title('Price')\n",
    "sns.boxplot(x = new_train['price'])"
   ]
  },
  {
   "cell_type": "code",
   "execution_count": null,
   "metadata": {},
   "outputs": [],
   "source": [
    "# Тепловая карта\n",
    "sns.set(font_scale=1)\n",
    "plt.subplots(figsize=(10, 10))\n",
    "sns.heatmap(fuel_type_corr, square=True, \n",
    "           annot=True, fmt=\".1f\", linewidths=0.1, cmap=\"RdBu\")"
   ]
  },
  {
   "cell_type": "code",
   "execution_count": null,
   "metadata": {},
   "outputs": [],
   "source": [
    "# Формирование dummy- столбцов для топлива\n",
    "new_train_extend = pd.concat([new_train, \n",
    "                              pd.get_dummies(new_train['fuel_type'])], \n",
    "                             axis=1)"
   ]
  }
 ],
 "metadata": {
  "kernelspec": {
   "display_name": "Python 3",
   "language": "python",
   "name": "python3"
  },
  "language_info": {
   "codemirror_mode": {
    "name": "ipython",
    "version": 3
   },
   "file_extension": ".py",
   "mimetype": "text/x-python",
   "name": "python",
   "nbconvert_exporter": "python",
   "pygments_lexer": "ipython3",
   "version": "3.8.3"
  }
 },
 "nbformat": 4,
 "nbformat_minor": 4
}
