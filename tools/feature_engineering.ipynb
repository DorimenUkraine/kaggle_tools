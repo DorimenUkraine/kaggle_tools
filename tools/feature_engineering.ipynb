{
 "cells": [
  {
   "cell_type": "markdown",
   "metadata": {},
   "source": [
    "## Работа с датой"
   ]
  },
  {
   "cell_type": "code",
   "execution_count": null,
   "metadata": {},
   "outputs": [],
   "source": [
    "# Сразу набор команд для создания фичей из timestamp\n",
    "test['reviewTime_new'] = pd.to_datetime(test.unixReviewTime, unit='s')\n",
    "train['review_year'] = pd.DatetimeIndex(train['review_time']).year\n",
    "train['review_month'] = pd.DatetimeIndex(train['review_time']).month\n",
    "train['review_day'] = pd.DatetimeIndex(train['review_time']).day\n",
    "train['review_dayofweek'] = pd.DatetimeIndex(train['review_time']).dayofweek.astype(object)"
   ]
  },
  {
   "cell_type": "markdown",
   "metadata": {},
   "source": [
    "## Инструменты для работы с колонками в датасете"
   ]
  },
  {
   "cell_type": "code",
   "execution_count": null,
   "metadata": {},
   "outputs": [],
   "source": [
    "# Изменить порядок колонок\n",
    "cols = ['review_dayofweek']  + [col for col in train if col != 'review_dayofweek']"
   ]
  },
  {
   "cell_type": "markdown",
   "metadata": {},
   "source": [
    "## Создание новых признаков"
   ]
  },
  {
   "cell_type": "code",
   "execution_count": null,
   "metadata": {},
   "outputs": [],
   "source": [
    "# Этот код выбирает числовые признаки, вычисляет их логарифмы, выбирает два категориальных признака,\n",
    "# применяет к ним one-hot кодирование и объединяет оба множества в одно, а таже суммирует значения признаков между собой.\n",
    "\n",
    "import itertools\n",
    "\n",
    "def itr_combinations_new_features(data):\n",
    "    \n",
    "    tmp_df = data.copy()\n",
    "    \n",
    "    old_columns = [item for item in tmp_df.columns.tolist() if item != 'rating' and item != 'review_dayofweek' and item != 'userid']\n",
    "    \n",
    "    tmp_df_sum_2 = [(pd.Series(tmp_df.loc[:,list(i)].sum(axis=1),\\\n",
    "            name='_sum2_'.join(tmp_df.loc[:,list(i)].columns))) for i in list(itertools.combinations(old_columns,2))]\n",
    "    \n",
    "    tmp_df_sum_3 = [(pd.Series(tmp_df.loc[:,list(i)].sum(axis=1),\\\n",
    "            name='_sum3_'.join(tmp_df.loc[:,list(i)].columns))) for i in list(itertools.combinations(old_columns,3))]\n",
    "    \n",
    "    tmp_df_multiplication = [(pd.Series(tmp_df.loc[:,i[0]]*tmp_df.loc[:,i[1]],\\\n",
    "            name='_mult_'.join(tmp_df.loc[:,list(i)].columns))) for i in list(itertools.combinations(old_columns,2))]\n",
    "    \n",
    "   \n",
    "    df_sum_2 = pd.DataFrame(tmp_df_sum_2).T  \n",
    "    \n",
    "    df_sum_3 = pd.DataFrame(tmp_df_sum_3).T  \n",
    "    \n",
    "    df_multiplication = pd.DataFrame(tmp_df_multiplication).T  \n",
    "   \n",
    "    data = pd.concat([data, df_sum_2, df_sum_3, df_multiplication], axis=1, sort=False)         \n",
    " \n",
    "    \n",
    "    return data\n",
    "\n",
    "\n",
    "train_full = itr_combinations_new_features(train_full)"
   ]
  },
  {
   "cell_type": "code",
   "execution_count": null,
   "metadata": {},
   "outputs": [],
   "source": [
    "# Функция для создания нового признака на базе группировки\n",
    "def cat_age(x):\n",
    "    if x == 1 : x = 1 # типа, если автомобилю 1 год, то добавим его в категорию 1\n",
    "    elif 2 <= x < 4: x = 2 # типа, если автомобилю от 2 до 3 лет включительно, то добавим его в категорию 2 и тд.\n",
    "    elif 4 <= x < 6: x = 3\n",
    "    elif 6 <= x < 10: x = 4\n",
    "    elif 10 <= x < 16: x = 5\n",
    "    elif 16 <= x < 20: x = 6\n",
    "    elif 20 <= x: x = 7\n",
    "    return x \n",
    "\n",
    "\n",
    "test['car_age'] = test['car_age'].apply(lambda x: cat_age(x))\n",
    "\n",
    "test['car_age'] = test['car_age'].astype('str')"
   ]
  },
  {
   "cell_type": "code",
   "execution_count": null,
   "metadata": {},
   "outputs": [],
   "source": [
    "# Замена категориальных/бинарных на числовые\n",
    "test['custom_clear'] = test['custom_clear'].apply(lambda x: \"1\" if x == \"Растаможен\" else \"0\").astype(int)"
   ]
  },
  {
   "cell_type": "code",
   "execution_count": null,
   "metadata": {},
   "outputs": [],
   "source": [
    "# Замена по словарю\n",
    "# словарь для кодировки\n",
    "dic_body_type = {\n",
    "    'внедорожник': 'allroad',\n",
    "    'кабриолет': 'cabriolet',\n",
    "    'компактвэн': 'compact_van',\n",
    "    'купе': 'coupe',\n",
    "    'лифтбек': 'liftback',\n",
    "    'родстер': 'roadster',\n",
    "    'седан': 'sedan',\n",
    "    'универсал': 'station_wagon',\n",
    "    'хэтчбек': 'hatchback'\n",
    "}\n",
    "\n",
    "test['body_type'] = test['body_type'].map(dic_body_type)"
   ]
  },
  {
   "cell_type": "code",
   "execution_count": null,
   "metadata": {},
   "outputs": [],
   "source": [
    "# конъюнкция двух признаков\n",
    "def make_conj(data, feature1, feature2):\n",
    "    data['tmp_1'] = np.where(~data[feature2].str.contains('xDrive|Competition|sDrive|Package'),\n",
    "                                 '', data[feature2])\n",
    "    \n",
    "    data['tmp_0'] = data[feature1]\n",
    "    \n",
    "    data['tmp'] = data['tmp_0'] + ' ' + data['tmp_1']\n",
    "                    \n",
    "    return (data)\n",
    "\n",
    "# выполним корректировку названия\n",
    "make_conj(name_tmp, 0, 1)"
   ]
  },
  {
   "cell_type": "code",
   "execution_count": null,
   "metadata": {},
   "outputs": [],
   "source": [
    "# Напишем функцию, которая сделает полный список всех возможных фич в тестовой выборке.\n",
    "def get_test_features(equipment):\n",
    "    # Создаем пустой список, в который будут добавляться все фичи\n",
    "    all_features = []\n",
    "    for data in equipment:\n",
    "        # Находим все слова между кавычками\n",
    "        features=re.findall(r'\\\"(.+?)\\\"',data)\n",
    "        # Добавляем в общий список\n",
    "        all_features.extend(features)\n",
    "    # Удаляем дубликаты\n",
    "    all_features = list(dict.fromkeys(all_features))\n",
    "    return all_features\n",
    "\n",
    "test_features = get_test_features(test.equipment)\n",
    "\n",
    "# Удаляем лишние записи\n",
    "for bad_feature in ['name','Безопасность','values','Комфорт','Мультимедиа','Обзор','Салон','Защита от угона','Элементы экстерьера']:\n",
    "    test_features.remove(bad_feature)    \n",
    "print('Всего уникальных фич:', len(test_features))\n",
    "print(test_features)\n",
    "\n",
    "def get_features_test(equipment): \n",
    "    features=re.findall(r'\\\"(.+?)\\\"',equipment)  \n",
    "    return features"
   ]
  },
  {
   "cell_type": "code",
   "execution_count": null,
   "metadata": {},
   "outputs": [],
   "source": [
    "# Сделаем отбор фич с коэффициентом корреляции > 0.3\n",
    "cor_target = abs(train_equipment.corr()[\"price\"])\n",
    "relevant_features = cor_target[cor_target>0.3] # Выбираем фичи с значением модуля коэффициента корреляции > 0.3\n",
    "relevant_features"
   ]
  },
  {
   "cell_type": "code",
   "execution_count": null,
   "metadata": {},
   "outputs": [],
   "source": [
    "#plot graph of feature importances for better visualization\n",
    "\n",
    "plt.figure(figsize = (12,8))\n",
    "feat_importances = pd.Series(etc.feature_importances_, index=X.columns)\n",
    "feat_importances.nlargest(20).plot(kind='barh')\n",
    "plt.show()"
   ]
  },
  {
   "cell_type": "code",
   "execution_count": null,
   "metadata": {},
   "outputs": [],
   "source": [
    "# Посмотрим вообще от каких признаков колеблется цена. Может там что-то интересного найду.\n",
    "for c in new_train.columns[:-1]:\n",
    "    plt.figure(figsize=(20,5))\n",
    "    plt.title(\"{} vs. \\nprice\".format(c),fontsize=16)\n",
    "    plt.scatter(x=new_train[c],y=new_train['price'],color='blue',edgecolor='k')\n",
    "    plt.grid(True)\n",
    "    plt.xlabel(c,fontsize=14)\n",
    "    plt.ylabel('Стоимость', fontsize=14)\n",
    "\n",
    "    plt.show()"
   ]
  },
  {
   "cell_type": "code",
   "execution_count": null,
   "metadata": {},
   "outputs": [],
   "source": [
    "new_train_corr = new_train.corr()\n",
    "new_train_corr\n",
    "\n",
    "# new_train_corr.style.background_gradient(cmap='coolwarm')\n",
    "new_train_corr.style.background_gradient(cmap='coolwarm').set_precision(2)\n",
    "\n",
    "# Create correlation matrix\n",
    "corr_matrix = new_train.corr().abs()\n",
    "\n",
    "# Select upper triangle of correlation matrix\n",
    "upper = corr_matrix.where(np.triu(np.ones(corr_matrix.shape), k=1).astype(np.bool))\n",
    "\n",
    "# Find features with correlation greater than 0.95\n",
    "to_drop = [column for column in upper.columns if any(upper[column] > 0.95)]\n",
    "\n",
    "print(to_drop)\n",
    "\n",
    "# Drop features \n",
    "# new_big_df.drop(to_drop, axis=1, inplace=True)"
   ]
  },
  {
   "cell_type": "code",
   "execution_count": null,
   "metadata": {},
   "outputs": [],
   "source": [
    "# Формирование dummy-столбцов\n",
    "new_train_extend = pd.concat([new_train, \n",
    "                              pd.get_dummies(new_train['fuel_type'])], \n",
    "                             axis=1)"
   ]
  },
  {
   "cell_type": "code",
   "execution_count": null,
   "metadata": {},
   "outputs": [],
   "source": [
    "# Сделаем dummies-преобразование на базе всех признаков из колонки\n",
    "\n",
    "from tqdm import tqdm_notebook # для отображения динамики прогресса\n",
    "\n",
    "def dummies_from_features_list(data, col, count, new_data):\n",
    "    # Создаем пустой список, в который будут добавляться все доступные фичи во всей колонке\n",
    "    all_features = []\n",
    "    for item in data[col][:count]:\n",
    "        # Находим все признаки для строки через разбивку\n",
    "        features=item.split(',')\n",
    "        # Добавляем в общий список\n",
    "        all_features.extend(features)\n",
    "    # Удаляем дубликаты\n",
    "    all_features = list(dict.fromkeys(all_features))\n",
    "    print(all_features)\n",
    "    print(len(all_features))\n",
    "    \n",
    "    # А теперь сделаем dummies-преобразование\n",
    "    for feature in tqdm_notebook(all_features):\n",
    "        new_data[feature] = np.where(data[col].str.contains(feature), 1 ,0).astype(int) # более быстрый способ, чем через apply; если строка содержит название колонки, тогда в колонке поставим 1, иначе 0\n",
    "#         new_data[feature] = data[col][:count].apply(lambda x: 1 if feature in x else 0).astype(int) # если строка содержит название колонки, тогда в колонке поставим 1, иначе 0\n",
    "    "
   ]
  },
  {
   "cell_type": "code",
   "execution_count": null,
   "metadata": {},
   "outputs": [],
   "source": [
    "# Еще один вариант дамми-преобразования\n",
    "dummies_train = pd.get_dummies(new_train['PACK'], prefix = new_train['PACK'].name)\n",
    "\n",
    "# Удаляем исходный столбец и добавляем dummies\n",
    "new_train = new_train.drop(new_train['PACK'].name, axis=1).join(dummies_train)"
   ]
  },
  {
   "cell_type": "code",
   "execution_count": null,
   "metadata": {},
   "outputs": [],
   "source": [
    "# Проводим dummies-колонки\n",
    "# Функция для отображения фич в записи\n",
    "def find_item(cell):\n",
    "    if item in cell:\n",
    "        return 1\n",
    "    return 0\n",
    "\n",
    "# Создаем набор фич\n",
    "col_list = [0, 1, 2]\n",
    "for col in df_copy[col_list]:\n",
    "    features = set()\n",
    "    for featurelist in df_copy[col]:\n",
    "        features.add(featurelist)\n",
    "\n",
    "        # Cоздаем столбцы с фичами и заполняем 0 или 1\n",
    "        for item in features:\n",
    "            df_copy[item] = df_copy[col].apply(find_item)\n",
    "\n",
    "df_copy = df_copy.drop(col_list, axis=1)"
   ]
  },
  {
   "cell_type": "code",
   "execution_count": null,
   "metadata": {},
   "outputs": [],
   "source": [
    "# Сделаем dummies-преобразование на базе лучших признаков из списка\n",
    "\n",
    "from tqdm import tqdm_notebook # для отображения динамики прогресса\n",
    "\n",
    "def counter(data, col):\n",
    "    #сольем все строчки, то есть все жанры в одну строку\n",
    "    data_plot=data[col].str.cat(sep=',')\n",
    "    #В пандасовский ряд соединим теперь все жанры\n",
    "    dat=pd.Series(data_plot.split(','))\n",
    "    #Посчитаем сколько жанров получается уникальных\n",
    "    info=dat.value_counts(ascending=False)\n",
    "    return info\n",
    "\n",
    "sum_actors = counter(movies_database,'actors')\n",
    "\n",
    "from collections import OrderedDict, defaultdict\n",
    "    \n",
    "def best_list(l):\n",
    "    dict_from_list = l.to_dict()\n",
    "    type(dict_from_list)\n",
    "\n",
    "    best_list = []\n",
    "\n",
    "    for key, value in dict_from_list.items():\n",
    "        if value > 5:\n",
    "            best_list.append(key)\n",
    "            \n",
    "    print(len(best_list))\n",
    "\n",
    "    return best_list\n",
    "\n",
    "\n",
    "best_actors = best_list(sum_actors)\n",
    "\n",
    "def dummies_from_best_list(data, col, new_data, best_list):\n",
    "   \n",
    "    # Сделаем dummies-преобразование на базе лучших признаков из списка\n",
    "    for feature in tqdm_notebook(best_list):\n",
    "        new_data[feature] = np.where(data[col].str.contains(feature), 1 ,0).astype(int) # более быстрый способ, чем через apply; если строка содержит название колонки, тогда в колонке поставим 1, иначе 0    \n"
   ]
  },
  {
   "cell_type": "markdown",
   "metadata": {},
   "source": [
    "## Split"
   ]
  },
  {
   "cell_type": "code",
   "execution_count": null,
   "metadata": {},
   "outputs": [],
   "source": [
    "# Новый датафрейм с разбитыми данными из нужных мне колонки - сделаю так, чтобы это было решением не частным, а для всех случаев\n",
    "body_type_tmp = test['body_type'].str.split(\" \", n = 1, expand = True) "
   ]
  },
  {
   "cell_type": "markdown",
   "metadata": {},
   "source": [
    "## Выбросы"
   ]
  },
  {
   "cell_type": "code",
   "execution_count": null,
   "metadata": {},
   "outputs": [],
   "source": [
    "# Сразу сделаю функцию для проверки и работе с выбросами\n",
    "def outliers_iqr_short(ys):\n",
    "    # Определяет номера значений с отклонением больше, чем iqr\n",
    "    quartile_1, quartile_3 = np.percentile(ys, [25, 75])\n",
    "    iqr = quartile_3 - quartile_1\n",
    "    lower_bound = quartile_1 - 1.5*iqr\n",
    "    upper_bound = quartile_3 + 1.5*iqr\n",
    "    return np.where((ys > upper_bound) | (ys < lower_bound))[0]\n",
    "\n",
    "def outliers_iqr_long(ys): # Передаем на вход признак-столбец датафрейма\n",
    "    # Находим необходимые параметры\n",
    "    median = ys.median()\n",
    "    quartile_1, quartile_3 = np.percentile(ys, [25, 75])\n",
    "    iqr = quartile_3 - quartile_1\n",
    "    lower_bound = quartile_1 - (iqr * 1.5)\n",
    "    upper_bound = quartile_3 + (iqr * 1.5)\n",
    "    print('Медиана: {},'.format(median),'25-й перцентиль: {},'.format(quartile_1), '75-й перцентиль: {},'.format(quartile_3)\n",
    "      , \"IQR: {}, \".format(iqr),\"Границы выбросов: [{}, {}].\".format(lower_bound,upper_bound))\n",
    "    # Отбрасываем значения, лежещие за пределами границ, рисуем график\n",
    "#     ys.loc[ys.between(lower_bound, upper_bound)].hist(bins = int(upper_bound-lower_bound), range = (lower_bound, upper_bound), label = 'IQR')\n",
    "#     plt.legend();\n",
    "    # На выход отдаем отфильтрованные значения\n",
    "    \n",
    "    first_rec = ys.mask((ys > upper_bound) | (ys < lower_bound))\n",
    "    second_rec = np.where((ys > upper_bound) | (ys < lower_bound))[0]\n",
    "    \n",
    "    return first_rec\n"
   ]
  },
  {
   "cell_type": "code",
   "execution_count": 1,
   "metadata": {},
   "outputs": [],
   "source": [
    "# Функция очистки от выбросов\n",
    "def delete_outliers_iqr(df, column):\n",
    "    # Считаем первый и третий квартили\n",
    "    first_quartile = df[column].describe()['25%']\n",
    "    third_quartile = df[column].describe()['75%']\n",
    "\n",
    "    # IQR (Межквартильный размах)\n",
    "    iqr = third_quartile - first_quartile\n",
    "\n",
    "    print(first_quartile, third_quartile, iqr)\n",
    "\n",
    "    # Удаляем то, что выпадает за границы IQR\n",
    "    #     df_tmp = df.copy()\n",
    "    df = df[(df[column] > (first_quartile - 3 * iqr)) &\n",
    "                (df[column] < (third_quartile + 3 * iqr))]\n",
    "\n",
    "    df[column].hist()\n",
    "    df[column].describe()\n",
    "\n",
    "    df = df.loc[df[column].between(first_quartile - 1.5*iqr, third_quartile + 1.5*iqr)]\n",
    "    df.info()"
   ]
  },
  {
   "cell_type": "code",
   "execution_count": null,
   "metadata": {},
   "outputs": [],
   "source": [
    "Q1 =  new_train['price'].quantile(0.25)\n",
    "Q3 = new_train['price'].quantile(0.75)\n",
    "IQR = Q3 - Q1\n",
    "\n",
    "new_train.query(\"@Q1 - 1.5*@IQR < price < @Q3 + 1.5*@IQR\").boxplot(column=\"price\")"
   ]
  },
  {
   "cell_type": "code",
   "execution_count": null,
   "metadata": {},
   "outputs": [],
   "source": [
    "# Проверим на выбросы цены\n",
    "fig = plt.figure(figsize=(7, 7))\n",
    "plt.grid(True)\n",
    "plt.title('Price')\n",
    "sns.boxplot(x = new_train['price'])"
   ]
  },
  {
   "cell_type": "code",
   "execution_count": null,
   "metadata": {},
   "outputs": [],
   "source": [
    "# Тепловая карта\n",
    "sns.set(font_scale=1)\n",
    "plt.subplots(figsize=(10, 10))\n",
    "sns.heatmap(fuel_type_corr, square=True, \n",
    "           annot=True, fmt=\".1f\", linewidths=0.1, cmap=\"RdBu\")"
   ]
  },
  {
   "cell_type": "markdown",
   "metadata": {},
   "source": [
    "## Мешок слов"
   ]
  },
  {
   "cell_type": "code",
   "execution_count": null,
   "metadata": {},
   "outputs": [],
   "source": [
    "# Для создания мешка слов можно использовать такую функцию. Взял отсюда: https://www.kaggle.com/kishlaya18/netflix-movie-recommendation/data\n",
    "def bag_of_word(data):\n",
    "\n",
    "    data['bag_of_word'] = ''\n",
    "\n",
    "    for index,row in data.iloc[:10].iterrows():\n",
    "\n",
    "        plot = row['description']\n",
    "        r = Rake()\n",
    "        r.extract_keywords_from_text(plot)\n",
    "        keyword_score = r.get_word_degrees()\n",
    "        g = ' '.join(row['genres'].split(',')).lower()\n",
    "        d = ' '.join(row['director'].split(',')).lower()\n",
    "        a = ' '.join(row['actors'].split(',')).lower()\n",
    "        k = ' '.join(list(keyword_score.keys()))\n",
    "        \n",
    "        data.loc[index, 'bag_of_word'] = g + ' ' + d + ' ' + a + ' ' + k # так для того, чтобы записать обратно в датафрейм\n",
    "\n",
    "        print(row)\n",
    "\n",
    "bag_of_word(full_available_now)\n"
   ]
  },
  {
   "cell_type": "code",
   "execution_count": null,
   "metadata": {},
   "outputs": [],
   "source": [
    "# Более быстрый способ создания мешка слов. Быстрее раз в 100 по сравнению с предыдущим. Где-то прочитал, что через iterrows проходить по датафрейму не выгодно\n",
    "\n",
    "def create_bag_of_word(x):\n",
    "    return ' '.join(x['genres'].split(','))  + ' ' + ' '.join(x['director'].split(',')) + ' ' + ' '.join(x['actors'].split(','))\n",
    "\n",
    "full_available_now['bag_of_word2'] = full_available_now.apply(create_bag_of_word, axis=1)"
   ]
  },
  {
   "cell_type": "code",
   "execution_count": null,
   "metadata": {},
   "outputs": [],
   "source": [
    "# Превращение текстовых значений из датасета в мешок слов\n",
    "\n",
    "# Для начала сгруппирую тексты из всех нужных столбцов в один (для каждой строчки)\n",
    "def join_words(x):\n",
    "    return ' '.join(str(x) for x in x[0:11])\n",
    "\n",
    "df['bag_of_word'] = df.apply(join_words, axis=1)\n",
    "\n",
    "# И дальше на базе этого нового созданного столбца создаю \"мешок слов\"\n",
    "\n",
    "import re\n",
    "\n",
    "def extract_words(sentence):\n",
    "    words = sentence.split(' ')\n",
    "    return words\n",
    "\n",
    "def tokenize_sentences(sentences):\n",
    "    words = []\n",
    "    for sentence in sentences:\n",
    "        w = extract_words(sentence)\n",
    "        words.extend(w)\n",
    "    words = sorted(list(set(words)))\n",
    "    return words\n",
    "\n",
    "def bagofwords(sentence, words):\n",
    "    sentence_words = extract_words(sentence)\n",
    "    # frequency word count\n",
    "    bag = np.zeros(len(words))\n",
    "    for sw in sentence_words:\n",
    "        \n",
    "        for i,word in enumerate(words):\n",
    "            if word == sw: \n",
    "                bag[i] += 1\n",
    "                \n",
    "    return np.array(bag)\n",
    "\n",
    "sentences = df['bag_of_word'].tolist()\n",
    "vocabulary = tokenize_sentences(sentences)\n",
    "\n",
    "data = []\n",
    "\n",
    "for id, item in enumerate(sentences):\n",
    "    data.append(bagofwords(item, vocabulary))\n",
    "    \n",
    "df_bags = pd.DataFrame(data, columns = vocabulary)\n",
    "\n",
    "# Переведу созданные данные в int\n",
    "df_bags = df_bags.astype(int)\n",
    "df_bags\n",
    "\n",
    "# Объединю новый датасет с мешком слов с базовым датасетом и удалю уже ненужные признаки\n",
    "new_df = pd.concat([df, df_bags], axis=1)\n",
    "new_df = new_df.drop(columns=[0, 1, 2, 3, 4, 5, 6, 7, 8, 9, 10, 11, 'bag_of_word'])\n",
    "new_df = new_df.rename(columns={12: 'target'})\n",
    "new_df\n",
    "\n",
    "# Все, теперь можно работать с датасетом как с мешком слов. Тот же Наивный Байес и тд."
   ]
  },
  {
   "attachments": {
    "photo_2020-11-19_15-08-56.jpg": {
     "image/jpeg": "[encoded data removed]"
    }
   },
   "cell_type": "markdown",
   "metadata": {},
   "source": [
    "![photo_2020-11-19_15-08-56.jpg](attachment:photo_2020-11-19_15-08-56.jpg)"
   ]
  },
  {
   "cell_type": "code",
   "execution_count": 1,
   "metadata": {
    "scrolled": true
   },
   "outputs": [
    {
     "name": "stdout",
     "output_type": "stream",
     "text": [
      "  (0, 989160)\t-0.4472135954999579\n",
      "  (0, 3497392)\t-0.4472135954999579\n",
      "  (0, 4364366)\t0.4472135954999579\n",
      "  (0, 8533357)\t0.4472135954999579\n",
      "  (0, 8675486)\t-0.4472135954999579\n",
      "  (1, 544379)\t0.35355339059327373\n",
      "  (1, 3497392)\t-0.7071067811865475\n",
      "  (1, 4364366)\t0.35355339059327373\n",
      "  (1, 8533357)\t0.35355339059327373\n",
      "  (1, 8675486)\t-0.35355339059327373\n",
      "  (2, 4364366)\t0.4082482904638631\n",
      "  (2, 5423405)\t-0.4082482904638631\n",
      "  (2, 7239988)\t-0.4082482904638631\n",
      "  (2, 8533357)\t0.4082482904638631\n",
      "  (2, 8675486)\t-0.4082482904638631\n",
      "  (2, 15907589)\t0.4082482904638631\n",
      "  (3, 989160)\t-0.4472135954999579\n",
      "  (3, 3497392)\t-0.4472135954999579\n",
      "  (3, 4364366)\t0.4472135954999579\n",
      "  (3, 8533357)\t0.4472135954999579\n",
      "  (3, 8675486)\t-0.4472135954999579\n"
     ]
    }
   ],
   "source": [
    "# Для больших данных сложно использовать прямое кодирование мешка слов - может не поместиться в RAM.\n",
    "# Для этого используют хешинг. Например,\n",
    "\n",
    "from sklearn.feature_extraction.text import HashingVectorizer\n",
    "corpus = [\n",
    "'This is the first document.',\n",
    "'This document is the second document.',\n",
    "'And this is the third one.',\n",
    "'Is this the first document?',\n",
    "]\n",
    "vectorizer = HashingVectorizer(n_features=2**24)\n",
    "X = vectorizer.fit_transform(corpus)\n",
    "print(X)\n"
   ]
  },
  {
   "cell_type": "markdown",
   "metadata": {},
   "source": [
    "## Если нужно поработать со странами в фичах"
   ]
  },
  {
   "cell_type": "code",
   "execution_count": null,
   "metadata": {},
   "outputs": [],
   "source": [
    "# Импорт библиотеки стран\n",
    "import pycountry\n",
    "import re\n",
    "\n",
    "# Список стран\n",
    "countries = [country.name.lower() for country in pycountry.countries]\n",
    "\n",
    "# Уберем из названий в строках страны\n",
    "for country in tqdm(countries):\n",
    "    train.replace(re.compile(country), \"\", inplace=True)\n",
    "    test.replace(re.compile(country), \"\", inplace=True)"
   ]
  },
  {
   "cell_type": "markdown",
   "metadata": {},
   "source": [
    "## Простые метрики сходства строк - с помощью расстояния Ливенштейна"
   ]
  },
  {
   "cell_type": "markdown",
   "metadata": {},
   "source": [
    "Преобразование с помощью расстояния Левенштейна\n",
    "\n",
    "Непосредственно переходим к расстоянию Левеншейна. Небольшая справка: расстояние Левенштейна — минимальное количество операций вставки одного символа, удаления одного символа и замены одного символа на другой, необходимых для превращения одной строки в другую."
   ]
  },
  {
   "cell_type": "code",
   "execution_count": null,
   "metadata": {},
   "outputs": [],
   "source": [
    "from strsimpy.levenshtein import Levenshtein\n",
    "from strsimpy.normalized_levenshtein import NormalizedLevenshtein\n",
    "\n",
    "levenshtein = Levenshtein()\n",
    "\n",
    "train[\"levenstein\"] = train.progress_apply(lambda r: levenshtein.distance(r.name_1, r.name_2), axis=1)\n",
    "test[\"levenstein\"] = test.progress_apply(lambda r: levenshtein.distance(r.name_1, r.name_2), axis=1)\n",
    "\n",
    "normalized_levenshtein = NormalizedLevenshtein()\n",
    "\n",
    "train[\"norm_levenstein\"] = train.progress_apply(lambda r: normalized_levenshtein.distance(r.name_1, r.name_2),\n",
    "                                                axis=1)\n",
    "test[\"norm_levenstein\"] = test.progress_apply(lambda r: normalized_levenshtein.distance(r.name_1, r.name_2),\n",
    "                                              axis=1)"
   ]
  },
  {
   "cell_type": "markdown",
   "metadata": {},
   "source": [
    "Еще можно использовать библиотеку fuzzywuzzy. Она помогает быстро и просто высчитать расстояние Левенштейна. Для ускорения работы авторы библиотеки советуют также установить библиотеку python-Levenshtein."
   ]
  },
  {
   "cell_type": "markdown",
   "metadata": {},
   "source": [
    "Попробую теперь другой способ - Cosine Similarity. https://towardsdatascience.com/calculating-string-similarity-in-python-276e18a7d33a Это дало рост оценки в 10 раз."
   ]
  },
  {
   "cell_type": "code",
   "execution_count": null,
   "metadata": {},
   "outputs": [],
   "source": [
    "import nltk\n",
    "nltk.download('stopwords')\n",
    "\n",
    "import string\n",
    "from sklearn.metrics.pairwise import cosine_similarity\n",
    "from sklearn.feature_extraction.text import CountVectorizer\n",
    "from nltk.corpus import stopwords\n",
    "stopswords = stopwords.words(['arabic', \n",
    " 'azerbaijani', \n",
    " 'danish', \n",
    " 'dutch', \n",
    " 'english', \n",
    " 'finnish', \n",
    " 'french', \n",
    " 'german', \n",
    " 'greek',\n",
    " 'hungarian', \n",
    " 'indonesian', \n",
    " 'italian', \n",
    " 'kazakh', \n",
    " 'nepali', \n",
    " 'norwegian', \n",
    " 'portuguese', \n",
    " 'romanian', \n",
    " 'russian', \n",
    " 'slovene', \n",
    " 'spanish', \n",
    " 'swedish', \n",
    " 'tajik', \n",
    " 'turkish'])\n",
    "stoplist = set(stopwords.words(['arabic', \n",
    " 'azerbaijani', \n",
    " 'danish', \n",
    " 'dutch', \n",
    " 'english', \n",
    " 'finnish', \n",
    " 'french', \n",
    " 'german', \n",
    " 'greek',\n",
    " 'hungarian', \n",
    " 'indonesian', \n",
    " 'italian', \n",
    " 'kazakh', \n",
    " 'nepali', \n",
    " 'norwegian', \n",
    " 'portuguese', \n",
    " 'romanian', \n",
    " 'russian', \n",
    " 'slovene', \n",
    " 'spanish', \n",
    " 'swedish', \n",
    " 'tajik', \n",
    " 'turkish']))"
   ]
  },
  {
   "cell_type": "code",
   "execution_count": null,
   "metadata": {},
   "outputs": [],
   "source": [
    "def clean_string(text):\n",
    "    text = ''.join([word for word in text if word not in string.punctuation])\n",
    "    text = text.lower()\n",
    "    text = ' '.join([word for word in text.split() if word not in stoplist])\n",
    "\n",
    "    return text\n",
    "\n",
    "train_copy['cleaned_name_1'] = list(map(clean_string, train_copy.name_1))\n",
    "train_copy['cleaned_name_2'] = list(map(clean_string, train_copy.name_2))\n",
    "\n",
    "test_copy['cleaned_name_1'] = list(map(clean_string, test_copy.name_1))\n",
    "test_copy['cleaned_name_2'] = list(map(clean_string, test_copy.name_2))"
   ]
  },
  {
   "cell_type": "code",
   "execution_count": null,
   "metadata": {},
   "outputs": [],
   "source": [
    "from sklearn.feature_extraction.text import HashingVectorizer\n",
    "\n",
    "vectorizer_1 = HashingVectorizer(n_features=2**4).fit_transform(train_copy['cleaned_name_1'])\n",
    "train_copy['hashing_name_1'] = list(vectorizer_1.toarray())\n",
    "\n",
    "vectorizer_2 = HashingVectorizer(n_features=2**4).fit_transform(train_copy['cleaned_name_2'])\n",
    "train_copy['hashing_name_2'] = list(vectorizer_2.toarray())\n",
    "\n",
    "vectorizer_1 = HashingVectorizer(n_features=2**4).fit_transform(test_copy['cleaned_name_1'])\n",
    "test_copy['hashing_name_1'] = list(vectorizer_1.toarray())\n",
    "\n",
    "vectorizer_2 = HashingVectorizer(n_features=2**4).fit_transform(test_copy['cleaned_name_2'])\n",
    "test_copy['hashing_name_2'] = list(vectorizer_2.toarray())"
   ]
  },
  {
   "cell_type": "code",
   "execution_count": null,
   "metadata": {},
   "outputs": [],
   "source": [
    "def cosine_sim_vectors(row):\n",
    "\n",
    "    vec1 = row['hashing_name_1'].reshape(1, -1)\n",
    "    vec2 = row['hashing_name_2'].reshape(1, -1)\n",
    "\n",
    "    return cosine_similarity(vec1, vec2)[0][0]\n",
    "\n",
    "from tqdm import tqdm, tqdm_pandas\n",
    "tqdm_pandas(tqdm())\n",
    "\n",
    "from tqdm import tqdm\n",
    "tqdm.pandas()\n",
    "\n",
    "train_copy['cosine_sim'] = train_copy.apply(cosine_sim_vectors, axis=1)\n",
    "test_copy['cosine_sim'] = test_copy.apply(cosine_sim_vectors, axis=1)"
   ]
  },
  {
   "cell_type": "markdown",
   "metadata": {},
   "source": [
    "## Парсинг данных из ВКонтакте"
   ]
  },
  {
   "cell_type": "code",
   "execution_count": null,
   "metadata": {},
   "outputs": [],
   "source": [
    "# https://habr.com/ru/post/478490/\n",
    "import re\n",
    "import time\n",
    "import pandas as pd\n",
    "\n",
    "import lp\n",
    "import vk_api\n",
    "import check_correctness\n",
    "\n",
    "\n",
    "def auth():\n",
    "    vk_session = vk_api.VkApi(lp.login, lp.password)\n",
    "    vk_session.auth()\n",
    "    vk = vk_session.get_api()\n",
    "    return vk\n",
    "\n",
    "def getDataFromComments(vk, groupID):\n",
    "\n",
    "    #получаем последний пост в группе\n",
    "    posts = vk.wall.get(owner_id=groupID, offset=1, count=90)\n",
    "    print(\"\\n\")\n",
    "    data = pd.DataFrame(columns=['text', 'post_id', \"date\", \"day_in_week\", \"hour\",\"minute\", \"day_in_month\"])\n",
    "\n",
    "    for post in posts.get(\"items\"):\n",
    "        #получаем id последнего поста в группе\n",
    "        postID = post.get(\"id\")\n",
    "\n",
    "        if \"Всем удачного дня, платите за проезд и не попадайтесь контролю\" not in post.get(\"text\"):\n",
    "            continue\n",
    "\n",
    "        #получаем объект commentary чтобы из него вытащить число комментариев\n",
    "        comments = vk.wall.getComments(owner_id=groupID, post_id=postID, count=200)\n",
    "\n",
    "        # проходимся по массиву комментариев и достаем всё что нужно в dataframe\n",
    "        for comment in comments.get(\"items\"):\n",
    "\n",
    "            text = comment.get(\"text\")\n",
    "            text = re.sub(r\"A-Za-zА-Яа-я0123456789 \", \"\", str(text))\n",
    "            commentaryIsNice = check_correctness.detection(text)\n",
    "            if commentaryIsNice:\n",
    "                print(text)\n",
    "                date = comment.get(\"date\")\n",
    "                time_struct = time.gmtime(date)\n",
    "                post_id = comment.get(\"post_id\")\n",
    "                data = data.append({\"text\": text, \"post_id\" : post_id,\n",
    "                                    \"date\": date,\"day_in_week\" : time_struct.tm_wday,\n",
    "                                    \"hour\": (time_struct.tm_hour+3),\n",
    "                                    \"minute\": time_struct.tm_min,\n",
    "                                    \"day_in_month\": time_struct.tm_mday}, ignore_index=True)\n",
    "\n",
    "\n",
    "    # print(data[:10])\n",
    "    # print(data.info())\n",
    "\n",
    "    print(\"dataset is ready\")\n",
    "    return data"
   ]
  }
 ],
 "metadata": {
  "kernelspec": {
   "display_name": "Python 3",
   "language": "python",
   "name": "python3"
  },
  "language_info": {
   "codemirror_mode": {
    "name": "ipython",
    "version": 3
   },
   "file_extension": ".py",
   "mimetype": "text/x-python",
   "name": "python",
   "nbconvert_exporter": "python",
   "pygments_lexer": "ipython3",
   "version": "3.8.3"
  }
 },
 "nbformat": 4,
 "nbformat_minor": 4
}
